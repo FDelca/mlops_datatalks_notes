{
 "cells": [
  {
   "cell_type": "markdown",
   "metadata": {},
   "source": [
    "## 5 - Monitoring "
   ]
  },
  {
   "cell_type": "markdown",
   "metadata": {},
   "source": [
    "### 5.1 - Monitoring for ML-based services"
   ]
  },
  {
   "cell_type": "markdown",
   "metadata": {},
   "source": [
    "**What to monitor?**\n",
    "\n",
    "- Service health;\n",
    "- Model Performance; (feedback about the model sometimes has a certain delay)\n",
    "- Data quality and integrity;\n",
    "- Data and Concept Drift\n",
    "\n",
    "Extra Comprehensive monitoring:\n",
    "- Performance by segment;\n",
    "- Model bias/fairness;\n",
    "- Outliers;\n",
    "- Explainability"
   ]
  },
  {
   "cell_type": "markdown",
   "metadata": {},
   "source": [
    "**Architecture ML Service**"
   ]
  },
  {
   "cell_type": "markdown",
   "metadata": {},
   "source": [
    " ![](images/2022-07-11-16-06-16.png)"
   ]
  },
  {
   "cell_type": "markdown",
   "metadata": {},
   "source": [
    "For this we need to create:\n",
    "1. app.py file\n",
    "2. DockerFile\n",
    "3. requirements.txt\n",
    "4. model file (already created in previous week)"
   ]
  },
  {
   "cell_type": "markdown",
   "metadata": {},
   "source": [
    "### 5.2 - Setting up the environment"
   ]
  },
  {
   "cell_type": "markdown",
   "metadata": {},
   "source": [
    "- Docker-compose:\n",
    "\n",
    "Is responsible for having everything organize per service. Such as dependencies, ports, versions, etc.\n",
    "\n"
   ]
  },
  {
   "cell_type": "markdown",
   "metadata": {},
   "source": [
    "Run: `docker compose up` - to test the service created"
   ]
  },
  {
   "cell_type": "markdown",
   "metadata": {},
   "source": [
    "### 5.3 - Creating a prediction service and simulating traffic"
   ]
  },
  {
   "cell_type": "markdown",
   "metadata": {},
   "source": [
    "Two types of monitoring: **online** and **batch** monitoring."
   ]
  },
  {
   "cell_type": "markdown",
   "metadata": {},
   "source": [
    "- We can use `send_data.py` to send the data to our system;\n",
    "- Then check the `mongo db`"
   ]
  },
  {
   "cell_type": "markdown",
   "metadata": {},
   "source": [
    "```python\n",
    "import pymongo\n",
    "client = pymongo.MongoClient('mongodb://localhost:27018')\n",
    "db = client.get_database('prediction_service')\n",
    "data_collection = db.get_collection('data')\n",
    "data = list(data_collection.find())\n",
    "```"
   ]
  },
  {
   "cell_type": "markdown",
   "metadata": {},
   "source": [
    "- One can then stop running and check grafana "
   ]
  }
 ],
 "metadata": {
  "kernelspec": {
   "display_name": "Python 3.10.4 64-bit",
   "language": "python",
   "name": "python3"
  },
  "language_info": {
   "name": "python",
   "version": "3.10.4"
  },
  "orig_nbformat": 4,
  "vscode": {
   "interpreter": {
    "hash": "916dbcbb3f70747c44a77c7bcd40155683ae19c65e1c03b4aa3499c5328201f1"
   }
  }
 },
 "nbformat": 4,
 "nbformat_minor": 2
}
