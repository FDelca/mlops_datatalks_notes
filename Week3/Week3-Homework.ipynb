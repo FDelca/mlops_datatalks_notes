{
 "cells": [
  {
   "cell_type": "markdown",
   "id": "3d0a7762",
   "metadata": {},
   "source": [
    "# Q1: Converting the script to a Prefect flow"
   ]
  },
  {
   "cell_type": "markdown",
   "id": "e40f6c00",
   "metadata": {},
   "source": [
    "```python\n",
    "@flow(task_runner=SequentialTaskRunner())\n",
    "def main(train_path: str = 'data/fhv_tripdata_2021-01.parquet', val_path: str = 'data/fhv_tripdata_2021-02.parquet'):\n",
    "\n",
    "    categorical = ['PUlocationID', 'DOlocationID']\n",
    "\n",
    "    df_train = read_data(train_path)\n",
    "    df_train_processed = prepare_features(df_train, categorical)\n",
    "\n",
    "    df_val = read_data(val_path)\n",
    "    df_val_processed = prepare_features(df_val, categorical, False)\n",
    "\n",
    "    # train the model\n",
    "    lr, dv = train_model(df_train_processed, categorical).result()\n",
    "    run_model(df_val_processed, categorical, dv, lr)\n",
    "\n",
    "main()\n",
    "```"
   ]
  },
  {
   "cell_type": "markdown",
   "id": "350076cb",
   "metadata": {},
   "source": [
    "After adding all of the decorators, there is actually one task that you will need to call .result() for inside the flow to get it to work. \n",
    "\n",
    "### Which task is this?"
   ]
  },
  {
   "cell_type": "code",
   "execution_count": 2,
   "id": "6e30f6b0",
   "metadata": {
    "ExecuteTime": {
     "end_time": "2022-06-06T17:19:57.210410Z",
     "start_time": "2022-06-06T17:19:57.207049Z"
    }
   },
   "outputs": [
    {
     "name": "stdout",
     "output_type": "stream",
     "text": [
      "Answer: train_model\n"
     ]
    }
   ],
   "source": [
    "A1 = 'train_model'\n",
    "print(f'Answer: {A1}')"
   ]
  },
  {
   "cell_type": "markdown",
   "id": "1d5e5c19",
   "metadata": {},
   "source": [
    "# Q2: Parameterizing the flow"
   ]
  },
  {
   "cell_type": "markdown",
   "id": "beb17ea0",
   "metadata": {},
   "source": [
    "Where get_paths is a task that you have to implement. The specs for this are outlined in the motivation section. Listing them out again here:\n",
    "\n",
    "The flow will take in a parameter called date which will be a datetime. a. date should default to None b. If date is None, use the current day. Use the data from 2 months back as the training data and the data from the previous month as validation data. c. If a date value is supplied, get 2 months before the date as the training data, and the previous month as validation data. d. As a concrete example, if the date passed is \"2021-03-15\", the training data should be \"fhv_tripdata_2021-01.parquet\" and the validation file will be \"fhv_trip_data_2021-02.parquet\""
   ]
  },
  {
   "cell_type": "markdown",
   "id": "14906f9d",
   "metadata": {},
   "source": [
    "**The solution:**\n",
    "\n",
    "```python\n",
    "@task\n",
    "def get_paths(date):\n",
    "    logger = get_run_logger()\n",
    "\n",
    "    if date == None:\n",
    "        date = datetime.date.today()\n",
    "    else:\n",
    "        date = pd.to_datetime(date)\n",
    "\n",
    "    date_train = date - relativedelta(months=2)\n",
    "    date_val = date - relativedelta(months=1)\n",
    "\n",
    "    date_train = date_train.strftime(\"%Y-%m\")\n",
    "    date_val = date_val.strftime(\"%Y-%m\")\n",
    "    \n",
    "    # Complete val and train path\n",
    "    train_path = 'data/fhv_tripdata_'+date_train+'.parquet'\n",
    "    val_path = 'data/fhv_tripdata_'+date_val+'.parquet'  \n",
    "    \n",
    "    if not os.path.exists(train_path):\n",
    "        url = f\"https://nyc-tlc.s3.amazonaws.com/trip+data/fhv_tripdata_{date_train}.parquet\"\n",
    "        os.system(f\"wget {url} -P \\data\")\n",
    "    \n",
    "    if not os.path.exists(val_path):\n",
    "        url = f\"https://nyc-tlc.s3.amazonaws.com/trip+data/fhv_tripdata_{date_val}.parquet\"\n",
    "        os.system(f\"wget {url} -P \\data\")    \n",
    "\n",
    "        \n",
    "    logger.info(f\"Train path: {train_path}\")\n",
    "    logger.info(f\"Val path: {val_path}\")\n",
    "\n",
    "    return train_path, val_path\n",
    "```"
   ]
  },
  {
   "cell_type": "markdown",
   "id": "691cec51",
   "metadata": {},
   "source": [
    "This solution, will get the date input and return the paths that will be used for training and validation. This is defined by the given date. The training data is 2 months and the validation 1 months prior the given date."
   ]
  },
  {
   "cell_type": "code",
   "execution_count": 76,
   "id": "006379a5",
   "metadata": {
    "ExecuteTime": {
     "end_time": "2022-06-07T15:04:57.897209Z",
     "start_time": "2022-06-07T15:04:57.894679Z"
    }
   },
   "outputs": [],
   "source": [
    "# ! python homework --date \"2021-03-15\""
   ]
  },
  {
   "cell_type": "markdown",
   "id": "e4a55c7a",
   "metadata": {},
   "source": [
    "### By setting up the logger to `\"2021-08-15\"`, we should see some logs about our training job. \n",
    "\n",
    "### What is the validation MSE when running the flow with this date?"
   ]
  },
  {
   "cell_type": "code",
   "execution_count": 78,
   "id": "dfced628",
   "metadata": {
    "ExecuteTime": {
     "end_time": "2022-06-07T15:09:00.260447Z",
     "start_time": "2022-06-07T15:09:00.256750Z"
    }
   },
   "outputs": [
    {
     "name": "stdout",
     "output_type": "stream",
     "text": [
      "Answer: The MSE of validation is: 11.637032331753268\n"
     ]
    }
   ],
   "source": [
    "A2 = 'The MSE of validation is: 11.637032331753268'\n",
    "print(f'Answer: {A2}')"
   ]
  },
  {
   "cell_type": "markdown",
   "id": "816f0e61",
   "metadata": {},
   "source": [
    "# Q3: Saving the model and artifacts"
   ]
  },
  {
   "cell_type": "markdown",
   "id": "17e034e5",
   "metadata": {},
   "source": [
    "- Save the model as \"model-{date}.pkl\" where date is in YYYY-MM-DD. Note that date here is the value of the flow parameter. In practice, this setup makes it very easy to get the latest model to run predictions because you just need to get the most recent one.\n",
    "- In this example we use a DictVectorizer. That is needed to run future data through our model. Save that as \"dv-{date}.pkl\". Similar to above, if the date is 2021-03-15, the files output should be model-2021-03-15.bin and dv-2021-03-15.b."
   ]
  },
  {
   "cell_type": "markdown",
   "id": "e944cc3b",
   "metadata": {},
   "source": [
    "### What is the file size of the `DictVectorizer` that we trained when the date is 2021-08-15?"
   ]
  },
  {
   "cell_type": "code",
   "execution_count": 79,
   "id": "de0c9e04",
   "metadata": {
    "ExecuteTime": {
     "end_time": "2022-06-07T15:19:49.245274Z",
     "start_time": "2022-06-07T15:19:49.127331Z"
    }
   },
   "outputs": [
    {
     "name": "stdout",
     "output_type": "stream",
     "text": [
      "total 332\r\n",
      "drwxrwxr-x 2 fdelca fdelca   4096 jun  7 16:19 .\r\n",
      "drwxrwxr-x 8 fdelca fdelca   4096 jun  7 16:17 ..\r\n",
      "-rw-rw-r-- 1 fdelca fdelca  13191 jun  7 16:19 dv-2021-08-15.bin\r\n",
      "-rw-rw-r-- 1 fdelca fdelca   4581 jun  7 16:19 model-2021-08-15.bin\r\n",
      "-rw-rw-r-- 1 fdelca fdelca 305256 jun  6 18:05 preprocessor.b\r\n"
     ]
    }
   ],
   "source": [
    "! ls -la models"
   ]
  },
  {
   "cell_type": "code",
   "execution_count": 80,
   "id": "0e371ff9",
   "metadata": {
    "ExecuteTime": {
     "end_time": "2022-06-07T15:20:14.122104Z",
     "start_time": "2022-06-07T15:20:14.118736Z"
    }
   },
   "outputs": [
    {
     "name": "stdout",
     "output_type": "stream",
     "text": [
      "Answer: 13191\n"
     ]
    }
   ],
   "source": [
    "A3 = 13191\n",
    "print(f'Answer: {A3}')"
   ]
  },
  {
   "cell_type": "markdown",
   "id": "19b62481",
   "metadata": {},
   "source": [
    "# Q4: Creating a deployment with a CronSchedule"
   ]
  },
  {
   "cell_type": "markdown",
   "id": "35fa391f",
   "metadata": {},
   "source": [
    "We previously showed the `IntervalSchedule` in the video tutorials. In some cases, the interval is too rigid. For example, what if we wanted to run this flow on the 15th of every month? An interval of 30 days would not be in sync. In cases like these, the `CronSchedule` is more appropriate. The documentation for that is [here](https://orion-docs.prefect.io/concepts/schedules/#cronschedule)"
   ]
  },
  {
   "cell_type": "markdown",
   "id": "c61de559",
   "metadata": {},
   "source": [
    "### What is the Cron expression to run a flow at 9 AM every 15th of the month?\n",
    "\n",
    "One can use this [link](https://crontab.guru/#0_9_15_*_*) to get the right code to feed to cron function"
   ]
  },
  {
   "cell_type": "markdown",
   "id": "5f783ee8",
   "metadata": {},
   "source": [
    "```python\n",
    "@flow(task_runner=SequentialTaskRunner())\n",
    "def main(date=\"2021-08-15\"):\n",
    "\n",
    "    train_path, val_path = get_paths(date).result()\n",
    "\n",
    "    categorical = ['PUlocationID', 'DOlocationID']\n",
    "\n",
    "    df_train = read_data(train_path)\n",
    "    df_train_processed = prepare_features(df_train, categorical)\n",
    "\n",
    "    df_val = read_data(val_path)\n",
    "    df_val_processed = prepare_features(df_val, categorical, False)\n",
    "\n",
    "    # train the model\n",
    "    lr, dv = train_model(df_train_processed, categorical).result()\n",
    "    run_model(df_val_processed, categorical, dv, lr)\n",
    "\n",
    "    # Save models\n",
    "    with open(f\"models/model-{date}.bin\", 'wb') as f_out:\n",
    "        pickle.dump(lr, f_out)\n",
    "\n",
    "    with open(f\"models/dv-{date}.bin\", 'wb') as f_out:\n",
    "        pickle.dump(dv, f_out)\n",
    "\n",
    "\n",
    "from prefect.deployments import DeploymentSpec\n",
    "from prefect.orion.schemas.schedules import CronSchedule\n",
    "from prefect.flow_runners import SubprocessFlowRunner\n",
    "\n",
    "DeploymentSpec(\n",
    "    flow=main,\n",
    "    name='model_training',\n",
    "    schedule=CronSchedule(cron='0 9 15 * *'), #We can set a timezone, by default uses your computer time\n",
    "    flow_runner=SubprocessFlowRunner(),\n",
    "    tags=['first_model'],\n",
    ")\n",
    "```"
   ]
  },
  {
   "cell_type": "markdown",
   "id": "7e44eba9",
   "metadata": {},
   "source": [
    "# Q5: Viewing the Deployment"
   ]
  },
  {
   "cell_type": "markdown",
   "id": "7732dcc5",
   "metadata": {},
   "source": [
    "View the deployment in the UI. When first loading, we may not see that many flows because the default filter is 1 day back and 1 day forward. Remove the filter for 1 day forward to see the scheduled runs.\n",
    "\n",
    "### How many flow runs are scheduled by Prefect in advanced? You should not be counting manually. There is a number of upcoming runs on the top right of the dashboard."
   ]
  },
  {
   "attachments": {
    "image.png": {
     "image/png": "[encoded data removed]"
    }
   },
   "cell_type": "markdown",
   "id": "b0a86a5a",
   "metadata": {},
   "source": [
    "![image.png](attachment:image.png)"
   ]
  },
  {
   "cell_type": "code",
   "execution_count": 85,
   "id": "f4deadad",
   "metadata": {
    "ExecuteTime": {
     "end_time": "2022-06-07T16:05:17.104801Z",
     "start_time": "2022-06-07T16:05:17.094790Z"
    }
   },
   "outputs": [
    {
     "name": "stdout",
     "output_type": "stream",
     "text": [
      "Answer: 4\n"
     ]
    }
   ],
   "source": [
    "A5 = 4\n",
    "print(f'Answer: {A5}')"
   ]
  },
  {
   "cell_type": "markdown",
   "id": "a54d636e",
   "metadata": {},
   "source": [
    "There is no option, for `4`"
   ]
  },
  {
   "cell_type": "markdown",
   "id": "67940cd1",
   "metadata": {},
   "source": [
    "# Q6: Creating a work-queue"
   ]
  },
  {
   "cell_type": "markdown",
   "id": "47b21ef5",
   "metadata": {},
   "source": [
    "In order to run this flow, you will need an agent and a work queue (Run it by using the UI). Because we scheduled our flow or every month, it won't really get picked up by an agent. For this exercise, create a work-queue from the UI and view it using the CLI.\n",
    "\n",
    "For all CLI commands with Prefect, you can use `--help` to get more information.\n",
    "\n",
    "For example,\n",
    "\n",
    "- `prefect --help`\n",
    "- `prefect work-queue --help`\n",
    "\n",
    "\n",
    "### What is the command to view the available work-queues?"
   ]
  },
  {
   "cell_type": "code",
   "execution_count": 86,
   "id": "eb238ada",
   "metadata": {
    "ExecuteTime": {
     "end_time": "2022-06-07T16:07:46.548608Z",
     "start_time": "2022-06-07T16:07:44.915304Z"
    },
    "scrolled": true
   },
   "outputs": [
    {
     "name": "stdout",
     "output_type": "stream",
     "text": [
      "\u001b[3m                                  Work Queues                                   \u001b[0m\r\n",
      "┏━━━━━━━━━━━━━━━━━━━━━━━━━━━━━━━━━━━━━━┳━━━━━━━━━━━━━━━━━━━━┳━━━━━━━━━━━━━━━━━━┓\r\n",
      "┃\u001b[1m \u001b[0m\u001b[1m                                  ID\u001b[0m\u001b[1m \u001b[0m┃\u001b[1m \u001b[0m\u001b[1mName              \u001b[0m\u001b[1m \u001b[0m┃\u001b[1m \u001b[0m\u001b[1mConcurrency Lim…\u001b[0m\u001b[1m \u001b[0m┃\r\n",
      "┡━━━━━━━━━━━━━━━━━━━━━━━━━━━━━━━━━━━━━━╇━━━━━━━━━━━━━━━━━━━━╇━━━━━━━━━━━━━━━━━━┩\r\n",
      "│\u001b[36m \u001b[0m\u001b[36m64f7fa98-4e64-4a3d-beab-3fd8601d5cc4\u001b[0m\u001b[36m \u001b[0m│\u001b[32m \u001b[0m\u001b[32mRun model_training\u001b[0m\u001b[32m \u001b[0m│\u001b[34m \u001b[0m\u001b[34mNone\u001b[0m\u001b[34m            \u001b[0m\u001b[34m \u001b[0m│\r\n",
      "└──────────────────────────────────────┴────────────────────┴──────────────────┘\r\n",
      "\u001b[31m                          (**) denotes a paused queue                           \u001b[0m\r\n"
     ]
    }
   ],
   "source": [
    "! prefect work-queue ls"
   ]
  },
  {
   "cell_type": "code",
   "execution_count": 87,
   "id": "f4dbfe41",
   "metadata": {
    "ExecuteTime": {
     "end_time": "2022-06-07T16:07:50.697492Z",
     "start_time": "2022-06-07T16:07:50.688758Z"
    }
   },
   "outputs": [
    {
     "name": "stdout",
     "output_type": "stream",
     "text": [
      "Answer: prefect work-queue ls\n"
     ]
    }
   ],
   "source": [
    "A6 = 'prefect work-queue ls'\n",
    "print(f'Answer: {A6}')"
   ]
  },
  {
   "cell_type": "markdown",
   "id": "c125d342",
   "metadata": {},
   "source": [
    "# Full Code"
   ]
  },
  {
   "cell_type": "markdown",
   "id": "6cb86c90",
   "metadata": {},
   "source": [
    "```python\n",
    "import os\n",
    "import argparse\n",
    "import pandas as pd\n",
    "import pickle\n",
    "import datetime\n",
    "from dateutil.relativedelta import relativedelta\n",
    "\n",
    "\n",
    "from sklearn.feature_extraction import DictVectorizer\n",
    "from sklearn.linear_model import LinearRegression\n",
    "from sklearn.metrics import mean_squared_error\n",
    "\n",
    "from prefect import flow, task, get_run_logger\n",
    "from prefect.task_runners import SequentialTaskRunner\n",
    "\n",
    "\n",
    "@task\n",
    "def read_data(path):\n",
    "    df = pd.read_parquet(path)\n",
    "    return df\n",
    "\n",
    "@task\n",
    "def prepare_features(df, categorical, train=True):\n",
    "\n",
    "    logger = get_run_logger()\n",
    "    df['duration'] = df.dropOff_datetime - df.pickup_datetime\n",
    "    df['duration'] = df.duration.dt.total_seconds() / 60\n",
    "    df = df[(df.duration >= 1) & (df.duration <= 60)].copy()\n",
    "\n",
    "    mean_duration = df.duration.mean()\n",
    "    if train:\n",
    "        logger.info(f\"The mean duration of training is {mean_duration}\")\n",
    "    else:\n",
    "        logger.info(f\"The mean duration of validation is {mean_duration}\")\n",
    "\n",
    "    df[categorical] = df[categorical].fillna(-1).astype('int').astype('str')\n",
    "    return df\n",
    "\n",
    "@task\n",
    "def train_model(df, categorical):\n",
    "    logger = get_run_logger()\n",
    "\n",
    "    train_dicts = df[categorical].to_dict(orient='records')\n",
    "    dv = DictVectorizer()\n",
    "    X_train = dv.fit_transform(train_dicts) \n",
    "    y_train = df.duration.values\n",
    "\n",
    "    logger.info(f\"The shape of X_train is {X_train.shape}\")\n",
    "    logger.info(f\"The DictVectorizer has {len(dv.feature_names_)} features\")\n",
    "\n",
    "    lr = LinearRegression()\n",
    "    lr.fit(X_train, y_train)\n",
    "    y_pred = lr.predict(X_train)\n",
    "    mse = mean_squared_error(y_train, y_pred, squared=False)\n",
    "    logger.info(f\"The MSE of training is: {mse}\")\n",
    "    return lr, dv\n",
    "\n",
    "@task\n",
    "def run_model(df, categorical, dv, lr):\n",
    "    logger = get_run_logger()\n",
    "    val_dicts = df[categorical].to_dict(orient='records')\n",
    "    X_val = dv.transform(val_dicts) \n",
    "    y_pred = lr.predict(X_val)\n",
    "    y_val = df.duration.values\n",
    "\n",
    "    mse = mean_squared_error(y_val, y_pred, squared=False)\n",
    "    logger.info(f\"The MSE of validation is: {mse}\")\n",
    "    return\n",
    "\n",
    "@task\n",
    "def get_paths(date):\n",
    "    logger = get_run_logger()\n",
    "\n",
    "    if date == None:\n",
    "        date = datetime.date.today()\n",
    "    else:\n",
    "        date = pd.to_datetime(date)\n",
    "\n",
    "    date_train = date - relativedelta(months=2)\n",
    "    date_val = date - relativedelta(months=1)\n",
    "\n",
    "    date_train = date_train.strftime(\"%Y-%m\")\n",
    "    date_val = date_val.strftime(\"%Y-%m\")\n",
    "    \n",
    "    # Complete val and train path\n",
    "    train_path = 'data/fhv_tripdata_'+date_train+'.parquet'\n",
    "    val_path = 'data/fhv_tripdata_'+date_val+'.parquet'  \n",
    "    \n",
    "    if not os.path.exists(train_path):\n",
    "        url = f\"https://nyc-tlc.s3.amazonaws.com/trip+data/fhv_tripdata_{date_train}.parquet\"\n",
    "        try:\n",
    "            os.system(f\"wget {url} -P \\data\")\n",
    "        except:\n",
    "            logger.warning(f\"{url} not available\")\n",
    "            raise Exception('Train data not available')\n",
    "    \n",
    "    if not os.path.exists(val_path):\n",
    "        url = f\"https://nyc-tlc.s3.amazonaws.com/trip+data/fhv_tripdata_{date_val}.parquet\"\n",
    "        try:\n",
    "            os.system(f\"wget {url} -P \\data\")\n",
    "        except:\n",
    "            logger.warning(f\"{url} not available\")\n",
    "            raise Exception('Val data not available')\n",
    "\n",
    "\n",
    "        \n",
    "    logger.info(f\"Train path: {train_path}\")\n",
    "    logger.info(f\"Val path: {val_path}\")\n",
    "\n",
    "    return train_path, val_path\n",
    "\n",
    "\n",
    "@flow(task_runner=SequentialTaskRunner())\n",
    "def main(date=\"2021-08-15\"):\n",
    "\n",
    "    train_path, val_path = get_paths(date).result()\n",
    "\n",
    "    categorical = ['PUlocationID', 'DOlocationID']\n",
    "\n",
    "    df_train = read_data(train_path)\n",
    "    df_train_processed = prepare_features(df_train, categorical)\n",
    "\n",
    "    df_val = read_data(val_path)\n",
    "    df_val_processed = prepare_features(df_val, categorical, False)\n",
    "\n",
    "    # train the model\n",
    "    lr, dv = train_model(df_train_processed, categorical).result()\n",
    "    run_model(df_val_processed, categorical, dv, lr)\n",
    "\n",
    "    # Save models\n",
    "    with open(f\"models/model-{date}.bin\", 'wb') as f_out:\n",
    "        pickle.dump(lr, f_out)\n",
    "\n",
    "    with open(f\"models/dv-{date}.bin\", 'wb') as f_out:\n",
    "        pickle.dump(dv, f_out)\n",
    "\n",
    "\n",
    "from prefect.deployments import DeploymentSpec\n",
    "from prefect.orion.schemas.schedules import CronSchedule\n",
    "from prefect.flow_runners import SubprocessFlowRunner\n",
    "\n",
    "DeploymentSpec(\n",
    "    flow=main,\n",
    "    name='model_training',\n",
    "    schedule=CronSchedule(cron='0 9 15 * *'),\n",
    "    flow_runner=SubprocessFlowRunner(),\n",
    "    tags=['first_model'],\n",
    ")\n",
    "\n",
    "\n",
    "# For Question 1/2/3\n",
    "#if __name__ == '__main__':\n",
    "#\n",
    "#   parser = argparse.ArgumentParser()\n",
    "#    parser.add_argument(\n",
    "#        \"--date\",\n",
    "#        default=None,\n",
    "#        help=\"Date to catch the data to train and validate\"\n",
    "#    )\n",
    "#    args = parser.parse_args()\n",
    "#\n",
    "#    main(args.date)\n",
    "```"
   ]
  }
 ],
 "metadata": {
  "kernelspec": {
   "display_name": "Python 3 (ipykernel)",
   "language": "python",
   "name": "python3"
  },
  "language_info": {
   "codemirror_mode": {
    "name": "ipython",
    "version": 3
   },
   "file_extension": ".py",
   "mimetype": "text/x-python",
   "name": "python",
   "nbconvert_exporter": "python",
   "pygments_lexer": "ipython3",
   "version": "3.9.13"
  },
  "toc": {
   "base_numbering": 1,
   "nav_menu": {},
   "number_sections": false,
   "sideBar": true,
   "skip_h1_title": false,
   "title_cell": "Table of Contents",
   "title_sidebar": "Contents",
   "toc_cell": false,
   "toc_position": {},
   "toc_section_display": true,
   "toc_window_display": false
  }
 },
 "nbformat": 4,
 "nbformat_minor": 5
}
