{
 "cells": [
  {
   "cell_type": "markdown",
   "id": "9b7d0f36",
   "metadata": {},
   "source": [
    "# 1st Lesson: [Negative Engineering and Workflow Orchestration](https://www.youtube.com/watch?v=eKzCjNXoCTc&list=PL3MmuxUbc_hIUISrluw_A7wDSmfOhErJK&index=20)"
   ]
  },
  {
   "cell_type": "markdown",
   "id": "55fe48c7",
   "metadata": {},
   "source": [
    "### Orchestration with Prefect - [Docs](https://orion-docs.prefect.io/)\n",
    "\n",
    "- Automate the different steps - workflow orchestration with prefect;\n",
    "- Machine Learning Pipeline with Kubeflow;\n",
    "\n",
    "**Extra:** [Fugue](https://github.com/fugue-project/fugue) - unified interface for distributed computing that lets users execute Python, pandas, and SQL code on Spark and Dask without rewrites;\n",
    "\n",
    "\n",
    "### Workflow Orchestration\n",
    "\n",
    "- Set of tools that schedule and monitor work that one wants to acomplish\n",
    "- Minize the impact of errors that are \"normal\" to occur in a workflow\n",
    "\t- Failure mechanisms\n",
    "\n",
    "**Negative Engineering**\n",
    "\n",
    "90% of engineering time spent\n",
    "\n",
    "- Retries when APIs go down;\n",
    "- Malformed Data;\n",
    "- Notifications;\n",
    "- Observability into Failure;\n",
    "- Conditional Failure Logic;\n",
    "- Timeouts\n",
    "\n",
    "**NOTE:** Prefect helps to reduce the negative engineering to 70%/80% leaving you with more time to work in modelling."
   ]
  },
  {
   "cell_type": "markdown",
   "id": "28697e25",
   "metadata": {},
   "source": [
    "# 2nd Lesson: [Introduction to Prefect 2.0](https://www.youtube.com/watch?v=Yb6NJwI7bXw&list=PL3MmuxUbc_hIUISrluw_A7wDSmfOhErJK&index=20)"
   ]
  },
  {
   "cell_type": "markdown",
   "id": "27f4cf07",
   "metadata": {},
   "source": [
    "#### Introduction Prefect - Goal eliminate negative engineering\n",
    "\n",
    "- open-source;\n",
    "- python-based;\n",
    "- modern data stack;\n",
    "- native dask integration;\n",
    "- very active community;\n",
    "- prefect cloud/server; - AWS\n",
    "- prefect orion (prefect 2.0) - AWS\n",
    "\n",
    "\n",
    "#### Filesystem organization:\n",
    "- ``orchestration.py`` - is the goal;\n",
    "- ``requirements.txt``;\n",
    "\n",
    "### Steps:\n",
    "1. Copy past week duration-prediction code to a py script - named: ``model_training.py``\n",
    "2. Test it in your environment to check if it works properly\n",
    "3. Define set_tracking_url: ``mlflow.set_tracking_uri(\"sqlite:///backend.db\")``\n",
    "4. Run in the terminal: ``mlflow server --backend-store-uri sqlite:///backend.db --default-artifact-root ./artifacts_local`` \n",
    "5. Run the `model_training.py` function in the terminal: ```python model_training.py```"
   ]
  },
  {
   "cell_type": "code",
   "execution_count": 1,
   "id": "6c05fe07",
   "metadata": {},
   "outputs": [
    {
     "name": "stdout",
     "output_type": "stream",
     "text": [
      "total 244\r\n",
      "drwxr-xr-x 7 fdelca fdelca   4096 Jun  2 15:11 .\r\n",
      "drwxr-xr-x 8 fdelca fdelca   4096 Jun  2 11:18 ..\r\n",
      "-rw-r--r-- 1 fdelca fdelca     67 Jun  2 11:24 .gitignore\r\n",
      "drwxr-xr-x 2 fdelca fdelca   4096 Jun  2 11:27 .ipynb_checkpoints\r\n",
      "-rw-r--r-- 1 fdelca fdelca   1394 Jun  2 11:24 README.md\r\n",
      "-rw-r--r-- 1 fdelca fdelca  16106 Jun  2 15:09 Week3-LearningNotes.ipynb\r\n",
      "-rw-r--r-- 1 fdelca fdelca 143360 Jun  2 15:11 backend.db\r\n",
      "drwxr-xr-x 2 fdelca fdelca   4096 Jun  2 12:41 data\r\n",
      "-rw-r--r-- 1 fdelca fdelca     11 Jun  2 11:24 homework.md\r\n",
      "drwxr-xr-x 2 fdelca fdelca   4096 Jun  2 11:24 images\r\n",
      "-rw-r--r-- 1 fdelca fdelca    910 Jun  2 11:24 meta.json\r\n",
      "drwxr-xr-x 3 fdelca fdelca   4096 Jun  2 15:11 mlruns\r\n",
      "-rw-r--r-- 1 fdelca fdelca   6185 Jun  2 15:07 model_training.py\r\n",
      "drwxr-xr-x 2 fdelca fdelca   4096 Jun  2 15:11 models\r\n",
      "-rw-r--r-- 1 fdelca fdelca   5051 Jun  2 11:24 orchestration.py\r\n",
      "-rw-r--r-- 1 fdelca fdelca   5023 Jun  2 11:24 prefect_deploy.py\r\n",
      "-rw-r--r-- 1 fdelca fdelca   4674 Jun  2 11:24 prefect_flow.py\r\n",
      "-rw-r--r-- 1 fdelca fdelca     86 Jun  2 11:24 requirements.txt\r\n",
      "-rw-r--r-- 1 fdelca fdelca    634 Jun  2 11:24 work-queue.py\r\n"
     ]
    }
   ],
   "source": [
    "! ls -la"
   ]
  },
  {
   "cell_type": "markdown",
   "id": "d5537850",
   "metadata": {},
   "source": [
    "# 3rd Lesson: [First Prefect flow and basics](https://www.youtube.com/watch?v=MCFpURG506w&list=PL3MmuxUbc_hIUISrluw_A7wDSmfOhErJK&index=21)"
   ]
  },
  {
   "cell_type": "markdown",
   "id": "aee15f81",
   "metadata": {},
   "source": [
    "Topics:\n",
    "- Sample use-cases with MLflow;\n",
    "- Installing prefect on local;\n",
    "- Add them all to a flow and run locally;\n",
    "- Turn functions into tasks;\n",
    "- Parameters and Type Checking;\n",
    "- Show the Local UI and the flow run information"
   ]
  },
  {
   "cell_type": "code",
   "execution_count": 4,
   "id": "d1891f03",
   "metadata": {},
   "outputs": [],
   "source": [
    "# ! pip install prefect==2.0b5"
   ]
  },
  {
   "cell_type": "markdown",
   "id": "0b9d44a8",
   "metadata": {},
   "source": [
    "**Notes:**\n",
    "\n",
    "1. By adding `@task` to a function we need to add ``.result()`` method when we are calling the function. (e.g. function ``add_features()`` in ``prefect_flow.py``;\n",
    "\n",
    "2. One can start the local UI by using: `prefect orion start` in the terminal, similar to `mlflow`\n",
    "\n",
    "3. By default **Perfect** will try to run the tasks in a parallel manner, so if they are dependent of each other will not run properly, one must give a parameter to ``@flow`` function, like this:\n",
    "    - ``@flow(flow_runner=SequentialTaskRunner())`` or ``@flow(flow_runner=ConcurrentTaskRunner())``"
   ]
  },
  {
   "cell_type": "markdown",
   "id": "f1fba17d",
   "metadata": {},
   "source": [
    "# 4th Lesson: [Remote Prefect Orion deployment](https://www.youtube.com/watch?v=ComkSIAB0k4&list=PL3MmuxUbc_hIUISrluw_A7wDSmfOhErJK&index=22)"
   ]
  },
  {
   "cell_type": "markdown",
   "id": "5244c114",
   "metadata": {},
   "source": [
    "-- Tomorrow --"
   ]
  }
 ],
 "metadata": {
  "kernelspec": {
   "display_name": "Python 3 (ipykernel)",
   "language": "python",
   "name": "python3"
  },
  "language_info": {
   "codemirror_mode": {
    "name": "ipython",
    "version": 3
   },
   "file_extension": ".py",
   "mimetype": "text/x-python",
   "name": "python",
   "nbconvert_exporter": "python",
   "pygments_lexer": "ipython3",
   "version": "3.7.13"
  }
 },
 "nbformat": 4,
 "nbformat_minor": 5
}
