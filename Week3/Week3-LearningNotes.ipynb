{
 "cells": [
  {
   "cell_type": "markdown",
   "id": "9b7d0f36",
   "metadata": {},
   "source": [
    "# 1st Lesson: [Negative Engineering and Workflow Orchestration](https://www.youtube.com/watch?v=eKzCjNXoCTc&list=PL3MmuxUbc_hIUISrluw_A7wDSmfOhErJK&index=20)"
   ]
  },
  {
   "cell_type": "markdown",
   "id": "55fe48c7",
   "metadata": {},
   "source": [
    "### Orchestration with Prefect - [Docs](https://orion-docs.prefect.io/)\n",
    "\n",
    "- Automate the different steps - workflow orchestration with prefect;\n",
    "- Machine Learning Pipeline with Kubeflow;\n",
    "\n",
    "**Extra:** [Fugue](https://github.com/fugue-project/fugue) - unified interface for distributed computing that lets users execute Python, pandas, and SQL code on Spark and Dask without rewrites;\n",
    "\n",
    "\n",
    "### Workflow Orchestration\n",
    "\n",
    "- Set of tools that schedule and monitor work that one wants to acomplish\n",
    "- Minize the impact of errors that are \"normal\" to occur in a workflow\n",
    "\t- Failure mechanisms\n",
    "\n",
    "**Negative Engineering**\n",
    "\n",
    "90% of engineering time spent\n",
    "\n",
    "- Retries when APIs go down;\n",
    "- Malformed Data;\n",
    "- Notifications;\n",
    "- Observability into Failure;\n",
    "- Conditional Failure Logic;\n",
    "- Timeouts\n",
    "\n",
    "**NOTE:** Prefect helps to reduce the negative engineering to 70%/80% leaving you with more time to work in modelling."
   ]
  },
  {
   "cell_type": "markdown",
   "id": "28697e25",
   "metadata": {},
   "source": [
    "# 2nd Lesson: [Introduction to Prefect 2.0](https://www.youtube.com/watch?v=Yb6NJwI7bXw&list=PL3MmuxUbc_hIUISrluw_A7wDSmfOhErJK&index=20)"
   ]
  },
  {
   "cell_type": "markdown",
   "id": "27f4cf07",
   "metadata": {},
   "source": [
    "#### Introduction Prefect - Goal eliminate negative engineering\n",
    "\n",
    "- open-source;\n",
    "- python-based;\n",
    "- modern data stack;\n",
    "- native dask integration;\n",
    "- very active community;\n",
    "- prefect cloud/server; - AWS\n",
    "- prefect orion (prefect 2.0) - AWS\n",
    "\n",
    "\n",
    "#### Filesystem organization:\n",
    "- ``orchestration.py`` - is the goal;\n",
    "- ``requirements.txt``;\n",
    "\n",
    "### Steps:\n",
    "1. Copy past week duration-prediction code to a py script - named: ``model_training.py``\n",
    "2. Test it in your environment to check if it works properly\n",
    "3. Define set_tracking_url: ``mlflow.set_tracking_uri(\"sqlite:///backend.db\")``\n",
    "4. Run in the terminal: ``mlflow server --backend-store-uri sqlite:///backend.db --default-artifact-root ./artifacts_local`` \n",
    "5. Run the `model_training.py` function in the terminal: ```python model_training.py```"
   ]
  },
  {
   "cell_type": "code",
   "execution_count": 1,
   "id": "6c05fe07",
   "metadata": {},
   "outputs": [
    {
     "name": "stdout",
     "output_type": "stream",
     "text": [
      "total 244\r\n",
      "drwxr-xr-x 7 fdelca fdelca   4096 Jun  2 15:11 .\r\n",
      "drwxr-xr-x 8 fdelca fdelca   4096 Jun  2 11:18 ..\r\n",
      "-rw-r--r-- 1 fdelca fdelca     67 Jun  2 11:24 .gitignore\r\n",
      "drwxr-xr-x 2 fdelca fdelca   4096 Jun  2 11:27 .ipynb_checkpoints\r\n",
      "-rw-r--r-- 1 fdelca fdelca   1394 Jun  2 11:24 README.md\r\n",
      "-rw-r--r-- 1 fdelca fdelca  16106 Jun  2 15:09 Week3-LearningNotes.ipynb\r\n",
      "-rw-r--r-- 1 fdelca fdelca 143360 Jun  2 15:11 backend.db\r\n",
      "drwxr-xr-x 2 fdelca fdelca   4096 Jun  2 12:41 data\r\n",
      "-rw-r--r-- 1 fdelca fdelca     11 Jun  2 11:24 homework.md\r\n",
      "drwxr-xr-x 2 fdelca fdelca   4096 Jun  2 11:24 images\r\n",
      "-rw-r--r-- 1 fdelca fdelca    910 Jun  2 11:24 meta.json\r\n",
      "drwxr-xr-x 3 fdelca fdelca   4096 Jun  2 15:11 mlruns\r\n",
      "-rw-r--r-- 1 fdelca fdelca   6185 Jun  2 15:07 model_training.py\r\n",
      "drwxr-xr-x 2 fdelca fdelca   4096 Jun  2 15:11 models\r\n",
      "-rw-r--r-- 1 fdelca fdelca   5051 Jun  2 11:24 orchestration.py\r\n",
      "-rw-r--r-- 1 fdelca fdelca   5023 Jun  2 11:24 prefect_deploy.py\r\n",
      "-rw-r--r-- 1 fdelca fdelca   4674 Jun  2 11:24 prefect_flow.py\r\n",
      "-rw-r--r-- 1 fdelca fdelca     86 Jun  2 11:24 requirements.txt\r\n",
      "-rw-r--r-- 1 fdelca fdelca    634 Jun  2 11:24 work-queue.py\r\n"
     ]
    }
   ],
   "source": [
    "! ls -la"
   ]
  },
  {
   "cell_type": "markdown",
   "id": "d5537850",
   "metadata": {},
   "source": [
    "# 3rd Lesson: [First Prefect flow and basics](https://www.youtube.com/watch?v=MCFpURG506w&list=PL3MmuxUbc_hIUISrluw_A7wDSmfOhErJK&index=21)"
   ]
  },
  {
   "cell_type": "markdown",
   "id": "aee15f81",
   "metadata": {},
   "source": [
    "Topics:\n",
    "- Sample use-cases with MLflow;\n",
    "- Installing prefect on local;\n",
    "- Add them all to a flow and run locally;\n",
    "- Turn functions into tasks;\n",
    "- Parameters and Type Checking;\n",
    "- Show the Local UI and the flow run information"
   ]
  },
  {
   "cell_type": "code",
   "execution_count": 4,
   "id": "d1891f03",
   "metadata": {},
   "outputs": [],
   "source": [
    "# ! pip install prefect==2.0b5"
   ]
  },
  {
   "cell_type": "markdown",
   "id": "0b9d44a8",
   "metadata": {},
   "source": [
    "**Notes:**\n",
    "\n",
    "1. By adding `@task` to a function we need to add ``.result()`` method when we are calling the function. (e.g. function ``add_features()`` in ``prefect_flow.py``;\n",
    "\n",
    "2. One can start the local UI by using: `prefect orion start` in the terminal, similar to `mlflow`\n",
    "\n",
    "3. By default **Perfect** will try to run the tasks in a parallel manner, so if they are dependent of each other will not run properly, one must give a parameter to ``@flow`` function, like this:\n",
    "    - ``@flow(flow_runner=SequentialTaskRunner())`` or ``@flow(flow_runner=ConcurrentTaskRunner())``"
   ]
  },
  {
   "cell_type": "markdown",
   "id": "f1fba17d",
   "metadata": {},
   "source": [
    "# 4th Lesson: [Remote Prefect Orion deployment](https://www.youtube.com/watch?v=ComkSIAB0k4&list=PL3MmuxUbc_hIUISrluw_A7wDSmfOhErJK&index=22)"
   ]
  },
  {
   "cell_type": "markdown",
   "id": "2a107891",
   "metadata": {},
   "source": [
    "1. [Create an instance](https://www.youtube.com/watch?v=IXSiYkP23zo&list=PL3MmuxUbc_hIUISrluw_A7wDSmfOhErJK&index=3)\n",
    "2. Change the inbound rules, as mention in the lesson's video;\n",
    "3. Access remotely to the instance.\n",
    "    - If there is problems with key-pair premissions, use this command line: `sudo chmod 600 ~/.ssh/id_rsa`;\n",
    "    - Connect to the machine with this command: `ssh -i <PATH_TO_KEY_PAIR> ubuntu@<PUBLIC_IP_ADDRESS>` or define a `config file` inside the `.ssh` directory\n",
    "4. Install prefect and run the first command of this [link](https://discourse.prefect.io/t/hosting-an-orion-instance-on-a-cloud-vm/967)\n",
    "5. Check if it is well set, using `prefect config view`\n",
    "6. Then start prefect: `prefect orion start --host 0.0.0.0`\n",
    "\n",
    "Perfect is now ready to be connected from your local computer.\n",
    "\n",
    "Now in our local machine, we will set the prefect remote location, so prefect knows where to log everything:\n",
    "- `prefect config set PREFECT_API_URL=\"http://<external-ip>:4200/api\"`\n",
    "\n",
    "\n",
    "And after connecting your local computer to the remote address, you can run the sript and it will save your workflow into remotely set machine."
   ]
  },
  {
   "cell_type": "markdown",
   "id": "31b91184",
   "metadata": {},
   "source": [
    "# 5th Lesson: [Deploymentof Prefect flow](https://www.youtube.com/watch?v=xw9JfaWPPps&list=PL3MmuxUbc_hIUISrluw_A7wDSmfOhErJK&index=24)"
   ]
  },
  {
   "cell_type": "markdown",
   "id": "44d357df",
   "metadata": {},
   "source": [
    "- Show remote hosted UI;\n",
    "- Deploy flow on schedule on remote Prefect Orion;\n",
    "- Work queues and agents;\n",
    "- Next Steps;"
   ]
  },
  {
   "cell_type": "markdown",
   "id": "539d4583",
   "metadata": {},
   "source": [
    "### Storage"
   ]
  },
  {
   "cell_type": "markdown",
   "id": "11a95be9",
   "metadata": {},
   "source": [
    "Flows are stored somewhere, we need to define a storage: (in the remote machine)\n",
    "1. Check if there is already a storage defined: `prefect storage ls`;\n",
    "2. We can run the following command to create a storage:\n",
    "    - `prefect storage create`;\n",
    "    - And then define the type of storage we want, in this tutorial we are going to use local filesystem; Option `3`\n",
    "    - Define a path to store (note: it should be the full path): `.prefect`\n",
    "**NOTE:** One can run it on docker, kubernetes, or locally."
   ]
  },
  {
   "cell_type": "markdown",
   "id": "6e82de2b",
   "metadata": {},
   "source": [
    "3. Then one must change the script, to be able to deploy it. Add this to the end of your script: (locally)"
   ]
  },
  {
   "cell_type": "markdown",
   "id": "7156b066",
   "metadata": {},
   "source": [
    "```python\n",
    "# Setting deployment specifications\n",
    "from prefect.deployments import DeploymentSpec\n",
    "from prefect.orion.schemas.schedules import IntervalSchedule\n",
    "from prefect.flow_runners import SubprocessFlowRunner # With this we will run it without a container\n",
    "from datetime import timedelta\n",
    "\n",
    "DeploymentSpec(\n",
    "    flow=main,\n",
    "    name='model_training',\n",
    "    schedule=IntervalSchedule(interval=timedelta(minutes=5)),\n",
    "    tags=['ml'],\n",
    ")\n",
    "\n",
    "```"
   ]
  },
  {
   "cell_type": "markdown",
   "id": "42461abd",
   "metadata": {},
   "source": [
    "4. Afterwards, one can run it by: `prefect deployment create prefect_deploy.py` (locally)\n",
    "- You will have schedule runs for the next `5 minutes`;\n",
    "5. Also, one can set the `work queues` to catch the flows and start an agent with this code:\n",
    "- `prefect agent start a8aa05de-7da0-4f96-ba7f-99f706eb63a1`"
   ]
  }
 ],
 "metadata": {
  "kernelspec": {
   "display_name": "Python 3 (ipykernel)",
   "language": "python",
   "name": "python3"
  },
  "language_info": {
   "codemirror_mode": {
    "name": "ipython",
    "version": 3
   },
   "file_extension": ".py",
   "mimetype": "text/x-python",
   "name": "python",
   "nbconvert_exporter": "python",
   "pygments_lexer": "ipython3",
   "version": "3.9.13"
  },
  "toc": {
   "base_numbering": 1,
   "nav_menu": {},
   "number_sections": false,
   "sideBar": true,
   "skip_h1_title": false,
   "title_cell": "Table of Contents",
   "title_sidebar": "Contents",
   "toc_cell": false,
   "toc_position": {},
   "toc_section_display": true,
   "toc_window_display": false
  }
 },
 "nbformat": 4,
 "nbformat_minor": 5
}
