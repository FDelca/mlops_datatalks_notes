{
 "cells": [
  {
   "cell_type": "markdown",
   "id": "27643c65",
   "metadata": {},
   "source": [
    "## Unit Testing vs. Integration Testing"
   ]
  },
  {
   "cell_type": "markdown",
   "id": "d2935232",
   "metadata": {},
   "source": [
    "- An `integration test` checks that components in your application operate with each other.\n",
    "- A `unit test` checks a small component in your application."
   ]
  },
  {
   "cell_type": "markdown",
   "id": "248abe17",
   "metadata": {},
   "source": [
    "### Unit Testing"
   ]
  },
  {
   "cell_type": "markdown",
   "id": "a2ea4121",
   "metadata": {},
   "source": []
  },
  {
   "cell_type": "markdown",
   "id": "fbc8a28b",
   "metadata": {},
   "source": [
    "### Integration Testing"
   ]
  },
  {
   "cell_type": "markdown",
   "id": "38cc9f62",
   "metadata": {},
   "source": [
    "- We will use the previous created `docker_test.py` to perform our integration test - inside `code_test` folder;\n",
    "    - [Deepdiff](https://pypi.org/project/deepdiff/) package will be use to check differences between what is our result and what the real result should be.\n",
    "    "
   ]
  },
  {
   "cell_type": "markdown",
   "id": "29b4df2d",
   "metadata": {},
   "source": []
  }
 ],
 "metadata": {
  "kernelspec": {
   "display_name": "Python 3 (ipykernel)",
   "language": "python",
   "name": "python3"
  },
  "language_info": {
   "codemirror_mode": {
    "name": "ipython",
    "version": 3
   },
   "file_extension": ".py",
   "mimetype": "text/x-python",
   "name": "python",
   "nbconvert_exporter": "python",
   "pygments_lexer": "ipython3",
   "version": "3.9.13"
  }
 },
 "nbformat": 4,
 "nbformat_minor": 5
}
