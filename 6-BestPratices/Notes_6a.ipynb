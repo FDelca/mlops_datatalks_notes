{
 "cells": [
  {
   "cell_type": "markdown",
   "id": "059ac9b9",
   "metadata": {},
   "source": [
    "## Best Pratices"
   ]
  },
  {
   "cell_type": "markdown",
   "id": "71149625",
   "metadata": {},
   "source": [
    "### 6.1 - Testing Python code with pytest"
   ]
  },
  {
   "cell_type": "markdown",
   "id": "f1a24293",
   "metadata": {},
   "source": [
    "- Install all the packages\n",
    "- Create a folder for tests - named `tests`\n",
    "- Install `pytest`library - to create tests;\n",
    "- Install the `python` extension (using `vscode`):\n",
    "- Configure python interperter (using `vscode`);\n",
    "- Open **Testing** tab in `vscode`:\n",
    "    - Choose the test to configure -> `pytest`;\n",
    "    - Select the folder of tests -> `tests`;\n",
    "    - Create a new file to test some functions (add an `__init__.py` file so python know is a python folder);\n",
    "- Adapt `lambda_function` function to a OOP function - by creating `model.py`;\n",
    "- Simplify `lambda function` afterwards;\n",
    "- Build the image: (do not forget to add admin permissions for docker)\n",
    "    - `docker build -t stream-model-duration:v2 .`\n",
    "- Test it:\n",
    "```bash\n",
    "docker run -it --rm \\\n",
    "    -p 8080:8080 \\\n",
    "    -e PREDICTIONS_STREAM_NAME=\"ride_predictions\" \\\n",
    "    -e RUN_ID=\"e1efc53e9bd149078b0c12aeaa6365df\" \\\n",
    "    -e TEST_RUN=\"True\" \\\n",
    "    -e AWS_DEFAULT_REGION=\"eu-west-1\" \\\n",
    "    stream-model-duration:v2\n",
    "```"
   ]
  },
  {
   "cell_type": "code",
   "execution_count": null,
   "id": "ecf87d81",
   "metadata": {},
   "outputs": [],
   "source": []
  }
 ],
 "metadata": {
  "kernelspec": {
   "display_name": "Python 3 (ipykernel)",
   "language": "python",
   "name": "python3"
  },
  "language_info": {
   "codemirror_mode": {
    "name": "ipython",
    "version": 3
   },
   "file_extension": ".py",
   "mimetype": "text/x-python",
   "name": "python",
   "nbconvert_exporter": "python",
   "pygments_lexer": "ipython3",
   "version": "3.9.13"
  }
 },
 "nbformat": 4,
 "nbformat_minor": 5
}
