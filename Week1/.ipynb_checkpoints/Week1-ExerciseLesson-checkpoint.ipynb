{
 "cells": [
  {
   "cell_type": "markdown",
   "id": "ed49d3c7",
   "metadata": {
    "toc": true
   },
   "source": [
    "<h1>Table of Contents<span class=\"tocSkip\"></span></h1>\n",
    "<div class=\"toc\"><ul class=\"toc-item\"><li><span><a href=\"#Get-the-data\" data-toc-modified-id=\"Get-the-data-1\">Get the data</a></span></li><li><span><a href=\"#First-Approach\" data-toc-modified-id=\"First-Approach-2\">First Approach</a></span><ul class=\"toc-item\"><li><span><a href=\"#Create-Target-Variable\" data-toc-modified-id=\"Create-Target-Variable-2.1\">Create Target Variable</a></span></li><li><span><a href=\"#Filter-data-so-we-do-not-have-certain-types-of-outliers\" data-toc-modified-id=\"Filter-data-so-we-do-not-have-certain-types-of-outliers-2.2\">Filter data so we do not have certain types of outliers</a></span></li><li><span><a href=\"#Feature-Selection-and-Preprocessing\" data-toc-modified-id=\"Feature-Selection-and-Preprocessing-2.3\">Feature Selection and Preprocessing</a></span></li><li><span><a href=\"#Train-the-model\" data-toc-modified-id=\"Train-the-model-2.4\">Train the model</a></span></li><li><span><a href=\"#Predict-on-Training-Data\" data-toc-modified-id=\"Predict-on-Training-Data-2.5\">Predict on Training Data</a></span></li></ul></li><li><span><a href=\"#Second-Approach\" data-toc-modified-id=\"Second-Approach-3\">Second Approach</a></span></li><li><span><a href=\"#Extras:-OOP---Model-(not-done)\" data-toc-modified-id=\"Extras:-OOP---Model-(not-done)-4\">Extras: OOP - Model (not done)</a></span></li></ul></div>"
   ]
  },
  {
   "cell_type": "markdown",
   "id": "d810b3ba",
   "metadata": {},
   "source": [
    "## Get the data"
   ]
  },
  {
   "cell_type": "markdown",
   "id": "d95f9101",
   "metadata": {},
   "source": [
    "[TLC Trip Record Data](https://www1.nyc.gov/site/tlc/about/tlc-trip-record-data.page) ---- features [info](https://www1.nyc.gov/assets/tlc/downloads/pdf/data_dictionary_trip_records_green.pdf)\n",
    "\n",
    "- `wget https://s3.amazonaws.com/nyc-tlc/trip+data/green_tripdata_2021-01.parquet`\n",
    "\n",
    "- `wget https://s3.amazonaws.com/nyc-tlc/trip+data/green_tripdata_2021-02.parquet`"
   ]
  },
  {
   "cell_type": "code",
   "execution_count": 1,
   "id": "e1b78a47",
   "metadata": {},
   "outputs": [],
   "source": [
    "import pickle\n",
    "import pandas as pd\n",
    "import os\n",
    "\n",
    "# Visualization\n",
    "import seaborn as sns\n",
    "import matplotlib.pyplot as plt\n",
    "\n",
    "# Modelling\n",
    "from sklearn.feature_extraction import DictVectorizer\n",
    "from sklearn.linear_model import LinearRegression, Lasso\n",
    "\n",
    "# Performance\n",
    "from sklearn.metrics import mean_squared_error"
   ]
  },
  {
   "cell_type": "markdown",
   "id": "43d64210",
   "metadata": {},
   "source": [
    "## First Approach"
   ]
  },
  {
   "cell_type": "code",
   "execution_count": 2,
   "id": "8874bdd7",
   "metadata": {},
   "outputs": [
    {
     "data": {
      "text/html": [
       "<div>\n",
       "<style scoped>\n",
       "    .dataframe tbody tr th:only-of-type {\n",
       "        vertical-align: middle;\n",
       "    }\n",
       "\n",
       "    .dataframe tbody tr th {\n",
       "        vertical-align: top;\n",
       "    }\n",
       "\n",
       "    .dataframe thead th {\n",
       "        text-align: right;\n",
       "    }\n",
       "</style>\n",
       "<table border=\"1\" class=\"dataframe\">\n",
       "  <thead>\n",
       "    <tr style=\"text-align: right;\">\n",
       "      <th></th>\n",
       "      <th>VendorID</th>\n",
       "      <th>lpep_pickup_datetime</th>\n",
       "      <th>lpep_dropoff_datetime</th>\n",
       "      <th>store_and_fwd_flag</th>\n",
       "      <th>RatecodeID</th>\n",
       "      <th>PULocationID</th>\n",
       "      <th>DOLocationID</th>\n",
       "      <th>passenger_count</th>\n",
       "      <th>trip_distance</th>\n",
       "      <th>fare_amount</th>\n",
       "      <th>extra</th>\n",
       "      <th>mta_tax</th>\n",
       "      <th>tip_amount</th>\n",
       "      <th>tolls_amount</th>\n",
       "      <th>ehail_fee</th>\n",
       "      <th>improvement_surcharge</th>\n",
       "      <th>total_amount</th>\n",
       "      <th>payment_type</th>\n",
       "      <th>trip_type</th>\n",
       "      <th>congestion_surcharge</th>\n",
       "    </tr>\n",
       "  </thead>\n",
       "  <tbody>\n",
       "    <tr>\n",
       "      <th>0</th>\n",
       "      <td>2</td>\n",
       "      <td>2021-01-01 00:15:56</td>\n",
       "      <td>2021-01-01 00:19:52</td>\n",
       "      <td>N</td>\n",
       "      <td>1.0</td>\n",
       "      <td>43</td>\n",
       "      <td>151</td>\n",
       "      <td>1.0</td>\n",
       "      <td>1.01</td>\n",
       "      <td>5.5</td>\n",
       "      <td>0.5</td>\n",
       "      <td>0.5</td>\n",
       "      <td>0.00</td>\n",
       "      <td>0.0</td>\n",
       "      <td>None</td>\n",
       "      <td>0.3</td>\n",
       "      <td>6.80</td>\n",
       "      <td>2.0</td>\n",
       "      <td>1.0</td>\n",
       "      <td>0.00</td>\n",
       "    </tr>\n",
       "    <tr>\n",
       "      <th>1</th>\n",
       "      <td>2</td>\n",
       "      <td>2021-01-01 00:25:59</td>\n",
       "      <td>2021-01-01 00:34:44</td>\n",
       "      <td>N</td>\n",
       "      <td>1.0</td>\n",
       "      <td>166</td>\n",
       "      <td>239</td>\n",
       "      <td>1.0</td>\n",
       "      <td>2.53</td>\n",
       "      <td>10.0</td>\n",
       "      <td>0.5</td>\n",
       "      <td>0.5</td>\n",
       "      <td>2.81</td>\n",
       "      <td>0.0</td>\n",
       "      <td>None</td>\n",
       "      <td>0.3</td>\n",
       "      <td>16.86</td>\n",
       "      <td>1.0</td>\n",
       "      <td>1.0</td>\n",
       "      <td>2.75</td>\n",
       "    </tr>\n",
       "  </tbody>\n",
       "</table>\n",
       "</div>"
      ],
      "text/plain": [
       "   VendorID lpep_pickup_datetime lpep_dropoff_datetime store_and_fwd_flag  \\\n",
       "0         2  2021-01-01 00:15:56   2021-01-01 00:19:52                  N   \n",
       "1         2  2021-01-01 00:25:59   2021-01-01 00:34:44                  N   \n",
       "\n",
       "   RatecodeID  PULocationID  DOLocationID  passenger_count  trip_distance  \\\n",
       "0         1.0            43           151              1.0           1.01   \n",
       "1         1.0           166           239              1.0           2.53   \n",
       "\n",
       "   fare_amount  extra  mta_tax  tip_amount  tolls_amount ehail_fee  \\\n",
       "0          5.5    0.5      0.5        0.00           0.0      None   \n",
       "1         10.0    0.5      0.5        2.81           0.0      None   \n",
       "\n",
       "   improvement_surcharge  total_amount  payment_type  trip_type  \\\n",
       "0                    0.3          6.80           2.0        1.0   \n",
       "1                    0.3         16.86           1.0        1.0   \n",
       "\n",
       "   congestion_surcharge  \n",
       "0                  0.00  \n",
       "1                  2.75  "
      ]
     },
     "execution_count": 2,
     "metadata": {},
     "output_type": "execute_result"
    }
   ],
   "source": [
    "df = pd.read_parquet(os.path.join('data', 'green_tripdata_2021-01.parquet'))\n",
    "df.head(2)"
   ]
  },
  {
   "cell_type": "markdown",
   "id": "ff31978e",
   "metadata": {},
   "source": [
    "### Create Target Variable\n",
    "\n",
    "Predict the amount of time a taxi trip takes in seconds"
   ]
  },
  {
   "cell_type": "code",
   "execution_count": 3,
   "id": "0596163a",
   "metadata": {},
   "outputs": [],
   "source": [
    "# Create duration tag - TARGET\n",
    "df['duration'] = df.lpep_dropoff_datetime - df.lpep_pickup_datetime\n",
    "df.duration = df.duration.dt.total_seconds() / 60 # Convert to duration --- attention we can floor data or not"
   ]
  },
  {
   "cell_type": "code",
   "execution_count": 4,
   "id": "81adbca8",
   "metadata": {
    "scrolled": true
   },
   "outputs": [
    {
     "data": {
      "text/plain": [
       "count    76518.000000\n",
       "mean        19.927896\n",
       "std         59.338594\n",
       "min          0.000000\n",
       "25%          8.000000\n",
       "50%         13.883333\n",
       "75%         23.000000\n",
       "95%         44.000000\n",
       "98%         56.000000\n",
       "99%         67.158167\n",
       "max       1439.600000\n",
       "Name: duration, dtype: float64"
      ]
     },
     "execution_count": 4,
     "metadata": {},
     "output_type": "execute_result"
    }
   ],
   "source": [
    "df.duration.describe(percentiles=[0.25, 0.50, 0.75, 0.95, 0.98, 0.99])"
   ]
  },
  {
   "cell_type": "markdown",
   "id": "ae3827a7",
   "metadata": {},
   "source": [
    "1. There are trips with less than one minute, which is super strange;\n",
    "2. We can see, that most of the data is within 1 hour (perc = 98% --> 59.34 minutes)\n",
    "    \n",
    "    Solution:\n",
    "     **`We can focus in trips with durations over or equal to 1 minute and lower or equal than an hour.`**\n",
    "    "
   ]
  },
  {
   "cell_type": "markdown",
   "id": "f7354757",
   "metadata": {},
   "source": [
    "### Filter data so we do not have certain types of outliers"
   ]
  },
  {
   "cell_type": "code",
   "execution_count": 5,
   "id": "b678228c",
   "metadata": {},
   "outputs": [],
   "source": [
    "df = df[(df.duration >= 1) & (df.duration <= 60)].copy()"
   ]
  },
  {
   "cell_type": "code",
   "execution_count": 6,
   "id": "2f78eec1",
   "metadata": {},
   "outputs": [
    {
     "data": {
      "image/png": "[encoded data removed]",
      "text/plain": [
       "<Figure size 792x360 with 1 Axes>"
      ]
     },
     "metadata": {
      "needs_background": "light"
     },
     "output_type": "display_data"
    }
   ],
   "source": [
    "fig = plt.figure(figsize=(11,5))\n",
    "sns.histplot(df.duration);"
   ]
  },
  {
   "cell_type": "markdown",
   "id": "8845a3b8",
   "metadata": {},
   "source": [
    "### Feature Selection and Preprocessing"
   ]
  },
  {
   "cell_type": "code",
   "execution_count": 7,
   "id": "4df05c1e",
   "metadata": {},
   "outputs": [],
   "source": [
    "categorical = ['PULocationID', 'DOLocationID']\n",
    "numerical = ['trip_distance']"
   ]
  },
  {
   "cell_type": "code",
   "execution_count": 8,
   "id": "c124f1ba",
   "metadata": {},
   "outputs": [],
   "source": [
    "# Transform it into string because they are IDs\n",
    "df[categorical] = df[categorical].astype(str)\n",
    "\n",
    "# Transform features into a dictionary of records\n",
    "train_dicts = df[categorical + numerical].to_dict(orient='records')\n",
    "\n",
    "# Apply DictVectorizer -- good thing it is not necessary to select only the categorical features\n",
    "dv = DictVectorizer()\n",
    "X_train = dv.fit_transform(train_dicts)"
   ]
  },
  {
   "cell_type": "markdown",
   "id": "01520b7d",
   "metadata": {},
   "source": [
    "### Train the model"
   ]
  },
  {
   "cell_type": "code",
   "execution_count": 9,
   "id": "674ae55b",
   "metadata": {},
   "outputs": [],
   "source": [
    "# Select Target\n",
    "target = 'duration'\n",
    "y_train = df[target].values"
   ]
  },
  {
   "cell_type": "code",
   "execution_count": 10,
   "id": "0ba75fbe",
   "metadata": {},
   "outputs": [
    {
     "data": {
      "text/html": [
       "<style>#sk-container-id-1 {color: black;background-color: white;}#sk-container-id-1 pre{padding: 0;}#sk-container-id-1 div.sk-toggleable {background-color: white;}#sk-container-id-1 label.sk-toggleable__label {cursor: pointer;display: block;width: 100%;margin-bottom: 0;padding: 0.3em;box-sizing: border-box;text-align: center;}#sk-container-id-1 label.sk-toggleable__label-arrow:before {content: \"▸\";float: left;margin-right: 0.25em;color: #696969;}#sk-container-id-1 label.sk-toggleable__label-arrow:hover:before {color: black;}#sk-container-id-1 div.sk-estimator:hover label.sk-toggleable__label-arrow:before {color: black;}#sk-container-id-1 div.sk-toggleable__content {max-height: 0;max-width: 0;overflow: hidden;text-align: left;background-color: #f0f8ff;}#sk-container-id-1 div.sk-toggleable__content pre {margin: 0.2em;color: black;border-radius: 0.25em;background-color: #f0f8ff;}#sk-container-id-1 input.sk-toggleable__control:checked~div.sk-toggleable__content {max-height: 200px;max-width: 100%;overflow: auto;}#sk-container-id-1 input.sk-toggleable__control:checked~label.sk-toggleable__label-arrow:before {content: \"▾\";}#sk-container-id-1 div.sk-estimator input.sk-toggleable__control:checked~label.sk-toggleable__label {background-color: #d4ebff;}#sk-container-id-1 div.sk-label input.sk-toggleable__control:checked~label.sk-toggleable__label {background-color: #d4ebff;}#sk-container-id-1 input.sk-hidden--visually {border: 0;clip: rect(1px 1px 1px 1px);clip: rect(1px, 1px, 1px, 1px);height: 1px;margin: -1px;overflow: hidden;padding: 0;position: absolute;width: 1px;}#sk-container-id-1 div.sk-estimator {font-family: monospace;background-color: #f0f8ff;border: 1px dotted black;border-radius: 0.25em;box-sizing: border-box;margin-bottom: 0.5em;}#sk-container-id-1 div.sk-estimator:hover {background-color: #d4ebff;}#sk-container-id-1 div.sk-parallel-item::after {content: \"\";width: 100%;border-bottom: 1px solid gray;flex-grow: 1;}#sk-container-id-1 div.sk-label:hover label.sk-toggleable__label {background-color: #d4ebff;}#sk-container-id-1 div.sk-serial::before {content: \"\";position: absolute;border-left: 1px solid gray;box-sizing: border-box;top: 0;bottom: 0;left: 50%;z-index: 0;}#sk-container-id-1 div.sk-serial {display: flex;flex-direction: column;align-items: center;background-color: white;padding-right: 0.2em;padding-left: 0.2em;position: relative;}#sk-container-id-1 div.sk-item {position: relative;z-index: 1;}#sk-container-id-1 div.sk-parallel {display: flex;align-items: stretch;justify-content: center;background-color: white;position: relative;}#sk-container-id-1 div.sk-item::before, #sk-container-id-1 div.sk-parallel-item::before {content: \"\";position: absolute;border-left: 1px solid gray;box-sizing: border-box;top: 0;bottom: 0;left: 50%;z-index: -1;}#sk-container-id-1 div.sk-parallel-item {display: flex;flex-direction: column;z-index: 1;position: relative;background-color: white;}#sk-container-id-1 div.sk-parallel-item:first-child::after {align-self: flex-end;width: 50%;}#sk-container-id-1 div.sk-parallel-item:last-child::after {align-self: flex-start;width: 50%;}#sk-container-id-1 div.sk-parallel-item:only-child::after {width: 0;}#sk-container-id-1 div.sk-dashed-wrapped {border: 1px dashed gray;margin: 0 0.4em 0.5em 0.4em;box-sizing: border-box;padding-bottom: 0.4em;background-color: white;}#sk-container-id-1 div.sk-label label {font-family: monospace;font-weight: bold;display: inline-block;line-height: 1.2em;}#sk-container-id-1 div.sk-label-container {text-align: center;}#sk-container-id-1 div.sk-container {/* jupyter's `normalize.less` sets `[hidden] { display: none; }` but bootstrap.min.css set `[hidden] { display: none !important; }` so we also need the `!important` here to be able to override the default hidden behavior on the sphinx rendered scikit-learn.org. See: https://github.com/scikit-learn/scikit-learn/issues/21755 */display: inline-block !important;position: relative;}#sk-container-id-1 div.sk-text-repr-fallback {display: none;}</style><div id=\"sk-container-id-1\" class=\"sk-top-container\"><div class=\"sk-text-repr-fallback\"><pre>LinearRegression()</pre><b>In a Jupyter environment, please rerun this cell to show the HTML representation or trust the notebook. <br />On GitHub, the HTML representation is unable to render, please try loading this page with nbviewer.org.</b></div><div class=\"sk-container\" hidden><div class=\"sk-item\"><div class=\"sk-estimator sk-toggleable\"><input class=\"sk-toggleable__control sk-hidden--visually\" id=\"sk-estimator-id-1\" type=\"checkbox\" checked><label for=\"sk-estimator-id-1\" class=\"sk-toggleable__label sk-toggleable__label-arrow\">LinearRegression</label><div class=\"sk-toggleable__content\"><pre>LinearRegression()</pre></div></div></div></div></div>"
      ],
      "text/plain": [
       "LinearRegression()"
      ]
     },
     "execution_count": 10,
     "metadata": {},
     "output_type": "execute_result"
    }
   ],
   "source": [
    "lr = LinearRegression()\n",
    "lr.fit(X_train, y_train)"
   ]
  },
  {
   "cell_type": "markdown",
   "id": "05cd874e",
   "metadata": {},
   "source": [
    "### Predict on Training Data"
   ]
  },
  {
   "cell_type": "code",
   "execution_count": 11,
   "id": "b86a2579",
   "metadata": {},
   "outputs": [],
   "source": [
    "y_pred = lr.predict(X_train)"
   ]
  },
  {
   "cell_type": "code",
   "execution_count": 12,
   "id": "cffc1c9d",
   "metadata": {},
   "outputs": [
    {
     "data": {
      "image/png": "[encoded data removed]",
      "text/plain": [
       "<Figure size 792x576 with 1 Axes>"
      ]
     },
     "metadata": {
      "needs_background": "light"
     },
     "output_type": "display_data"
    }
   ],
   "source": [
    "fig, ax = plt.subplots(figsize=(11,8))\n",
    "sns.histplot(y_pred, ax=ax, stat='density', kde=True, label=\"prediction distribution\", legend=True)\n",
    "sns.histplot(y_train, ax=ax, color='orange', alpha=0.3, stat='density', kde=True, label=\"actual distribution\")\n",
    "plt.legend();"
   ]
  },
  {
   "cell_type": "code",
   "execution_count": 13,
   "id": "111a22b7",
   "metadata": {},
   "outputs": [
    {
     "data": {
      "text/plain": [
       "9.838799799886676"
      ]
     },
     "execution_count": 13,
     "metadata": {},
     "output_type": "execute_result"
    }
   ],
   "source": [
    "mean_squared_error(y_train, y_pred, squared=False) # The model is wrong 9 minutes in average"
   ]
  },
  {
   "cell_type": "markdown",
   "id": "4cd07cad",
   "metadata": {},
   "source": [
    "It does not look great, the model is wrong 9 mints on average in the **Training Data**"
   ]
  },
  {
   "cell_type": "markdown",
   "id": "4448ab5d",
   "metadata": {},
   "source": [
    "## Second Approach\n",
    "\n",
    "(more automatize process)"
   ]
  },
  {
   "cell_type": "code",
   "execution_count": 14,
   "id": "216d6804",
   "metadata": {},
   "outputs": [],
   "source": [
    "def read_parquet_file(filename):\n",
    "    \n",
    "    df = pd.read_parquet(os.path.join('data', filename))\n",
    "    \n",
    "    # Create duration tag - TARGET\n",
    "    df['duration'] = df.lpep_dropoff_datetime - df.lpep_pickup_datetime\n",
    "    df.duration = df.duration.dt.total_seconds() / 60 # Convert to duration --- attention we can floor data or not\n",
    "    \n",
    "    # Filter data based on trip duration\n",
    "    df = df[(df.duration >= 1) & (df.duration <= 60)].copy()\n",
    "    \n",
    "    # Define Features\n",
    "    categorical = ['PULocationID', 'DOLocationID']\n",
    "    \n",
    "    # Transform it into string because they are IDs\n",
    "    df[categorical] = df[categorical].astype(str)\n",
    "\n",
    "    return df"
   ]
  },
  {
   "cell_type": "code",
   "execution_count": 15,
   "id": "9b598b9f",
   "metadata": {},
   "outputs": [],
   "source": [
    "train_file = 'green_tripdata_2021-01.parquet'\n",
    "val_file = 'green_tripdata_2021-02.parquet'\n",
    "\n",
    "df_train = read_parquet_file(train_file)\n",
    "df_val = read_parquet_file(val_file)"
   ]
  },
  {
   "cell_type": "code",
   "execution_count": 16,
   "id": "e8a24de9",
   "metadata": {
    "scrolled": true
   },
   "outputs": [
    {
     "data": {
      "text/plain": [
       "((73908, 21), (61921, 21))"
      ]
     },
     "execution_count": 16,
     "metadata": {},
     "output_type": "execute_result"
    }
   ],
   "source": [
    "df_train.shape, df_val.shape"
   ]
  },
  {
   "cell_type": "code",
   "execution_count": 17,
   "id": "098a4187",
   "metadata": {},
   "outputs": [],
   "source": [
    "# Create another features - combination of Pick Up and Drop Off Pair\n",
    "df_train['PU_DO'] = df_train['PULocationID'] + '_' + df_train['DOLocationID']\n",
    "df_val['PU_DO'] = df_val['PULocationID'] + '_' + df_val['DOLocationID']"
   ]
  },
  {
   "cell_type": "code",
   "execution_count": 18,
   "id": "bbbf8188",
   "metadata": {},
   "outputs": [],
   "source": [
    "categorical = ['PU_DO'] #['PULocationID', 'DOLocationID']\n",
    "numerical = ['trip_distance']\n",
    "\n",
    "# Transform features into a dictionary of records\n",
    "train_dicts = df_train[categorical + numerical].to_dict(orient='records')\n",
    "X_train = dv.fit_transform(train_dicts)\n",
    "\n",
    "val_dicts = df_val[categorical + numerical].to_dict(orient='records')\n",
    "X_val = dv.transform(val_dicts)"
   ]
  },
  {
   "cell_type": "code",
   "execution_count": 19,
   "id": "d78f1a67",
   "metadata": {},
   "outputs": [],
   "source": [
    "target = 'duration'\n",
    "y_train = df_train[target].values\n",
    "y_val = df_val[target].values"
   ]
  },
  {
   "cell_type": "code",
   "execution_count": 20,
   "id": "cabe3202",
   "metadata": {},
   "outputs": [
    {
     "name": "stdout",
     "output_type": "stream",
     "text": [
      "RMSE: 5.6996 Train\n",
      "RMSE: 7.7587 Validation\n"
     ]
    }
   ],
   "source": [
    "lr = LinearRegression()\n",
    "lr.fit(X_train, y_train)\n",
    "\n",
    "y_pred_train = lr.predict(X_train)\n",
    "y_pred_val = lr.predict(X_val)\n",
    "\n",
    "print(f'RMSE: {round(mean_squared_error(y_train, y_pred_train, squared=False), 4)} Train')\n",
    "print(f'RMSE: {round(mean_squared_error(y_val, y_pred_val, squared=False), 4)} Validation')"
   ]
  },
  {
   "cell_type": "code",
   "execution_count": 21,
   "id": "a2263bf9",
   "metadata": {
    "scrolled": false
   },
   "outputs": [
    {
     "data": {
      "image/png": "[encoded data removed]",
      "text/plain": [
       "<Figure size 792x576 with 1 Axes>"
      ]
     },
     "metadata": {
      "needs_background": "light"
     },
     "output_type": "display_data"
    }
   ],
   "source": [
    "fig, ax = plt.subplots(figsize=(11,8))\n",
    "sns.histplot(y_pred_train, ax=ax, stat='density', kde=True, label=\"prediction distribution\", legend=True)\n",
    "sns.histplot(y_train, ax=ax, color='orange', alpha=0.3, stat='density', kde=True, label=\"actual distribution\")\n",
    "plt.legend();"
   ]
  },
  {
   "cell_type": "code",
   "execution_count": 22,
   "id": "b88fdf6f",
   "metadata": {},
   "outputs": [],
   "source": [
    "# Save model\n",
    "with open('models/lin_reg.bin', 'wb') as f_out:\n",
    "    pickle.dump((dv, lr), f_out)"
   ]
  },
  {
   "cell_type": "markdown",
   "id": "deba8bcd",
   "metadata": {},
   "source": [
    "## Extras: OOP - Model (not done)\n",
    "\n",
    "- follow this [github](https://github.com/tirthajyoti/Machine-Learning-with-Python/tree/master/OOP_in_ML) to start building your own object-oriented programming model. [related article](https://www.kdnuggets.com/2019/08/object-oriented-programming-data-scientists-estimator.html)\n",
    "- Also, there is a solution of this problem in a OOP way in this [link](https://github.com/Qfl3x/mlops-zoomcamp/blob/main/week1/model.ipynb)"
   ]
  },
  {
   "cell_type": "markdown",
   "id": "e1fc3053",
   "metadata": {},
   "source": [
    "---"
   ]
  },
  {
   "cell_type": "code",
   "execution_count": 23,
   "id": "d6543ff7",
   "metadata": {},
   "outputs": [
    {
     "data": {
      "text/html": [
       "<style>.container { width:90% !important; }</style>"
      ],
      "text/plain": [
       "<IPython.core.display.HTML object>"
      ]
     },
     "metadata": {},
     "output_type": "display_data"
    }
   ],
   "source": [
    "from IPython.display import display, HTML\n",
    "display(HTML(\"<style>.container { width:90% !important; }</style>\"))"
   ]
  }
 ],
 "metadata": {
  "kernelspec": {
   "display_name": "Python 3 (ipykernel)",
   "language": "python",
   "name": "python3"
  },
  "language_info": {
   "codemirror_mode": {
    "name": "ipython",
    "version": 3
   },
   "file_extension": ".py",
   "mimetype": "text/x-python",
   "name": "python",
   "nbconvert_exporter": "python",
   "pygments_lexer": "ipython3",
   "version": "3.9.12"
  },
  "toc": {
   "base_numbering": 1,
   "nav_menu": {},
   "number_sections": false,
   "sideBar": true,
   "skip_h1_title": true,
   "title_cell": "Table of Contents",
   "title_sidebar": "Contents",
   "toc_cell": true,
   "toc_position": {},
   "toc_section_display": true,
   "toc_window_display": false
  }
 },
 "nbformat": 4,
 "nbformat_minor": 5
}
