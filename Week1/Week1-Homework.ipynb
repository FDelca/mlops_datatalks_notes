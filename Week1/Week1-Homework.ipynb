{
 "cells": [
  {
   "cell_type": "markdown",
   "id": "ccbf5b8c",
   "metadata": {
    "toc": true
   },
   "source": [
    "<h1>Table of Contents<span class=\"tocSkip\"></span></h1>\n",
    "<div class=\"toc\"><ul class=\"toc-item\"><li><span><a href=\"#Q1:-Downloading-the-data\" data-toc-modified-id=\"Q1:-Downloading-the-data-1\">Q1: Downloading the data</a></span><ul class=\"toc-item\"><li><span><a href=\"#How-many-records-are-in-January-data?\" data-toc-modified-id=\"How-many-records-are-in-January-data?-1.1\">How many records are in January data?</a></span></li></ul></li><li><span><a href=\"#Q2:-Computing-duration?\" data-toc-modified-id=\"Q2:-Computing-duration?-2\">Q2: Computing duration?</a></span><ul class=\"toc-item\"><li><span><a href=\"#What's-the-average-trip-duration-in-January?\" data-toc-modified-id=\"What's-the-average-trip-duration-in-January?-2.1\">What's the average trip duration in January?</a></span></li><li><span><a href=\"#Data-Preparation\" data-toc-modified-id=\"Data-Preparation-2.2\">Data Preparation</a></span><ul class=\"toc-item\"><li><span><a href=\"#Extra:-Inconsistent-Datetime-Format\" data-toc-modified-id=\"Extra:-Inconsistent-Datetime-Format-2.2.1\">Extra: Inconsistent Datetime Format</a></span></li></ul></li><li><span><a href=\"#Data-Filtering\" data-toc-modified-id=\"Data-Filtering-2.3\">Data Filtering</a></span><ul class=\"toc-item\"><li><span><a href=\"#Extra-Question:-How-many-records-were-dropped?\" data-toc-modified-id=\"Extra-Question:-How-many-records-were-dropped?-2.3.1\">Extra Question: How many records were dropped?</a></span></li></ul></li></ul></li><li><span><a href=\"#Q3:-Missing-values\" data-toc-modified-id=\"Q3:-Missing-values-3\">Q3: Missing values</a></span><ul class=\"toc-item\"><li><span><a href=\"#What's-the-fractions-of-missing-values-for-the-pickup-location-ID?\" data-toc-modified-id=\"What's-the-fractions-of-missing-values-for-the-pickup-location-ID?-3.1\">What's the fractions of missing values for the pickup location ID?</a></span></li></ul></li><li><span><a href=\"#Q4:-One-hot-encoding\" data-toc-modified-id=\"Q4:-One-hot-encoding-4\">Q4: One-hot encoding</a></span><ul class=\"toc-item\"><li><span><a href=\"#What's-the-dimensionality-of-this-matrix?-(The-number-of-columns)\" data-toc-modified-id=\"What's-the-dimensionality-of-this-matrix?-(The-number-of-columns)-4.1\">What's the dimensionality of this matrix? (The number of columns)</a></span></li></ul></li><li><span><a href=\"#Q5:-Training-a-model\" data-toc-modified-id=\"Q5:-Training-a-model-5\">Q5: Training a model</a></span><ul class=\"toc-item\"><li><span><a href=\"#What's-the-RMSE-on-train?\" data-toc-modified-id=\"What's-the-RMSE-on-train?-5.1\">What's the RMSE on train?</a></span></li></ul></li><li><span><a href=\"#Q6:-Evaluating-the-model\" data-toc-modified-id=\"Q6:-Evaluating-the-model-6\">Q6: Evaluating the model</a></span><ul class=\"toc-item\"><li><span><a href=\"#What's-the-RMSE-on-validation?\" data-toc-modified-id=\"What's-the-RMSE-on-validation?-6.1\">What's the RMSE on validation?</a></span></li></ul></li></ul></div>"
   ]
  },
  {
   "cell_type": "code",
   "execution_count": 1,
   "id": "006c3d38",
   "metadata": {},
   "outputs": [],
   "source": [
    "import pandas as pd\n",
    "import os\n",
    "\n",
    "# Visualization\n",
    "import seaborn as sns\n",
    "import matplotlib.pyplot as plt\n",
    "\n",
    "# Sklearn\n",
    "from sklearn.feature_extraction import DictVectorizer\n",
    "from sklearn.linear_model import LinearRegression\n",
    "\n",
    "# Performance\n",
    "from sklearn.metrics import mean_squared_error"
   ]
  },
  {
   "cell_type": "markdown",
   "id": "1c199d1c",
   "metadata": {},
   "source": [
    "## Q1: Downloading the data"
   ]
  },
  {
   "cell_type": "markdown",
   "id": "0b21230a",
   "metadata": {},
   "source": [
    "- NYC taxi dataset - \"High Volume For-Hire Vehicle Trip Records\"\n",
    "- Download the data for January and February 2021."
   ]
  },
  {
   "cell_type": "code",
   "execution_count": 2,
   "id": "0d41ac3d",
   "metadata": {},
   "outputs": [],
   "source": [
    "jan_filename = 'fhv_tripdata_2021-01.parquet'\n",
    "feb_filename = 'fhv_tripdata_2021-02.parquet'"
   ]
  },
  {
   "cell_type": "code",
   "execution_count": 3,
   "id": "5dc38533",
   "metadata": {},
   "outputs": [],
   "source": [
    "df_jan = pd.read_parquet(os.path.join('data', jan_filename))"
   ]
  },
  {
   "cell_type": "code",
   "execution_count": 4,
   "id": "db3b375e",
   "metadata": {},
   "outputs": [
    {
     "data": {
      "text/html": [
       "<div>\n",
       "<style scoped>\n",
       "    .dataframe tbody tr th:only-of-type {\n",
       "        vertical-align: middle;\n",
       "    }\n",
       "\n",
       "    .dataframe tbody tr th {\n",
       "        vertical-align: top;\n",
       "    }\n",
       "\n",
       "    .dataframe thead th {\n",
       "        text-align: right;\n",
       "    }\n",
       "</style>\n",
       "<table border=\"1\" class=\"dataframe\">\n",
       "  <thead>\n",
       "    <tr style=\"text-align: right;\">\n",
       "      <th></th>\n",
       "      <th>dispatching_base_num</th>\n",
       "      <th>pickup_datetime</th>\n",
       "      <th>dropOff_datetime</th>\n",
       "      <th>PUlocationID</th>\n",
       "      <th>DOlocationID</th>\n",
       "      <th>SR_Flag</th>\n",
       "      <th>Affiliated_base_number</th>\n",
       "    </tr>\n",
       "  </thead>\n",
       "  <tbody>\n",
       "    <tr>\n",
       "      <th>0</th>\n",
       "      <td>B00009</td>\n",
       "      <td>2021-01-01 00:27:00</td>\n",
       "      <td>2021-01-01 00:44:00</td>\n",
       "      <td>NaN</td>\n",
       "      <td>NaN</td>\n",
       "      <td>None</td>\n",
       "      <td>B00009</td>\n",
       "    </tr>\n",
       "    <tr>\n",
       "      <th>1</th>\n",
       "      <td>B00009</td>\n",
       "      <td>2021-01-01 00:50:00</td>\n",
       "      <td>2021-01-01 01:07:00</td>\n",
       "      <td>NaN</td>\n",
       "      <td>NaN</td>\n",
       "      <td>None</td>\n",
       "      <td>B00009</td>\n",
       "    </tr>\n",
       "  </tbody>\n",
       "</table>\n",
       "</div>"
      ],
      "text/plain": [
       "  dispatching_base_num     pickup_datetime    dropOff_datetime  PUlocationID  \\\n",
       "0               B00009 2021-01-01 00:27:00 2021-01-01 00:44:00           NaN   \n",
       "1               B00009 2021-01-01 00:50:00 2021-01-01 01:07:00           NaN   \n",
       "\n",
       "   DOlocationID SR_Flag Affiliated_base_number  \n",
       "0           NaN    None                 B00009  \n",
       "1           NaN    None                 B00009  "
      ]
     },
     "execution_count": 4,
     "metadata": {},
     "output_type": "execute_result"
    }
   ],
   "source": [
    "df_jan.head(2)"
   ]
  },
  {
   "cell_type": "markdown",
   "id": "afe6ab18",
   "metadata": {},
   "source": [
    "### How many records are in January data?"
   ]
  },
  {
   "cell_type": "code",
   "execution_count": 5,
   "id": "1010763a",
   "metadata": {},
   "outputs": [],
   "source": [
    "A1 = df_jan.shape[0]"
   ]
  },
  {
   "cell_type": "code",
   "execution_count": 6,
   "id": "9faf726a",
   "metadata": {},
   "outputs": [
    {
     "name": "stdout",
     "output_type": "stream",
     "text": [
      "Answer: 1154112\n"
     ]
    }
   ],
   "source": [
    "print(f'Answer: {A1}')"
   ]
  },
  {
   "cell_type": "markdown",
   "id": "f5c91756",
   "metadata": {},
   "source": [
    "## Q2: Computing duration?"
   ]
  },
  {
   "cell_type": "code",
   "execution_count": 7,
   "id": "a7a7bd4f",
   "metadata": {},
   "outputs": [],
   "source": [
    "def create_target(df):\n",
    "    df = df.copy()\n",
    "    \n",
    "    df['duration'] = df.dropOff_datetime - df.pickup_datetime\n",
    "    df['duration'] = df.duration.dt.total_seconds() / 60\n",
    "    return df"
   ]
  },
  {
   "cell_type": "code",
   "execution_count": 8,
   "id": "300330bf",
   "metadata": {
    "scrolled": true
   },
   "outputs": [],
   "source": [
    "df_jan = create_target(df_jan)"
   ]
  },
  {
   "cell_type": "code",
   "execution_count": 9,
   "id": "31232448",
   "metadata": {},
   "outputs": [
    {
     "data": {
      "text/plain": [
       "dispatching_base_num              object\n",
       "pickup_datetime           datetime64[ns]\n",
       "dropOff_datetime          datetime64[ns]\n",
       "PUlocationID                     float64\n",
       "DOlocationID                     float64\n",
       "SR_Flag                           object\n",
       "Affiliated_base_number            object\n",
       "duration                         float64\n",
       "dtype: object"
      ]
     },
     "execution_count": 9,
     "metadata": {},
     "output_type": "execute_result"
    }
   ],
   "source": [
    "df_jan.dtypes"
   ]
  },
  {
   "cell_type": "markdown",
   "id": "6995f105",
   "metadata": {},
   "source": [
    "### What's the average trip duration in January?"
   ]
  },
  {
   "cell_type": "code",
   "execution_count": 10,
   "id": "d90fec3b",
   "metadata": {},
   "outputs": [],
   "source": [
    "A2 = round(df_jan.duration.mean(), 4)"
   ]
  },
  {
   "cell_type": "code",
   "execution_count": 11,
   "id": "c148cb5e",
   "metadata": {},
   "outputs": [
    {
     "name": "stdout",
     "output_type": "stream",
     "text": [
      "Answer: 19.1672\n"
     ]
    }
   ],
   "source": [
    "print(f'Answer: {A2}')"
   ]
  },
  {
   "cell_type": "markdown",
   "id": "e6e56ef6",
   "metadata": {},
   "source": [
    "### Data Preparation"
   ]
  },
  {
   "cell_type": "code",
   "execution_count": 12,
   "id": "e5bcf743",
   "metadata": {
    "scrolled": false
   },
   "outputs": [
    {
     "name": "stderr",
     "output_type": "stream",
     "text": [
      "/home/fdelca/.virtualenvs/mlcourse01/lib/python3.9/site-packages/seaborn/distributions.py:2619: FutureWarning: `distplot` is a deprecated function and will be removed in a future version. Please adapt your code to use either `displot` (a figure-level function with similar flexibility) or `histplot` (an axes-level function for histograms).\n",
      "  warnings.warn(msg, FutureWarning)\n"
     ]
    },
    {
     "data": {
      "image/png": "[encoded data removed]",
      "text/plain": [
       "<Figure size 792x360 with 1 Axes>"
      ]
     },
     "metadata": {
      "needs_background": "light"
     },
     "output_type": "display_data"
    }
   ],
   "source": [
    "fig = plt.figure(figsize=(11,5))\n",
    "sns.distplot(df_jan.duration);"
   ]
  },
  {
   "cell_type": "code",
   "execution_count": 13,
   "id": "de684bef",
   "metadata": {},
   "outputs": [
    {
     "data": {
      "text/plain": [
       "count    1.154112e+06\n",
       "mean     1.916722e+01\n",
       "std      3.986922e+02\n",
       "min      1.666667e-02\n",
       "25%      7.766667e+00\n",
       "50%      1.340000e+01\n",
       "75%      2.228333e+01\n",
       "max      4.233710e+05\n",
       "Name: duration, dtype: float64"
      ]
     },
     "execution_count": 13,
     "metadata": {},
     "output_type": "execute_result"
    }
   ],
   "source": [
    "df_jan.duration.describe()"
   ]
  },
  {
   "cell_type": "markdown",
   "id": "ce55d8e7",
   "metadata": {},
   "source": [
    "#### Extra: Inconsistent Datetime Format"
   ]
  },
  {
   "cell_type": "code",
   "execution_count": 14,
   "id": "8032f162",
   "metadata": {
    "scrolled": true
   },
   "outputs": [
    {
     "name": "stdout",
     "output_type": "stream",
     "text": [
      "Maximum value corresponds to a trip of 294.01 days\n"
     ]
    }
   ],
   "source": [
    "print(f'Maximum value corresponds to a trip of {(round(df_jan.duration.max() / 60 / 24, 2))} days')"
   ]
  },
  {
   "cell_type": "markdown",
   "id": "faf969fa",
   "metadata": {},
   "source": [
    "It as **extreme outliers** making the distribution plot extremely skewed. The maximum value does not make any sense since it has **294 days** of duration."
   ]
  },
  {
   "cell_type": "code",
   "execution_count": 15,
   "id": "d4f181cc",
   "metadata": {},
   "outputs": [
    {
     "data": {
      "text/html": [
       "<div>\n",
       "<style scoped>\n",
       "    .dataframe tbody tr th:only-of-type {\n",
       "        vertical-align: middle;\n",
       "    }\n",
       "\n",
       "    .dataframe tbody tr th {\n",
       "        vertical-align: top;\n",
       "    }\n",
       "\n",
       "    .dataframe thead th {\n",
       "        text-align: right;\n",
       "    }\n",
       "</style>\n",
       "<table border=\"1\" class=\"dataframe\">\n",
       "  <thead>\n",
       "    <tr style=\"text-align: right;\">\n",
       "      <th></th>\n",
       "      <th>dispatching_base_num</th>\n",
       "      <th>pickup_datetime</th>\n",
       "      <th>dropOff_datetime</th>\n",
       "      <th>PUlocationID</th>\n",
       "      <th>DOlocationID</th>\n",
       "      <th>SR_Flag</th>\n",
       "      <th>Affiliated_base_number</th>\n",
       "      <th>duration</th>\n",
       "    </tr>\n",
       "  </thead>\n",
       "  <tbody>\n",
       "    <tr>\n",
       "      <th>345570</th>\n",
       "      <td>B03055</td>\n",
       "      <td>2021-01-11 05:52:43</td>\n",
       "      <td>2021-11-01 06:03:46</td>\n",
       "      <td>NaN</td>\n",
       "      <td>55.0</td>\n",
       "      <td>None</td>\n",
       "      <td>B03055</td>\n",
       "      <td>423371.05</td>\n",
       "    </tr>\n",
       "  </tbody>\n",
       "</table>\n",
       "</div>"
      ],
      "text/plain": [
       "       dispatching_base_num     pickup_datetime    dropOff_datetime  \\\n",
       "345570               B03055 2021-01-11 05:52:43 2021-11-01 06:03:46   \n",
       "\n",
       "        PUlocationID  DOlocationID SR_Flag Affiliated_base_number   duration  \n",
       "345570           NaN          55.0    None                 B03055  423371.05  "
      ]
     },
     "execution_count": 15,
     "metadata": {},
     "output_type": "execute_result"
    }
   ],
   "source": [
    "df_jan[df_jan.duration == df_jan.duration.max()]"
   ]
  },
  {
   "cell_type": "markdown",
   "id": "c20df998",
   "metadata": {},
   "source": [
    "This extreme value is due to a **datetime format** problem -> where the month and day are switched. To solve this problem one must look at this extreme cases, and set a datetime format to every datetime column."
   ]
  },
  {
   "cell_type": "code",
   "execution_count": 16,
   "id": "f1afd176",
   "metadata": {},
   "outputs": [
    {
     "data": {
      "text/plain": [
       "Timedelta('0 days 00:11:03')"
      ]
     },
     "execution_count": 16,
     "metadata": {},
     "output_type": "execute_result"
    }
   ],
   "source": [
    "pd.to_datetime('2021-01-11 06:03:46') - pd.to_datetime('2021-01-11 05:52:43')"
   ]
  },
  {
   "cell_type": "markdown",
   "id": "e8d4e67a",
   "metadata": {},
   "source": [
    "The trip was suppose to last for 11 minutes."
   ]
  },
  {
   "cell_type": "markdown",
   "id": "93e27b3b",
   "metadata": {},
   "source": [
    "### Data Filtering"
   ]
  },
  {
   "cell_type": "code",
   "execution_count": 17,
   "id": "f62678da",
   "metadata": {
    "scrolled": true
   },
   "outputs": [],
   "source": [
    "orig_records = df_jan.shape[0]\n",
    "df_jan = df_jan[(df_jan.duration >= 1) & (df_jan.duration <= 60)].copy()"
   ]
  },
  {
   "cell_type": "markdown",
   "id": "a45d914a",
   "metadata": {},
   "source": [
    "#### Extra Question: How many records were dropped?"
   ]
  },
  {
   "cell_type": "code",
   "execution_count": 18,
   "id": "9e1b0ce1",
   "metadata": {},
   "outputs": [],
   "source": [
    "rows_drop = orig_records - df_jan[(df_jan.duration >= 1) & (df_jan.duration <= 60)].shape[0]"
   ]
  },
  {
   "cell_type": "code",
   "execution_count": 19,
   "id": "3859bd6a",
   "metadata": {
    "scrolled": true
   },
   "outputs": [
    {
     "name": "stdout",
     "output_type": "stream",
     "text": [
      "Answer: 44286\n"
     ]
    }
   ],
   "source": [
    "print(f'Answer: {rows_drop}')"
   ]
  },
  {
   "cell_type": "markdown",
   "id": "2dcb4e10",
   "metadata": {},
   "source": [
    "## Q3: Missing values"
   ]
  },
  {
   "cell_type": "code",
   "execution_count": 20,
   "id": "533a9ae1",
   "metadata": {},
   "outputs": [
    {
     "data": {
      "text/html": [
       "<div>\n",
       "<style scoped>\n",
       "    .dataframe tbody tr th:only-of-type {\n",
       "        vertical-align: middle;\n",
       "    }\n",
       "\n",
       "    .dataframe tbody tr th {\n",
       "        vertical-align: top;\n",
       "    }\n",
       "\n",
       "    .dataframe thead th {\n",
       "        text-align: right;\n",
       "    }\n",
       "</style>\n",
       "<table border=\"1\" class=\"dataframe\">\n",
       "  <thead>\n",
       "    <tr style=\"text-align: right;\">\n",
       "      <th></th>\n",
       "      <th>dispatching_base_num</th>\n",
       "      <th>pickup_datetime</th>\n",
       "      <th>dropOff_datetime</th>\n",
       "      <th>PUlocationID</th>\n",
       "      <th>DOlocationID</th>\n",
       "      <th>SR_Flag</th>\n",
       "      <th>Affiliated_base_number</th>\n",
       "      <th>duration</th>\n",
       "    </tr>\n",
       "  </thead>\n",
       "  <tbody>\n",
       "  </tbody>\n",
       "</table>\n",
       "</div>"
      ],
      "text/plain": [
       "Empty DataFrame\n",
       "Columns: [dispatching_base_num, pickup_datetime, dropOff_datetime, PUlocationID, DOlocationID, SR_Flag, Affiliated_base_number, duration]\n",
       "Index: []"
      ]
     },
     "execution_count": 20,
     "metadata": {},
     "output_type": "execute_result"
    }
   ],
   "source": [
    "df_jan[df_jan.PUlocationID == -1]"
   ]
  },
  {
   "cell_type": "markdown",
   "id": "fa62cf8f",
   "metadata": {},
   "source": [
    "### What's the fractions of missing values for the pickup location ID?"
   ]
  },
  {
   "cell_type": "code",
   "execution_count": 21,
   "id": "fdb92b87",
   "metadata": {},
   "outputs": [],
   "source": [
    "A3 = round(df_jan['PUlocationID'].isnull().sum() / df_jan.shape[0]* 100, 2)"
   ]
  },
  {
   "cell_type": "code",
   "execution_count": 22,
   "id": "117829db",
   "metadata": {
    "scrolled": true
   },
   "outputs": [
    {
     "name": "stdout",
     "output_type": "stream",
     "text": [
      "Answer: 83.53 %\n"
     ]
    }
   ],
   "source": [
    "print(f'Answer: {A3} %')"
   ]
  },
  {
   "cell_type": "code",
   "execution_count": 23,
   "id": "c3d07d94",
   "metadata": {},
   "outputs": [],
   "source": [
    "df_jan['PUlocationID'] = df_jan['PUlocationID'].fillna(-1)"
   ]
  },
  {
   "cell_type": "markdown",
   "id": "455da7d5",
   "metadata": {},
   "source": [
    "## Q4: One-hot encoding"
   ]
  },
  {
   "cell_type": "code",
   "execution_count": 24,
   "id": "0b1be59e",
   "metadata": {},
   "outputs": [],
   "source": [
    "categorical = ['PUlocationID', 'DOlocationID']\n",
    "\n",
    "# Transform to string\n",
    "df_jan[categorical] = df_jan[categorical].astype(str)\n",
    "\n",
    "# Transform into dictionary of records\n",
    "train_dicts = df_jan[categorical].to_dict(orient='records')\n",
    "\n",
    "# Apply Dictvectorizer\n",
    "dv = DictVectorizer()\n",
    "X_train = dv.fit_transform(train_dicts)"
   ]
  },
  {
   "cell_type": "code",
   "execution_count": 25,
   "id": "7292d256",
   "metadata": {},
   "outputs": [
    {
     "data": {
      "text/plain": [
       "(1109826, 525)"
      ]
     },
     "execution_count": 25,
     "metadata": {},
     "output_type": "execute_result"
    }
   ],
   "source": [
    "X_train.shape"
   ]
  },
  {
   "cell_type": "markdown",
   "id": "da592fab",
   "metadata": {},
   "source": [
    "### What's the dimensionality of this matrix? (The number of columns)"
   ]
  },
  {
   "cell_type": "code",
   "execution_count": 26,
   "id": "811f37a3",
   "metadata": {},
   "outputs": [],
   "source": [
    "A4 = len(dv.get_feature_names_out())"
   ]
  },
  {
   "cell_type": "code",
   "execution_count": 27,
   "id": "47be6824",
   "metadata": {},
   "outputs": [
    {
     "name": "stdout",
     "output_type": "stream",
     "text": [
      "Answer: 525 columns\n"
     ]
    }
   ],
   "source": [
    "print(f'Answer: {A4} columns')"
   ]
  },
  {
   "cell_type": "markdown",
   "id": "2db58c13",
   "metadata": {},
   "source": [
    "## Q5: Training a model"
   ]
  },
  {
   "cell_type": "code",
   "execution_count": 28,
   "id": "6f2e20f4",
   "metadata": {},
   "outputs": [],
   "source": [
    "target = 'duration'\n",
    "y_train = df_jan[target].values"
   ]
  },
  {
   "cell_type": "code",
   "execution_count": 29,
   "id": "7d2e93b1",
   "metadata": {},
   "outputs": [
    {
     "data": {
      "text/html": [
       "<style>#sk-container-id-1 {color: black;background-color: white;}#sk-container-id-1 pre{padding: 0;}#sk-container-id-1 div.sk-toggleable {background-color: white;}#sk-container-id-1 label.sk-toggleable__label {cursor: pointer;display: block;width: 100%;margin-bottom: 0;padding: 0.3em;box-sizing: border-box;text-align: center;}#sk-container-id-1 label.sk-toggleable__label-arrow:before {content: \"▸\";float: left;margin-right: 0.25em;color: #696969;}#sk-container-id-1 label.sk-toggleable__label-arrow:hover:before {color: black;}#sk-container-id-1 div.sk-estimator:hover label.sk-toggleable__label-arrow:before {color: black;}#sk-container-id-1 div.sk-toggleable__content {max-height: 0;max-width: 0;overflow: hidden;text-align: left;background-color: #f0f8ff;}#sk-container-id-1 div.sk-toggleable__content pre {margin: 0.2em;color: black;border-radius: 0.25em;background-color: #f0f8ff;}#sk-container-id-1 input.sk-toggleable__control:checked~div.sk-toggleable__content {max-height: 200px;max-width: 100%;overflow: auto;}#sk-container-id-1 input.sk-toggleable__control:checked~label.sk-toggleable__label-arrow:before {content: \"▾\";}#sk-container-id-1 div.sk-estimator input.sk-toggleable__control:checked~label.sk-toggleable__label {background-color: #d4ebff;}#sk-container-id-1 div.sk-label input.sk-toggleable__control:checked~label.sk-toggleable__label {background-color: #d4ebff;}#sk-container-id-1 input.sk-hidden--visually {border: 0;clip: rect(1px 1px 1px 1px);clip: rect(1px, 1px, 1px, 1px);height: 1px;margin: -1px;overflow: hidden;padding: 0;position: absolute;width: 1px;}#sk-container-id-1 div.sk-estimator {font-family: monospace;background-color: #f0f8ff;border: 1px dotted black;border-radius: 0.25em;box-sizing: border-box;margin-bottom: 0.5em;}#sk-container-id-1 div.sk-estimator:hover {background-color: #d4ebff;}#sk-container-id-1 div.sk-parallel-item::after {content: \"\";width: 100%;border-bottom: 1px solid gray;flex-grow: 1;}#sk-container-id-1 div.sk-label:hover label.sk-toggleable__label {background-color: #d4ebff;}#sk-container-id-1 div.sk-serial::before {content: \"\";position: absolute;border-left: 1px solid gray;box-sizing: border-box;top: 0;bottom: 0;left: 50%;z-index: 0;}#sk-container-id-1 div.sk-serial {display: flex;flex-direction: column;align-items: center;background-color: white;padding-right: 0.2em;padding-left: 0.2em;position: relative;}#sk-container-id-1 div.sk-item {position: relative;z-index: 1;}#sk-container-id-1 div.sk-parallel {display: flex;align-items: stretch;justify-content: center;background-color: white;position: relative;}#sk-container-id-1 div.sk-item::before, #sk-container-id-1 div.sk-parallel-item::before {content: \"\";position: absolute;border-left: 1px solid gray;box-sizing: border-box;top: 0;bottom: 0;left: 50%;z-index: -1;}#sk-container-id-1 div.sk-parallel-item {display: flex;flex-direction: column;z-index: 1;position: relative;background-color: white;}#sk-container-id-1 div.sk-parallel-item:first-child::after {align-self: flex-end;width: 50%;}#sk-container-id-1 div.sk-parallel-item:last-child::after {align-self: flex-start;width: 50%;}#sk-container-id-1 div.sk-parallel-item:only-child::after {width: 0;}#sk-container-id-1 div.sk-dashed-wrapped {border: 1px dashed gray;margin: 0 0.4em 0.5em 0.4em;box-sizing: border-box;padding-bottom: 0.4em;background-color: white;}#sk-container-id-1 div.sk-label label {font-family: monospace;font-weight: bold;display: inline-block;line-height: 1.2em;}#sk-container-id-1 div.sk-label-container {text-align: center;}#sk-container-id-1 div.sk-container {/* jupyter's `normalize.less` sets `[hidden] { display: none; }` but bootstrap.min.css set `[hidden] { display: none !important; }` so we also need the `!important` here to be able to override the default hidden behavior on the sphinx rendered scikit-learn.org. See: https://github.com/scikit-learn/scikit-learn/issues/21755 */display: inline-block !important;position: relative;}#sk-container-id-1 div.sk-text-repr-fallback {display: none;}</style><div id=\"sk-container-id-1\" class=\"sk-top-container\"><div class=\"sk-text-repr-fallback\"><pre>LinearRegression()</pre><b>In a Jupyter environment, please rerun this cell to show the HTML representation or trust the notebook. <br />On GitHub, the HTML representation is unable to render, please try loading this page with nbviewer.org.</b></div><div class=\"sk-container\" hidden><div class=\"sk-item\"><div class=\"sk-estimator sk-toggleable\"><input class=\"sk-toggleable__control sk-hidden--visually\" id=\"sk-estimator-id-1\" type=\"checkbox\" checked><label for=\"sk-estimator-id-1\" class=\"sk-toggleable__label sk-toggleable__label-arrow\">LinearRegression</label><div class=\"sk-toggleable__content\"><pre>LinearRegression()</pre></div></div></div></div></div>"
      ],
      "text/plain": [
       "LinearRegression()"
      ]
     },
     "execution_count": 29,
     "metadata": {},
     "output_type": "execute_result"
    }
   ],
   "source": [
    "lr = LinearRegression()\n",
    "lr.fit(X_train, y_train)"
   ]
  },
  {
   "cell_type": "markdown",
   "id": "23444fec",
   "metadata": {},
   "source": [
    "### What's the RMSE on train?"
   ]
  },
  {
   "cell_type": "code",
   "execution_count": 30,
   "id": "234a83ed",
   "metadata": {},
   "outputs": [
    {
     "name": "stdout",
     "output_type": "stream",
     "text": [
      "Answer: 10.5285 RMSE on train\n"
     ]
    }
   ],
   "source": [
    "y_pred_train = lr.predict(X_train)\n",
    "\n",
    "A5 = round(mean_squared_error(y_train, y_pred_train, squared=False), 4)\n",
    "print(f'Answer: {A5} RMSE on train')"
   ]
  },
  {
   "cell_type": "markdown",
   "id": "20ff947d",
   "metadata": {},
   "source": [
    "## Q6: Evaluating the model"
   ]
  },
  {
   "cell_type": "code",
   "execution_count": 31,
   "id": "a8290e06",
   "metadata": {},
   "outputs": [],
   "source": [
    "df_feb = pd.read_parquet(os.path.join('data', feb_filename))\n",
    "\n",
    "df_feb = create_target(df_feb)\n",
    "\n",
    "df_feb = df_feb[(df_feb.duration >= 1) & (df_feb.duration <= 60)].copy()\n",
    "\n",
    "df_feb['PUlocationID'] = df_feb['PUlocationID'].fillna(-1)\n",
    "\n",
    "\n",
    "categorical = ['PUlocationID', 'DOlocationID']\n",
    "\n",
    "# Transform to string\n",
    "df_feb[categorical] = df_feb[categorical].astype(str)\n",
    "\n",
    "# Transform into dictionary of records\n",
    "val_dicts = df_feb[categorical].to_dict(orient='records')\n",
    "\n",
    "# Apply Dictvectorizer\n",
    "X_val = dv.transform(val_dicts)"
   ]
  },
  {
   "cell_type": "markdown",
   "id": "e9fab1bb",
   "metadata": {},
   "source": [
    "### What's the RMSE on validation?"
   ]
  },
  {
   "cell_type": "code",
   "execution_count": 32,
   "id": "e036bd61",
   "metadata": {},
   "outputs": [
    {
     "name": "stdout",
     "output_type": "stream",
     "text": [
      "Answer: 11.0143 RMSE on validation\n"
     ]
    }
   ],
   "source": [
    "y_val = df_feb[target].values\n",
    "y_pred_val = lr.predict(X_val)\n",
    "\n",
    "A5 = round(mean_squared_error(y_val, y_pred_val, squared=False), 4)\n",
    "print(f'Answer: {A5} RMSE on validation')"
   ]
  },
  {
   "cell_type": "markdown",
   "id": "e61b78df",
   "metadata": {},
   "source": [
    "---"
   ]
  },
  {
   "cell_type": "code",
   "execution_count": 33,
   "id": "613fe155",
   "metadata": {},
   "outputs": [
    {
     "data": {
      "text/html": [
       "<style>.container { width:100% !important; }</style>"
      ],
      "text/plain": [
       "<IPython.core.display.HTML object>"
      ]
     },
     "metadata": {},
     "output_type": "display_data"
    }
   ],
   "source": [
    "from IPython.display import display, HTML\n",
    "display(HTML(\"<style>.container { width:100% !important; }</style>\"))"
   ]
  }
 ],
 "metadata": {
  "kernelspec": {
   "display_name": "Python 3 (ipykernel)",
   "language": "python",
   "name": "python3"
  },
  "language_info": {
   "codemirror_mode": {
    "name": "ipython",
    "version": 3
   },
   "file_extension": ".py",
   "mimetype": "text/x-python",
   "name": "python",
   "nbconvert_exporter": "python",
   "pygments_lexer": "ipython3",
   "version": "3.9.12"
  },
  "toc": {
   "base_numbering": 1,
   "nav_menu": {},
   "number_sections": false,
   "sideBar": true,
   "skip_h1_title": false,
   "title_cell": "Table of Contents",
   "title_sidebar": "Contents",
   "toc_cell": true,
   "toc_position": {},
   "toc_section_display": true,
   "toc_window_display": false
  }
 },
 "nbformat": 4,
 "nbformat_minor": 5
}
