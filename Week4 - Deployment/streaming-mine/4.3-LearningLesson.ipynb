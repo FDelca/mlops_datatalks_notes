{
 "cells": [
  {
   "cell_type": "markdown",
   "metadata": {},
   "source": [
    "# Streaming\n",
    "\n",
    "Deploying models with Kinesis and Lambda"
   ]
  },
  {
   "cell_type": "markdown",
   "metadata": {},
   "source": [
    "- Since we are going to connect Kinesis and Lambda we need to create a role. Then create a lambda and a kinesis. \n",
    "- Use an Iam user to be able to access it through cli interface.\n",
    "- Define aws configuration using `aws configure` and the access keys created;\n",
    "    - The configuration should also have the right region: in our case eu-west-1 --- Ireland which is cheaper"
   ]
  },
  {
   "cell_type": "markdown",
   "metadata": {},
   "source": [
    "Use the code below to test the connection:"
   ]
  },
  {
   "cell_type": "markdown",
   "metadata": {},
   "source": [
    "```bash\n",
    "KINESIS_STREAM_INPUT=ride_events\n",
    "aws kinesis put-record \\\n",
    "    --stream-name ${KINESIS_STREAM_INPUT} \\\n",
    "    --partition-key 1 \\\n",
    "    --data \"Hello, this is a test.\"\n",
    "```"
   ]
  },
  {
   "cell_type": "markdown",
   "metadata": {},
   "source": [
    "#### Test Result"
   ]
  },
  {
   "cell_type": "markdown",
   "metadata": {},
   "source": [
    "```bash\n",
    "{\n",
    "    \"Records\": [\n",
    "        {\n",
    "            \"kinesis\": {\n",
    "                \"kinesisSchemaVersion\": \"1.0\",\n",
    "                \"partitionKey\": \"1\",\n",
    "                \"sequenceNumber\": \"49630552547568587995806527911353522008422907822311735298\",\n",
    "                \"data\": \"SGVsbG8sIHRoaXMgaXMgYSB0ZXN0Lg==\",\n",
    "                \"approximateArrivalTimestamp\": 1655480981.664\n",
    "            },\n",
    "            \"eventSource\": \"aws:kinesis\",\n",
    "            \"eventVersion\": \"1.0\",\n",
    "            \"eventID\": \"shardId-000000000000:49630552547568587995806527911353522008422907822311735298\",\n",
    "            \"eventName\": \"aws:kinesis:record\",\n",
    "            \"invokeIdentityArn\": \"arn:aws:iam::170107914870:role/lambda-kinesis-role\",\n",
    "            \"awsRegion\": \"eu-west-1\",\n",
    "            \"eventSourceARN\": \"arn:aws:kinesis:eu-west-1:170107914870:stream/ride_events\"\n",
    "        }\n",
    "    ]\n",
    "}\n",
    "```"
   ]
  },
  {
   "cell_type": "code",
   "execution_count": 4,
   "metadata": {},
   "outputs": [],
   "source": [
    "data_encoded = 'SGVsbG8sIHRoaXMgaXMgYSB0ZXN0Lg=='"
   ]
  },
  {
   "cell_type": "code",
   "execution_count": 5,
   "metadata": {},
   "outputs": [
    {
     "data": {
      "text/plain": [
       "'Hello, this is a test.'"
      ]
     },
     "execution_count": 5,
     "metadata": {},
     "output_type": "execute_result"
    }
   ],
   "source": [
    "import base64\n",
    "base64.b64decode(data_encoded).decode('utf-8')"
   ]
  }
 ],
 "metadata": {
  "kernelspec": {
   "display_name": "Python 3.9.13 ('mlcourse04')",
   "language": "python",
   "name": "python3"
  },
  "language_info": {
   "codemirror_mode": {
    "name": "ipython",
    "version": 3
   },
   "file_extension": ".py",
   "mimetype": "text/x-python",
   "name": "python",
   "nbconvert_exporter": "python",
   "pygments_lexer": "ipython3",
   "version": "3.9.13"
  },
  "orig_nbformat": 4,
  "vscode": {
   "interpreter": {
    "hash": "6dd4010582298de36542aa535fa6535eb8d52a9a12ac9dfa1da419a6f8bf84ff"
   }
  }
 },
 "nbformat": 4,
 "nbformat_minor": 2
}
