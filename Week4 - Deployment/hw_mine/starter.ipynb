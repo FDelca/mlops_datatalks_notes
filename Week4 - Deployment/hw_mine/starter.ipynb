{
 "cells": [
  {
   "cell_type": "code",
   "execution_count": 2,
   "id": "2c51efaa",
   "metadata": {},
   "outputs": [
    {
     "name": "stdout",
     "output_type": "stream",
     "text": [
      "scikit-learn==1.0.2\n"
     ]
    }
   ],
   "source": [
    "!pip freeze | grep scikit-learn"
   ]
  },
  {
   "cell_type": "code",
   "execution_count": 3,
   "id": "0ef880a0",
   "metadata": {},
   "outputs": [],
   "source": [
    "import pickle\n",
    "import pandas as pd"
   ]
  },
  {
   "cell_type": "code",
   "execution_count": 4,
   "id": "7836ccfd",
   "metadata": {},
   "outputs": [],
   "source": [
    "with open('model.bin', 'rb') as f_in:\n",
    "    dv, lr = pickle.load(f_in)"
   ]
  },
  {
   "cell_type": "code",
   "execution_count": 5,
   "id": "41c08294",
   "metadata": {},
   "outputs": [],
   "source": [
    "categorical = ['PUlocationID', 'DOlocationID']\n",
    "\n",
    "def read_data(filename):\n",
    "    df = pd.read_parquet(filename)\n",
    "    \n",
    "    df['duration'] = df.dropOff_datetime - df.pickup_datetime\n",
    "    df['duration'] = df.duration.dt.total_seconds() / 60\n",
    "\n",
    "    df = df[(df.duration >= 1) & (df.duration <= 60)].copy()\n",
    "\n",
    "    df[categorical] = df[categorical].fillna(-1).astype('int').astype('str')\n",
    "    \n",
    "    return df"
   ]
  },
  {
   "cell_type": "code",
   "execution_count": 10,
   "id": "2e58143f",
   "metadata": {},
   "outputs": [],
   "source": [
    "year = 2021 \n",
    "month = 2\n",
    "taxi_type = 'fhv'\n",
    "\n",
    "input_file = f\"s3://nyc-tlc/trip data/{taxi_type}_tripdata_{year:04d}-{month:02d}.parquet\"\n",
    "df = read_data(input_file)"
   ]
  },
  {
   "cell_type": "code",
   "execution_count": 11,
   "id": "669fda0a",
   "metadata": {},
   "outputs": [],
   "source": [
    "dicts = df[categorical].to_dict(orient='records')\n",
    "X_val = dv.transform(dicts)\n",
    "y_pred = lr.predict(X_val)"
   ]
  },
  {
   "cell_type": "markdown",
   "id": "651e3183",
   "metadata": {},
   "source": [
    "## Q1. Notebook"
   ]
  },
  {
   "cell_type": "markdown",
   "id": "fc4d7d01",
   "metadata": {},
   "source": [
    "### What's the mean predicted duration for this dataset?"
   ]
  },
  {
   "cell_type": "code",
   "execution_count": 15,
   "id": "8be9af32",
   "metadata": {},
   "outputs": [
    {
     "data": {
      "text/plain": [
       "16.191691679979066"
      ]
     },
     "execution_count": 15,
     "metadata": {},
     "output_type": "execute_result"
    }
   ],
   "source": [
    "y_pred.mean()"
   ]
  },
  {
   "cell_type": "markdown",
   "id": "ce1b51c4",
   "metadata": {},
   "source": [
    "Answer: 16.19"
   ]
  },
  {
   "cell_type": "markdown",
   "id": "ec57d696",
   "metadata": {},
   "source": [
    "## Q2. Preparing the output"
   ]
  },
  {
   "cell_type": "code",
   "execution_count": 18,
   "id": "d09369bc",
   "metadata": {},
   "outputs": [],
   "source": [
    "df['ride_id'] = f'{year:04d}/{month:02d}_' + df.index.astype('str')"
   ]
  },
  {
   "cell_type": "code",
   "execution_count": 22,
   "id": "cf21a4d7",
   "metadata": {},
   "outputs": [],
   "source": [
    "output_file = f\"output/fhv/{year:04d}_{month:02d}.parquet\"\n",
    "df_result = pd.DataFrame()\n",
    "df_result['ride_id'] = df['ride_id']\n",
    "df_result['predicted_duration'] = y_pred\n",
    "df_result.to_parquet(\n",
    "    output_file,\n",
    "    engine='pyarrow',\n",
    "    compression=None,\n",
    "    index=False\n",
    ")"
   ]
  },
  {
   "cell_type": "markdown",
   "id": "43ce9949",
   "metadata": {},
   "source": [
    "### What's the size of the output file?"
   ]
  },
  {
   "cell_type": "code",
   "execution_count": 26,
   "id": "b794d3ce",
   "metadata": {},
   "outputs": [
    {
     "name": "stdout",
     "output_type": "stream",
     "text": [
      "total 19260\n",
      "drwxrwxr-x 2 fdelca fdelca     4096 jun 28 15:23 .\n",
      "drwxrwxr-x 3 fdelca fdelca     4096 jun 28 15:22 ..\n",
      "-rw-rw-r-- 1 fdelca fdelca 19711507 jun 28 15:23 2021_02.parquet\n"
     ]
    }
   ],
   "source": [
    "! ls -la output/fhv/"
   ]
  },
  {
   "cell_type": "markdown",
   "id": "d42434d4",
   "metadata": {},
   "source": [
    "Answer: 19M"
   ]
  },
  {
   "cell_type": "markdown",
   "id": "2c7070ab",
   "metadata": {},
   "source": [
    "## Q4. Virtual environment"
   ]
  },
  {
   "cell_type": "markdown",
   "id": "1327311a",
   "metadata": {},
   "source": [
    "### What's the first hash for the Scikit-Learn dependency? "
   ]
  },
  {
   "cell_type": "code",
   "execution_count": 1,
   "id": "859253b0",
   "metadata": {},
   "outputs": [
    {
     "data": {
      "text/plain": [
       "'sha256:08ef968f6b72033c16c479c966bf37ccd49b06ea91b765e1cc27afefe723920b'"
      ]
     },
     "execution_count": 1,
     "metadata": {},
     "output_type": "execute_result"
    }
   ],
   "source": [
    "first_hash = \"sha256:08ef968f6b72033c16c479c966bf37ccd49b06ea91b765e1cc27afefe723920b\"\n",
    "first_hash"
   ]
  },
  {
   "cell_type": "markdown",
   "id": "9d806cae",
   "metadata": {},
   "source": [
    "## Q5. Parametrize the script"
   ]
  },
  {
   "cell_type": "markdown",
   "id": "ceb4da71",
   "metadata": {},
   "source": [
    "### Run the script for March 2021. What's the mean predicted duration?"
   ]
  },
  {
   "cell_type": "markdown",
   "id": "2d3ba915",
   "metadata": {},
   "source": [
    "Mean result: 16.298821614015107"
   ]
  },
  {
   "cell_type": "markdown",
   "id": "4c9ef905",
   "metadata": {},
   "source": [
    "## Q6. Docker container"
   ]
  },
  {
   "cell_type": "markdown",
   "id": "08625422",
   "metadata": {},
   "source": [
    "Mean result: 9.967573179784523"
   ]
  }
 ],
 "metadata": {
  "kernelspec": {
   "display_name": "Python 3.9.13 ('mlcourse04')",
   "language": "python",
   "name": "python3"
  },
  "language_info": {
   "codemirror_mode": {
    "name": "ipython",
    "version": 3
   },
   "file_extension": ".py",
   "mimetype": "text/x-python",
   "name": "python",
   "nbconvert_exporter": "python",
   "pygments_lexer": "ipython3",
   "version": "3.9.13"
  },
  "vscode": {
   "interpreter": {
    "hash": "6dd4010582298de36542aa535fa6535eb8d52a9a12ac9dfa1da419a6f8bf84ff"
   }
  }
 },
 "nbformat": 4,
 "nbformat_minor": 5
}
