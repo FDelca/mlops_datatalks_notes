{
 "cells": [
  {
   "cell_type": "markdown",
   "id": "8e703056",
   "metadata": {},
   "source": [
    "## 4.2-Web services: Deploying models with Flask and Docker"
   ]
  },
  {
   "cell_type": "markdown",
   "id": "3c2e5f9d",
   "metadata": {},
   "source": [
    "1. Creating a virtual environment with Pipenv;\n",
    "2. Creating a script for predicting;\n",
    "3. Putting the script into a Flask app;\n",
    "4. Packaging the app to Docker"
   ]
  },
  {
   "cell_type": "markdown",
   "id": "495a8e50",
   "metadata": {},
   "source": [
    "### 1. Creating a virtual environment with VirtualEnv"
   ]
  },
  {
   "cell_type": "markdown",
   "id": "7e7ed8c2",
   "metadata": {},
   "source": [
    "**Create a virtual environment** using **python3.9**"
   ]
  },
  {
   "cell_type": "code",
   "execution_count": 3,
   "id": "3384cf80",
   "metadata": {
    "ExecuteTime": {
     "end_time": "2022-06-15T15:19:37.429741Z",
     "start_time": "2022-06-15T15:19:37.226460Z"
    }
   },
   "outputs": [
    {
     "name": "stdout",
     "output_type": "stream",
     "text": [
      "/home/fdelca/.virtualenvs/mlcourse04/bin/python\r\n"
     ]
    }
   ],
   "source": [
    "! which python"
   ]
  },
  {
   "cell_type": "code",
   "execution_count": 6,
   "id": "a5233206",
   "metadata": {
    "ExecuteTime": {
     "end_time": "2022-06-15T15:21:04.092402Z",
     "start_time": "2022-06-15T15:21:03.887841Z"
    }
   },
   "outputs": [
    {
     "name": "stdout",
     "output_type": "stream",
     "text": [
      "Python 3.9.13\r\n"
     ]
    }
   ],
   "source": [
    "! python --version"
   ]
  },
  {
   "cell_type": "markdown",
   "id": "cbc533da",
   "metadata": {},
   "source": [
    "**Install the right version of sklearn**"
   ]
  },
  {
   "cell_type": "markdown",
   "id": "98f963a2",
   "metadata": {
    "ExecuteTime": {
     "end_time": "2022-06-15T15:18:17.534215Z",
     "start_time": "2022-06-15T15:18:17.524824Z"
    }
   },
   "source": [
    "We should get the exact same version as we used when we were building the model."
   ]
  },
  {
   "attachments": {
    "image.png": {
     "image/png": "[encoded data removed]"
    }
   },
   "cell_type": "markdown",
   "id": "068faeb2",
   "metadata": {},
   "source": [
    "![image.png](attachment:image.png)"
   ]
  },
  {
   "cell_type": "code",
   "execution_count": 4,
   "id": "66f55a03",
   "metadata": {
    "ExecuteTime": {
     "end_time": "2022-06-15T15:20:15.906581Z",
     "start_time": "2022-06-15T15:20:15.035641Z"
    }
   },
   "outputs": [
    {
     "name": "stdout",
     "output_type": "stream",
     "text": [
      "Requirement already satisfied: scikit-learn==1.1.0 in /home/fdelca/.virtualenvs/mlcourse04/lib/python3.9/site-packages (1.1.0)\n",
      "Requirement already satisfied: scipy>=1.3.2 in /home/fdelca/.virtualenvs/mlcourse04/lib/python3.9/site-packages (from scikit-learn==1.1.0) (1.8.1)\n",
      "Requirement already satisfied: numpy>=1.17.3 in /home/fdelca/.virtualenvs/mlcourse04/lib/python3.9/site-packages (from scikit-learn==1.1.0) (1.22.4)\n",
      "Requirement already satisfied: joblib>=1.0.0 in /home/fdelca/.virtualenvs/mlcourse04/lib/python3.9/site-packages (from scikit-learn==1.1.0) (1.1.0)\n",
      "Requirement already satisfied: threadpoolctl>=2.0.0 in /home/fdelca/.virtualenvs/mlcourse04/lib/python3.9/site-packages (from scikit-learn==1.1.0) (3.1.0)\n"
     ]
    }
   ],
   "source": [
    "! pip install scikit-learn==1.1.0"
   ]
  },
  {
   "cell_type": "markdown",
   "id": "2e475118",
   "metadata": {},
   "source": [
    "**And we also need to install flask in our environment**"
   ]
  },
  {
   "cell_type": "code",
   "execution_count": 5,
   "id": "46f79e0b",
   "metadata": {
    "ExecuteTime": {
     "end_time": "2022-06-15T15:20:35.187379Z",
     "start_time": "2022-06-15T15:20:34.292407Z"
    }
   },
   "outputs": [
    {
     "name": "stdout",
     "output_type": "stream",
     "text": [
      "Requirement already satisfied: flask in /home/fdelca/.virtualenvs/mlcourse04/lib/python3.9/site-packages (2.1.2)\r\n",
      "Requirement already satisfied: itsdangerous>=2.0 in /home/fdelca/.virtualenvs/mlcourse04/lib/python3.9/site-packages (from flask) (2.1.2)\r\n",
      "Requirement already satisfied: Werkzeug>=2.0 in /home/fdelca/.virtualenvs/mlcourse04/lib/python3.9/site-packages (from flask) (2.1.2)\r\n",
      "Requirement already satisfied: Jinja2>=3.0 in /home/fdelca/.virtualenvs/mlcourse04/lib/python3.9/site-packages (from flask) (3.1.2)\r\n",
      "Requirement already satisfied: click>=8.0 in /home/fdelca/.virtualenvs/mlcourse04/lib/python3.9/site-packages (from flask) (8.1.3)\r\n",
      "Requirement already satisfied: importlib-metadata>=3.6.0 in /home/fdelca/.virtualenvs/mlcourse04/lib/python3.9/site-packages (from flask) (4.11.4)\r\n",
      "Requirement already satisfied: zipp>=0.5 in /home/fdelca/.virtualenvs/mlcourse04/lib/python3.9/site-packages (from importlib-metadata>=3.6.0->flask) (3.8.0)\r\n",
      "Requirement already satisfied: MarkupSafe>=2.0 in /home/fdelca/.virtualenvs/mlcourse04/lib/python3.9/site-packages (from Jinja2>=3.0->flask) (2.1.1)\r\n"
     ]
    }
   ],
   "source": [
    "! pip install flask"
   ]
  },
  {
   "cell_type": "markdown",
   "id": "51818767",
   "metadata": {},
   "source": [
    "**Also we need to install requests**"
   ]
  },
  {
   "cell_type": "markdown",
   "id": "7213e401",
   "metadata": {},
   "source": [
    "Only for development/test"
   ]
  },
  {
   "cell_type": "code",
   "execution_count": 5,
   "id": "e8c6987c",
   "metadata": {
    "ExecuteTime": {
     "end_time": "2022-06-15T15:56:33.453644Z",
     "start_time": "2022-06-15T15:56:32.568437Z"
    }
   },
   "outputs": [
    {
     "name": "stdout",
     "output_type": "stream",
     "text": [
      "Requirement already satisfied: requests in /home/fdelca/.virtualenvs/mlcourse04/lib/python3.9/site-packages (2.28.0)\r\n",
      "Requirement already satisfied: charset-normalizer~=2.0.0 in /home/fdelca/.virtualenvs/mlcourse04/lib/python3.9/site-packages (from requests) (2.0.12)\r\n",
      "Requirement already satisfied: urllib3<1.27,>=1.21.1 in /home/fdelca/.virtualenvs/mlcourse04/lib/python3.9/site-packages (from requests) (1.26.9)\r\n",
      "Requirement already satisfied: idna<4,>=2.5 in /home/fdelca/.virtualenvs/mlcourse04/lib/python3.9/site-packages (from requests) (3.3)\r\n",
      "Requirement already satisfied: certifi>=2017.4.17 in /home/fdelca/.virtualenvs/mlcourse04/lib/python3.9/site-packages (from requests) (2022.5.18.1)\r\n"
     ]
    }
   ],
   "source": [
    "! pip install requests"
   ]
  },
  {
   "cell_type": "markdown",
   "id": "b9e163c3",
   "metadata": {},
   "source": [
    "**Write the packages installed in a requirements.txt file**"
   ]
  },
  {
   "cell_type": "code",
   "execution_count": 6,
   "id": "81bc6c3d",
   "metadata": {
    "ExecuteTime": {
     "end_time": "2022-06-15T15:56:36.262225Z",
     "start_time": "2022-06-15T15:56:35.741165Z"
    }
   },
   "outputs": [],
   "source": [
    "! pip freeze > requirements.txt"
   ]
  },
  {
   "cell_type": "code",
   "execution_count": 7,
   "id": "ef272114",
   "metadata": {
    "ExecuteTime": {
     "end_time": "2022-06-15T15:56:36.463146Z",
     "start_time": "2022-06-15T15:56:36.265140Z"
    }
   },
   "outputs": [
    {
     "name": "stdout",
     "output_type": "stream",
     "text": [
      "argon2-cffi==21.3.0\r\n",
      "argon2-cffi-bindings==21.2.0\r\n",
      "asttokens==2.0.5\r\n",
      "attrs==21.4.0\r\n",
      "backcall==0.2.0\r\n",
      "beautifulsoup4==4.11.1\r\n",
      "bleach==5.0.0\r\n",
      "certifi==2022.5.18.1\r\n",
      "cffi==1.15.0\r\n",
      "charset-normalizer==2.0.12\r\n",
      "click==8.1.3\r\n",
      "debugpy==1.6.0\r\n",
      "decorator==5.1.1\r\n",
      "defusedxml==0.7.1\r\n",
      "entrypoints==0.4\r\n",
      "executing==0.8.3\r\n",
      "fastjsonschema==2.15.3\r\n",
      "Flask==2.1.2\r\n",
      "idna==3.3\r\n",
      "importlib-metadata==4.11.4\r\n",
      "ipykernel==6.14.0\r\n",
      "ipython==8.4.0\r\n",
      "ipython-genutils==0.2.0\r\n",
      "itsdangerous==2.1.2\r\n",
      "jedi==0.18.1\r\n",
      "Jinja2==3.1.2\r\n",
      "joblib==1.1.0\r\n",
      "jsonschema==4.6.0\r\n",
      "jupyter-client==7.3.4\r\n",
      "jupyter-core==4.10.0\r\n",
      "jupyterlab-pygments==0.2.2\r\n",
      "MarkupSafe==2.1.1\r\n",
      "matplotlib-inline==0.1.3\r\n",
      "mistune==0.8.4\r\n",
      "nbclient==0.6.4\r\n",
      "nbconvert==6.5.0\r\n",
      "nbformat==5.4.0\r\n",
      "nest-asyncio==1.5.5\r\n",
      "notebook==6.4.12\r\n",
      "numpy==1.22.4\r\n",
      "packaging==21.3\r\n",
      "pandocfilters==1.5.0\r\n",
      "parso==0.8.3\r\n",
      "pexpect==4.8.0\r\n",
      "pickleshare==0.7.5\r\n",
      "prometheus-client==0.14.1\r\n",
      "prompt-toolkit==3.0.29\r\n",
      "psutil==5.9.1\r\n",
      "ptyprocess==0.7.0\r\n",
      "pure-eval==0.2.2\r\n",
      "pycparser==2.21\r\n",
      "Pygments==2.12.0\r\n",
      "pyparsing==3.0.9\r\n",
      "pyrsistent==0.18.1\r\n",
      "python-dateutil==2.8.2\r\n",
      "pyzmq==23.1.0\r\n",
      "requests==2.28.0\r\n",
      "scikit-learn==1.1.0\r\n",
      "scipy==1.8.1\r\n",
      "Send2Trash==1.8.0\r\n",
      "six==1.16.0\r\n",
      "soupsieve==2.3.2.post1\r\n",
      "stack-data==0.2.0\r\n",
      "terminado==0.15.0\r\n",
      "threadpoolctl==3.1.0\r\n",
      "tinycss2==1.1.1\r\n",
      "tornado==6.1\r\n",
      "traitlets==5.2.2.post1\r\n",
      "urllib3==1.26.9\r\n",
      "wcwidth==0.2.5\r\n",
      "webencodings==0.5.1\r\n",
      "Werkzeug==2.1.2\r\n",
      "zipp==3.8.0\r\n"
     ]
    }
   ],
   "source": [
    "! cat requirements.txt"
   ]
  },
  {
   "cell_type": "markdown",
   "id": "f59600e4",
   "metadata": {},
   "source": [
    "### 2. Creating a prediction.py script"
   ]
  },
  {
   "cell_type": "markdown",
   "id": "c8e90931",
   "metadata": {},
   "source": [
    "That will:\n",
    "- Load the model;\n",
    "- Score the request;\n",
    "- Return the score"
   ]
  },
  {
   "cell_type": "markdown",
   "id": "a35e1d79",
   "metadata": {},
   "source": [
    "2.1 **Move the model created to the same folder as the script**"
   ]
  },
  {
   "cell_type": "markdown",
   "id": "dc5d3550",
   "metadata": {},
   "source": [
    "2.2 **Build a predict.py script**"
   ]
  },
  {
   "cell_type": "markdown",
   "id": "db81c0a7",
   "metadata": {},
   "source": [
    "```python\n",
    "import pickle \n",
    "\n",
    "# Load the model\n",
    "with open('lin_reg.bin', 'rb') as f_in:\n",
    "    (dv, model) = pickle.load(f_in)\n",
    "\n",
    "\n",
    "# Data Transformation\n",
    "def prepare_features(ride):\n",
    "    features = {}\n",
    "    features['PU_DO'] = '%s_%s' % (ride['PULocationID'],ride['DOLocationID']) # This approach will turn everything into a string\n",
    "    features['trip_distance'] = ride['trip_distance']\n",
    "    return features\n",
    "\n",
    "\n",
    "# Create a function to predict\n",
    "def predict(features):\n",
    "    X = dv.transform(features)\n",
    "    preds = model.predict(X)\n",
    "    return preds\n",
    "```"
   ]
  },
  {
   "cell_type": "markdown",
   "id": "8d0d2a8b",
   "metadata": {},
   "source": [
    "2.3 **Build a test.py script**"
   ]
  },
  {
   "cell_type": "markdown",
   "id": "adf07a66",
   "metadata": {},
   "source": [
    "```python\n",
    "import predict\n",
    "\n",
    "ride = {\n",
    "    \"PULocationID\": 10,\n",
    "    \"DOLocationID\": 50,\n",
    "    \"trip_distance\": 40, \n",
    "}\n",
    "\n",
    "\n",
    "features = predict.prepare_features(ride)\n",
    "pred = predict.predict(features)\n",
    "print(pred)\n",
    "```"
   ]
  },
  {
   "cell_type": "code",
   "execution_count": 3,
   "id": "151157fb",
   "metadata": {
    "ExecuteTime": {
     "end_time": "2022-06-15T15:40:30.085029Z",
     "start_time": "2022-06-15T15:40:29.369226Z"
    }
   },
   "outputs": [
    {
     "name": "stdout",
     "output_type": "stream",
     "text": [
      "25.82088229285187\r\n"
     ]
    }
   ],
   "source": [
    "! python test.py"
   ]
  },
  {
   "cell_type": "markdown",
   "id": "05f17cf7",
   "metadata": {},
   "source": [
    "It works! Now lets wrap up everything in a Flask application"
   ]
  },
  {
   "cell_type": "markdown",
   "id": "6d25761b",
   "metadata": {},
   "source": [
    "### 3. Putting the script into a Flask app;"
   ]
  },
  {
   "cell_type": "markdown",
   "id": "e4bbe804",
   "metadata": {},
   "source": [
    "```python\n",
    "import pickle \n",
    "from flask import Flask, request, jsonify\n",
    "\n",
    "# Load the model\n",
    "with open('lin_reg.bin', 'rb') as f_in:\n",
    "    (dv, model) = pickle.load(f_in)\n",
    "\n",
    "\n",
    "# Data Transformation\n",
    "def prepare_features(ride):\n",
    "    features = {}\n",
    "    features['PU_DO'] = '%s_%s' % (ride['PULocationID'], ride['DOLocationID']) # This approach will turn everything into a string\n",
    "    features['trip_distance'] = ride['trip_distance']\n",
    "    return features\n",
    "\n",
    "\n",
    "# Create a function to predict\n",
    "def predict(features):\n",
    "    X = dv.transform(features)\n",
    "    preds = model.predict(X)\n",
    "    return float(preds[0])\n",
    "\n",
    "\n",
    "\n",
    "# Create a flask application\n",
    "app = Flask('duration-prediction')\n",
    "\n",
    "\n",
    "# Create a function to wrap everything\n",
    "@app.route('/predict', methods=['POST'])\n",
    "def predict_endpoint():\n",
    "    ride = request.get_json()\n",
    "\n",
    "    features = prepare_features(ride)\n",
    "    pred = predict(features)\n",
    "\n",
    "    result = {\n",
    "        'duration': pred\n",
    "    }\n",
    "\n",
    "    return jsonify(result)\n",
    "\n",
    "\n",
    "# And finally run the flask application\n",
    "if __name__ == '__main__':\n",
    "    app.run(debug=True, host='0.0.0.0', port=9696)\n",
    "```"
   ]
  },
  {
   "cell_type": "markdown",
   "id": "b5e2f4f5",
   "metadata": {},
   "source": [
    "3.1 **Then run `! python predict.py` to run the app**"
   ]
  },
  {
   "cell_type": "markdown",
   "id": "df9d88dc",
   "metadata": {},
   "source": [
    "3.2 **Now we can try to make a request**"
   ]
  },
  {
   "cell_type": "markdown",
   "id": "163a53e5",
   "metadata": {},
   "source": [
    "For that we will change the `test.py` file and run it"
   ]
  },
  {
   "cell_type": "markdown",
   "id": "f4c10895",
   "metadata": {},
   "source": [
    "```python\n",
    "import requests\n",
    "\n",
    "ride = {\n",
    "    \"PULocationID\": 10,\n",
    "    \"DOLocationID\": 50,\n",
    "    \"trip_distance\": 40, \n",
    "}\n",
    "\n",
    "url = 'http://127.0.0.1:9696/predict'\n",
    "response = requests.post(url, json=ride)\n",
    "print(response.json())\n",
    "```"
   ]
  },
  {
   "cell_type": "code",
   "execution_count": 9,
   "id": "c3791e13",
   "metadata": {
    "ExecuteTime": {
     "end_time": "2022-06-15T15:58:01.947336Z",
     "start_time": "2022-06-15T15:58:01.640585Z"
    }
   },
   "outputs": [
    {
     "name": "stdout",
     "output_type": "stream",
     "text": [
      "{'duration': 25.82088229285187}\r\n"
     ]
    }
   ],
   "source": [
    "! python test.py"
   ]
  },
  {
   "cell_type": "markdown",
   "id": "f2b33beb",
   "metadata": {},
   "source": [
    "3.3 **Install gunicorn to avoid the warning below:**"
   ]
  },
  {
   "attachments": {
    "image.png": {
     "image/png": "[encoded data removed]"
    }
   },
   "cell_type": "markdown",
   "id": "b58bb615",
   "metadata": {},
   "source": [
    "![image.png](attachment:image.png)"
   ]
  },
  {
   "cell_type": "code",
   "execution_count": 10,
   "id": "245f0dd1",
   "metadata": {
    "ExecuteTime": {
     "end_time": "2022-06-15T16:11:08.694625Z",
     "start_time": "2022-06-15T16:11:07.390688Z"
    }
   },
   "outputs": [
    {
     "name": "stdout",
     "output_type": "stream",
     "text": [
      "Collecting gunicorn\n",
      "  Using cached gunicorn-20.1.0-py3-none-any.whl (79 kB)\n",
      "Requirement already satisfied: setuptools>=3.0 in /home/fdelca/.virtualenvs/mlcourse04/lib/python3.9/site-packages (from gunicorn) (58.1.0)\n",
      "Installing collected packages: gunicorn\n",
      "Successfully installed gunicorn-20.1.0\n"
     ]
    }
   ],
   "source": [
    "! pip install gunicorn"
   ]
  },
  {
   "cell_type": "code",
   "execution_count": 11,
   "id": "7d479f74",
   "metadata": {
    "ExecuteTime": {
     "end_time": "2022-06-15T16:11:28.005093Z",
     "start_time": "2022-06-15T16:11:27.406995Z"
    }
   },
   "outputs": [],
   "source": [
    "! pip freeze > requirements.txt"
   ]
  },
  {
   "cell_type": "markdown",
   "id": "bd99dff8",
   "metadata": {},
   "source": [
    "3.4 **Then run it using gunicorn**"
   ]
  },
  {
   "cell_type": "markdown",
   "id": "7884d79c",
   "metadata": {},
   "source": [
    "`! gunicorn --bind=0.0.0.0:9696 predict:app` - Go to predict module (predict.py) and look for `app`"
   ]
  },
  {
   "cell_type": "code",
   "execution_count": 12,
   "id": "f5307e0a",
   "metadata": {
    "ExecuteTime": {
     "end_time": "2022-06-15T16:13:55.758065Z",
     "start_time": "2022-06-15T16:13:55.479014Z"
    }
   },
   "outputs": [
    {
     "name": "stdout",
     "output_type": "stream",
     "text": [
      "{'duration': 25.82088229285187}\r\n"
     ]
    }
   ],
   "source": [
    "! python test.py"
   ]
  },
  {
   "cell_type": "markdown",
   "id": "2a61358c",
   "metadata": {},
   "source": [
    "3.5 **Install --dev requests instead of just request for production purposes** (Only when using Pipenv)"
   ]
  },
  {
   "cell_type": "markdown",
   "id": "dfe57cc0",
   "metadata": {
    "ExecuteTime": {
     "end_time": "2022-06-15T16:18:02.941027Z",
     "start_time": "2022-06-15T16:18:02.440506Z"
    }
   },
   "source": [
    "`! pip install --dev requests`"
   ]
  },
  {
   "cell_type": "markdown",
   "id": "46c7993f",
   "metadata": {},
   "source": [
    "### 4. Packaging the app to Docker"
   ]
  },
  {
   "cell_type": "code",
   "execution_count": 14,
   "id": "db2aff30",
   "metadata": {
    "ExecuteTime": {
     "end_time": "2022-06-15T16:19:36.573927Z",
     "start_time": "2022-06-15T16:19:36.363418Z"
    }
   },
   "outputs": [
    {
     "name": "stdout",
     "output_type": "stream",
     "text": [
      "Python 3.9.13\r\n"
     ]
    }
   ],
   "source": [
    "! python --version"
   ]
  },
  {
   "cell_type": "markdown",
   "id": "6db1d7e4",
   "metadata": {},
   "source": [
    "4.1 **Create a Dockerfile**"
   ]
  },
  {
   "cell_type": "markdown",
   "id": "9c68a5c2",
   "metadata": {},
   "source": [
    "```docker\n",
    "FROM python:3.9.13-slim\n",
    "\n",
    "RUN pip install -U pip\n",
    "\n",
    "WORKDIR /app\n",
    "\n",
    "COPY [\"requirements.txt\", \"./\"]\n",
    "\n",
    "RUN pip install -r requirements.txt\n",
    "\n",
    "COPY [\"predict.py\", \"lin_reg.bin\", \"./\"]\n",
    "\n",
    "EXPOSE 9696\n",
    "\n",
    "ENTRYPOINT [ \"gunicorn\" , \"--bind=0.0.0.0:9696\", \"predict:app\"]\n",
    "```"
   ]
  },
  {
   "cell_type": "markdown",
   "id": "94538ced",
   "metadata": {},
   "source": [
    "4.2 **Build the docker container created**"
   ]
  },
  {
   "cell_type": "markdown",
   "id": "b733d2d1",
   "metadata": {},
   "source": [
    "This docker file will create an image:\n",
    "```bash\n",
    "docker build -t ride-duration-prediction-service:v1 .\n",
    "```\n",
    "\n",
    "To run it:\n",
    "```bash\n",
    "docker run -it --rm -p 9696:9696  ride-duration-prediction-service:v1\n",
    "```"
   ]
  },
  {
   "cell_type": "code",
   "execution_count": 15,
   "id": "6126a638",
   "metadata": {
    "ExecuteTime": {
     "end_time": "2022-06-15T17:14:22.151147Z",
     "start_time": "2022-06-15T17:14:21.842817Z"
    }
   },
   "outputs": [
    {
     "name": "stdout",
     "output_type": "stream",
     "text": [
      "{'duration': 25.82088229285187}\r\n"
     ]
    }
   ],
   "source": [
    "! python test.py"
   ]
  }
 ],
 "metadata": {
  "kernelspec": {
   "display_name": "Python 3 (ipykernel)",
   "language": "python",
   "name": "python3"
  },
  "language_info": {
   "codemirror_mode": {
    "name": "ipython",
    "version": 3
   },
   "file_extension": ".py",
   "mimetype": "text/x-python",
   "name": "python",
   "nbconvert_exporter": "python",
   "pygments_lexer": "ipython3",
   "version": "3.9.13"
  },
  "toc": {
   "base_numbering": 1,
   "nav_menu": {},
   "number_sections": false,
   "sideBar": true,
   "skip_h1_title": false,
   "title_cell": "Table of Contents",
   "title_sidebar": "Contents",
   "toc_cell": false,
   "toc_position": {},
   "toc_section_display": true,
   "toc_window_display": false
  }
 },
 "nbformat": 4,
 "nbformat_minor": 5
}
