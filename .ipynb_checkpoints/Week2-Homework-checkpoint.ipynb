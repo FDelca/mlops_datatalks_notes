{
 "cells": [
  {
   "cell_type": "markdown",
   "id": "076843ee",
   "metadata": {
    "toc": true
   },
   "source": [
    "<h1>Table of Contents<span class=\"tocSkip\"></span></h1>\n",
    "<div class=\"toc\"><ul class=\"toc-item\"><li><span><a href=\"#Q1:-Install-MLflow\" data-toc-modified-id=\"Q1:-Install-MLflow-1\">Q1: Install MLflow</a></span><ul class=\"toc-item\"><li><span><a href=\"#What-is-the-version-that-you-have?\" data-toc-modified-id=\"What-is-the-version-that-you-have?-1.1\">What is the version that you have?</a></span></li></ul></li><li><span><a href=\"#Q2:-Download-and-preprocess-the-data\" data-toc-modified-id=\"Q2:-Download-and-preprocess-the-data-2\">Q2: Download and preprocess the data</a></span><ul class=\"toc-item\"><li><ul class=\"toc-item\"><li><span><a href=\"#Run-the-preprocessor\" data-toc-modified-id=\"Run-the-preprocessor-2.0.1\">Run the preprocessor</a></span></li></ul></li><li><span><a href=\"#How-many-files-were-saved-to-OUTPUT_FOLDER?\" data-toc-modified-id=\"How-many-files-were-saved-to-OUTPUT_FOLDER?-2.1\">How many files were saved to <code>OUTPUT_FOLDER</code>?</a></span></li></ul></li><li><span><a href=\"#Q3:-Train-a-model-with-autolog\" data-toc-modified-id=\"Q3:-Train-a-model-with-autolog-3\">Q3: Train a model with autolog</a></span><ul class=\"toc-item\"><li><span><a href=\"#How-many-parameters-are-automatically-logged-by-MLflow?\" data-toc-modified-id=\"How-many-parameters-are-automatically-logged-by-MLflow?-3.1\">How many parameters are automatically logged by MLflow?</a></span></li></ul></li><li><span><a href=\"#Q4:-Launch-the-tracking-server-locally\" data-toc-modified-id=\"Q4:-Launch-the-tracking-server-locally-4\">Q4: Launch the tracking server locally</a></span><ul class=\"toc-item\"><li><span><a href=\"#In-addition-to-backend-store-uri,-what-else-do-you-need-to-pass-to-properly-configure-the-server?\" data-toc-modified-id=\"In-addition-to-backend-store-uri,-what-else-do-you-need-to-pass-to-properly-configure-the-server?-4.1\">In addition to backend-store-uri, what else do you need to pass to properly configure the server?</a></span></li></ul></li><li><span><a href=\"#Q5:-Tune-the-hyperparameters-of-the-model\" data-toc-modified-id=\"Q5:-Tune-the-hyperparameters-of-the-model-5\">Q5: Tune the hyperparameters of the model</a></span><ul class=\"toc-item\"><li><span><a href=\"#What's-the-best-validation-RMSE-that-you-got?\" data-toc-modified-id=\"What's-the-best-validation-RMSE-that-you-got?-5.1\">What's the best validation RMSE that you got?</a></span></li></ul></li><li><span><a href=\"#Q6:-Promote-the-best-model-to-the-model-registry\" data-toc-modified-id=\"Q6:-Promote-the-best-model-to-the-model-registry-6\">Q6: Promote the best model to the model registry</a></span><ul class=\"toc-item\"><li><span><a href=\"#What-is-the-test-RMSE-of-the-best-model?\" data-toc-modified-id=\"What-is-the-test-RMSE-of-the-best-model?-6.1\">What is the test RMSE of the best model?</a></span></li></ul></li></ul></div>"
   ]
  },
  {
   "cell_type": "code",
   "execution_count": 1,
   "id": "092d9f6f",
   "metadata": {
    "ExecuteTime": {
     "end_time": "2022-05-27T13:34:11.741327Z",
     "start_time": "2022-05-27T13:34:11.732618Z"
    }
   },
   "outputs": [],
   "source": [
    "import os"
   ]
  },
  {
   "cell_type": "markdown",
   "id": "a7973ea0",
   "metadata": {},
   "source": [
    "## Q1: Install MLflow"
   ]
  },
  {
   "cell_type": "code",
   "execution_count": 2,
   "id": "e042ee30",
   "metadata": {
    "ExecuteTime": {
     "end_time": "2022-05-27T13:34:12.899041Z",
     "start_time": "2022-05-27T13:34:11.744265Z"
    }
   },
   "outputs": [
    {
     "name": "stdout",
     "output_type": "stream",
     "text": [
      "mlflow, version 1.26.0\r\n"
     ]
    }
   ],
   "source": [
    "#! pip install mlflow\n",
    "! mlflow --version"
   ]
  },
  {
   "cell_type": "markdown",
   "id": "40ea1ccb",
   "metadata": {},
   "source": [
    "### What is the version that you have?"
   ]
  },
  {
   "cell_type": "code",
   "execution_count": 3,
   "id": "37922def",
   "metadata": {
    "ExecuteTime": {
     "end_time": "2022-05-27T13:34:12.908425Z",
     "start_time": "2022-05-27T13:34:12.902820Z"
    }
   },
   "outputs": [
    {
     "name": "stdout",
     "output_type": "stream",
     "text": [
      "Answer: 1.26.0\n"
     ]
    }
   ],
   "source": [
    "A1 = '1.26.0'\n",
    "print(f'Answer: {A1}')"
   ]
  },
  {
   "cell_type": "markdown",
   "id": "7b82b7d1",
   "metadata": {},
   "source": [
    "## Q2: Download and preprocess the data"
   ]
  },
  {
   "cell_type": "markdown",
   "id": "91b0500a",
   "metadata": {},
   "source": [
    "[TLC Trip Record Data](https://www1.nyc.gov/site/tlc/about/tlc-trip-record-data.page)\n",
    "\n",
    "Inside the data folder: \n",
    "- `wget https://s3.amazonaws.com/nyc-tlc/trip+data/green_tripdata_2021-01.parquet`\n",
    "- `wget https://s3.amazonaws.com/nyc-tlc/trip+data/green_tripdata_2021-02.parquet`\n",
    "- `wget https://s3.amazonaws.com/nyc-tlc/trip+data/green_tripdata_2021-03.parquet`"
   ]
  },
  {
   "cell_type": "code",
   "execution_count": 4,
   "id": "d58aaa0a",
   "metadata": {
    "ExecuteTime": {
     "end_time": "2022-05-27T13:34:13.036768Z",
     "start_time": "2022-05-27T13:34:12.913969Z"
    }
   },
   "outputs": [
    {
     "name": "stdout",
     "output_type": "stream",
     "text": [
      "total 3872\r\n",
      "drwxrwxr-x 2 fdelca fdelca    4096 mai 27 12:25 .\r\n",
      "drwxrwxr-x 9 fdelca fdelca    4096 mai 27 14:33 ..\r\n",
      "-rw-rw-r-- 1 fdelca fdelca 1333519 mai 27 12:25 green_tripdata_2021-01.parquet\r\n",
      "-rw-rw-r-- 1 fdelca fdelca 1145679 mai 27 12:25 green_tripdata_2021-02.parquet\r\n",
      "-rw-rw-r-- 1 fdelca fdelca 1474538 mai 27 12:25 green_tripdata_2021-03.parquet\r\n"
     ]
    }
   ],
   "source": [
    "! ls -la data"
   ]
  },
  {
   "cell_type": "markdown",
   "id": "bb8b8b95",
   "metadata": {},
   "source": [
    "#### Run the preprocessor"
   ]
  },
  {
   "cell_type": "code",
   "execution_count": 5,
   "id": "6f5076aa",
   "metadata": {
    "ExecuteTime": {
     "end_time": "2022-05-27T13:34:15.715630Z",
     "start_time": "2022-05-27T13:34:13.043678Z"
    }
   },
   "outputs": [],
   "source": [
    "! python homework/preprocess_data.py --raw_data_path \"data\" --dest_path \"preprocessed\""
   ]
  },
  {
   "cell_type": "code",
   "execution_count": 6,
   "id": "25baa9d9",
   "metadata": {
    "ExecuteTime": {
     "end_time": "2022-05-27T13:34:15.853624Z",
     "start_time": "2022-05-27T13:34:15.721817Z"
    }
   },
   "outputs": [
    {
     "name": "stdout",
     "output_type": "stream",
     "text": [
      "total 7764\r\n",
      "drwxrwxr-x 2 fdelca fdelca    4096 mai 27 13:05 .\r\n",
      "drwxrwxr-x 9 fdelca fdelca    4096 mai 27 14:33 ..\r\n",
      "-rw-rw-r-- 1 fdelca fdelca  305256 mai 27 14:34 dv.pkl\r\n",
      "-rw-rw-r-- 1 fdelca fdelca 2805197 mai 27 14:34 test.pkl\r\n",
      "-rw-rw-r-- 1 fdelca fdelca 2661149 mai 27 14:34 train.pkl\r\n",
      "-rw-rw-r-- 1 fdelca fdelca 2166527 mai 27 14:34 valid.pkl\r\n"
     ]
    }
   ],
   "source": [
    "! ls -la preprocessed/"
   ]
  },
  {
   "cell_type": "markdown",
   "id": "1a81efb7",
   "metadata": {},
   "source": [
    "As we can see it was successfully preprocessed, the `train`, `test`, and `valid` dataframes were saved. Additionally, the trained `DictVectorizer` was also saved as a `pickle file`."
   ]
  },
  {
   "cell_type": "markdown",
   "id": "955079d1",
   "metadata": {},
   "source": [
    "### How many files were saved to `OUTPUT_FOLDER`?"
   ]
  },
  {
   "cell_type": "markdown",
   "id": "37f14138",
   "metadata": {},
   "source": [
    "The `output_folder` corresponds to our `preprocessed` folder:"
   ]
  },
  {
   "cell_type": "code",
   "execution_count": 11,
   "id": "c63bec61",
   "metadata": {
    "ExecuteTime": {
     "end_time": "2022-05-27T13:35:51.793079Z",
     "start_time": "2022-05-27T13:35:51.786355Z"
    }
   },
   "outputs": [
    {
     "name": "stdout",
     "output_type": "stream",
     "text": [
      "Answer: 4\n"
     ]
    }
   ],
   "source": [
    "A2 = len(os.listdir('preprocessed/'))\n",
    "print(f'Answer: {A2}')"
   ]
  },
  {
   "cell_type": "markdown",
   "id": "bb479394",
   "metadata": {},
   "source": [
    "## Q3: Train a model with autolog"
   ]
  },
  {
   "cell_type": "markdown",
   "id": "2e065a2f",
   "metadata": {},
   "source": [
    "Specifications:\n",
    "- Random Forest Regressor model\n",
    "- Change `train.py` to autolog the model characteristics"
   ]
  },
  {
   "cell_type": "markdown",
   "id": "31b6e819",
   "metadata": {},
   "source": [
    "```python\n",
    "import argparse\n",
    "import os\n",
    "import pickle\n",
    "import mlflow\n",
    "\n",
    "from sklearn.ensemble import RandomForestRegressor\n",
    "from sklearn.metrics import mean_squared_error\n",
    "\n",
    "# Set the tracking URI - SQLite backend\n",
    "mlflow.set_tracking_uri(\"sqlite:///mlflow.db\")\n",
    "mlflow.set_experiment(\"homework\")\n",
    "\n",
    "\n",
    "def load_pickle(filename: str):\n",
    "    with open(filename, \"rb\") as f_in:\n",
    "        return pickle.load(f_in)\n",
    "\n",
    "\n",
    "def run(data_path):\n",
    "\n",
    "    X_train, y_train = load_pickle(os.path.join(data_path, \"train.pkl\"))\n",
    "    X_valid, y_valid = load_pickle(os.path.join(data_path, \"valid.pkl\"))\n",
    "\n",
    "    rf = RandomForestRegressor(max_depth=10, random_state=0)\n",
    "    rf.fit(X_train, y_train)\n",
    "    y_pred = rf.predict(X_valid)\n",
    "\n",
    "    rmse = mean_squared_error(y_valid, y_pred, squared=False)\n",
    "\n",
    "\n",
    "if __name__ == '__main__':\n",
    "\n",
    "    parser = argparse.ArgumentParser()\n",
    "    parser.add_argument(\n",
    "        \"--data_path\",\n",
    "        default=\"./output\",\n",
    "        help=\"the location where the processed NYC taxi trip data was saved.\"\n",
    "    )\n",
    "    args = parser.parse_args()\n",
    "    with mlflow.start_run(): # No idea if the mlflow start should be done here\n",
    "        mlflow.sklearn.autolog()\n",
    "        run(args.data_path)\n",
    "```"
   ]
  },
  {
   "cell_type": "code",
   "execution_count": 1,
   "id": "1bdcbb39",
   "metadata": {
    "ExecuteTime": {
     "end_time": "2022-05-27T13:51:05.409102Z",
     "start_time": "2022-05-27T13:50:46.733248Z"
    },
    "scrolled": true
   },
   "outputs": [
    {
     "name": "stdout",
     "output_type": "stream",
     "text": [
      "2022/05/27 14:50:48 WARNING mlflow.utils.autologging_utils: You are using an unsupported version of sklearn. If you encounter errors during autologging, try upgrading / downgrading sklearn to a supported version, or try upgrading MLflow.\r\n"
     ]
    }
   ],
   "source": [
    "! python homework/train.py --data_path \"preprocessed\""
   ]
  },
  {
   "cell_type": "markdown",
   "id": "85683e12",
   "metadata": {},
   "source": [
    "To check the parameters logged run the following command:\n",
    "\n",
    "`mlflow ui --backend-store-uri sqlite:///mlflow.db --default-artifact-root file:<PATH_TO_STORE_ARTIFACTS>/mlruns -h 0.0.0.0 -p 8000`"
   ]
  },
  {
   "cell_type": "markdown",
   "id": "add88990",
   "metadata": {},
   "source": [
    "### How many parameters are automatically logged by MLflow?"
   ]
  },
  {
   "cell_type": "code",
   "execution_count": 12,
   "id": "5759b20b",
   "metadata": {
    "ExecuteTime": {
     "end_time": "2022-05-27T13:35:53.948930Z",
     "start_time": "2022-05-27T13:35:53.945449Z"
    }
   },
   "outputs": [
    {
     "name": "stdout",
     "output_type": "stream",
     "text": [
      "Answer: 17\n"
     ]
    }
   ],
   "source": [
    "A3 = 17\n",
    "print(f'Answer: {A3}')"
   ]
  },
  {
   "cell_type": "markdown",
   "id": "c8862aa3",
   "metadata": {},
   "source": [
    "## Q4: Launch the tracking server locally"
   ]
  },
  {
   "cell_type": "markdown",
   "id": "55d1e66b",
   "metadata": {},
   "source": [
    "In ther previous question I was already running a server and a default-artifact-root, it is being saved on `mlruns` folder inside the working directory.\n",
    "\n",
    "To properly run the server:\n",
    "\n",
    "1. Check the [LearningNotes Notebook](/notebooks/Week2-LearningNotes.ipynb) to properly create a sqlite database on your computer and store artifacts\n",
    "2. Run in the terminal the following command line: `mlflow ui --backend-store-uri sqlite:///mlflow.db --default-artifact-root file:<PATH_TO_STORE_ARTIFACTS>/mlruns -h 0.0.0.0 -p 8000` "
   ]
  },
  {
   "cell_type": "markdown",
   "id": "bc281f7f",
   "metadata": {},
   "source": [
    "### In addition to backend-store-uri, what else do you need to pass to properly configure the server?"
   ]
  },
  {
   "cell_type": "code",
   "execution_count": 2,
   "id": "51895680",
   "metadata": {
    "ExecuteTime": {
     "end_time": "2022-05-27T13:52:12.981253Z",
     "start_time": "2022-05-27T13:52:12.977405Z"
    }
   },
   "outputs": [
    {
     "name": "stdout",
     "output_type": "stream",
     "text": [
      "Answer: default-artifact-root\n"
     ]
    }
   ],
   "source": [
    "A4 = 'default-artifact-root'\n",
    "print(f'Answer: {A4}')"
   ]
  },
  {
   "cell_type": "markdown",
   "id": "079674a6",
   "metadata": {},
   "source": [
    "## Q5: Tune the hyperparameters of the model"
   ]
  },
  {
   "cell_type": "markdown",
   "id": "fd0510b3",
   "metadata": {},
   "source": [
    "Reduce the validation error by tuning the hyperparameters of the random forest regressor using `hyperopt`"
   ]
  },
  {
   "cell_type": "markdown",
   "id": "6b1917b8",
   "metadata": {},
   "source": [
    "Specifications: \n",
    "- Use `hpo.py` file for that;\n",
    "- Validation `RMSE` error is logged to MLflow for each run;\n",
    "- Run script without passing any parameters;\n",
    "- Do not use `autolog()` in this exercise;\n",
    "- Log: \n",
    "    - List of hyperparameters that are passed to `objective function` during optimization;\n",
    "    - `RMSE` obtained on the validation set (February 2021 data)"
   ]
  },
  {
   "cell_type": "markdown",
   "id": "e7d5d341",
   "metadata": {},
   "source": [
    "```python\n",
    "import argparse\n",
    "import os\n",
    "import pickle\n",
    "\n",
    "import mlflow\n",
    "import numpy as np\n",
    "from hyperopt import STATUS_OK, Trials, fmin, hp, tpe\n",
    "from hyperopt.pyll import scope\n",
    "from sklearn.ensemble import RandomForestRegressor\n",
    "from sklearn.metrics import mean_squared_error\n",
    "\n",
    "# mlflow.set_tracking_uri(\"http://127.0.0.1:5000\")\n",
    "mlflow.set_tracking_uri(\"sqlite:///mlflow.db\")\n",
    "mlflow.set_experiment(\"random-forest-hyperopt\")\n",
    "\n",
    "\n",
    "def load_pickle(filename):\n",
    "    with open(filename, \"rb\") as f_in:\n",
    "        return pickle.load(f_in)\n",
    "\n",
    "\n",
    "def run(data_path, num_trials):\n",
    "\n",
    "    X_train, y_train = load_pickle(os.path.join(data_path, \"train.pkl\"))\n",
    "    X_valid, y_valid = load_pickle(os.path.join(data_path, \"valid.pkl\"))\n",
    "\n",
    "    def objective(params):\n",
    "        \n",
    "        with mlflow.start_run():\n",
    "    \t    # Log parameters\n",
    "            mlflow.log_params(params)\n",
    "        \n",
    "            rf = RandomForestRegressor(**params)\n",
    "            rf.fit(X_train, y_train)\n",
    "            y_pred = rf.predict(X_valid)\n",
    "            rmse = mean_squared_error(y_valid, y_pred, squared=False)\n",
    "        \n",
    "            # Log error metric\n",
    "            mlflow.log_metric('rmse', rmse)\n",
    "        \n",
    "        return {'loss': rmse, 'status': STATUS_OK}\n",
    "\n",
    "    search_space = {\n",
    "        'max_depth': scope.int(hp.quniform('max_depth', 1, 20, 1)),\n",
    "        'n_estimators': scope.int(hp.quniform('n_estimators', 10, 50, 1)),\n",
    "        'min_samples_split': scope.int(hp.quniform('min_samples_split', 2, 10, 1)),\n",
    "        'min_samples_leaf': scope.int(hp.quniform('min_samples_leaf', 1, 4, 1)),\n",
    "        'random_state': 42\n",
    "    }\n",
    "    \n",
    "    rstate = np.random.default_rng(42)  # for reproducible results\n",
    "    fmin(\n",
    "        fn=objective,\n",
    "        space=search_space,\n",
    "        algo=tpe.suggest,\n",
    "        max_evals=num_trials,\n",
    "        trials=Trials(),\n",
    "        rstate=rstate\n",
    "    )\n",
    "\n",
    "\n",
    "if __name__ == '__main__':\n",
    "\n",
    "    parser = argparse.ArgumentParser()\n",
    "    parser.add_argument(\n",
    "        \"--data_path\",\n",
    "        default=\"./output\",\n",
    "        help=\"the location where the processed NYC taxi trip data was saved.\"\n",
    "    )\n",
    "    parser.add_argument(\n",
    "        \"--max_evals\",\n",
    "        default=50,\n",
    "        help=\"the number of parameter evaluations for the optimizer to explore.\"\n",
    "    )\n",
    "    args = parser.parse_args()\n",
    "    run(args.data_path, args.max_evals)\n",
    "```"
   ]
  },
  {
   "cell_type": "code",
   "execution_count": 1,
   "id": "cf90a611",
   "metadata": {
    "ExecuteTime": {
     "end_time": "2022-05-27T14:15:06.135015Z",
     "start_time": "2022-05-27T14:08:38.652226Z"
    },
    "scrolled": true
   },
   "outputs": [
    {
     "name": "stdout",
     "output_type": "stream",
     "text": [
      "100%|█████████| 50/50 [06:25<00:00,  7.72s/trial, best loss: 6.6284257482044735]\n"
     ]
    }
   ],
   "source": [
    "! python homework/hpo.py --data_path \"preprocessed\""
   ]
  },
  {
   "cell_type": "markdown",
   "id": "089bb59d",
   "metadata": {},
   "source": [
    "**Note:** A good thing about using `py scripts` and using `mlflow` instead of `jupyter notebooks` - is that mlflow is able to save `source code name`, making it easy to track experiments later"
   ]
  },
  {
   "cell_type": "markdown",
   "id": "39a9e3d9",
   "metadata": {},
   "source": [
    "### What's the best validation RMSE that you got?"
   ]
  },
  {
   "cell_type": "code",
   "execution_count": 2,
   "id": "f0dc4390",
   "metadata": {
    "ExecuteTime": {
     "end_time": "2022-05-27T14:18:43.652009Z",
     "start_time": "2022-05-27T14:18:43.647734Z"
    }
   },
   "outputs": [
    {
     "name": "stdout",
     "output_type": "stream",
     "text": [
      "Answer: 6.628\n"
     ]
    }
   ],
   "source": [
    "A5 = 6.628\n",
    "print(f'Answer: {A5}')"
   ]
  },
  {
   "cell_type": "markdown",
   "id": "d67d509f",
   "metadata": {},
   "source": [
    "## Q6: Promote the best model to the model registry"
   ]
  },
  {
   "cell_type": "markdown",
   "id": "e33cbf87",
   "metadata": {},
   "source": [
    "Specifications:\n",
    "- Select the top 5 models from the previous run;\n",
    "- Calculate the `RMSE` of those models in the test set (March 2021);\n",
    "- Save the results in a new experiment called `random-forest-best-models`\n",
    "\n",
    "- Update `register_model.py` to select the model with the lowest `RMSE` on the test set and register it to the `model registry`"
   ]
  },
  {
   "cell_type": "markdown",
   "id": "a99a0eda",
   "metadata": {},
   "source": [
    "**Tip 1:** you can use the method `search_runs` from the `MlflowClient` to get the model with the **lowest RMSE**. \n",
    "\n",
    "\n",
    "**Tip 2:** to register the model you can use the method `mlflow.register_model` and you will need to pass the right `model_uri` in the form of a string that looks like this: `\"runs:/<RUN_ID>/model\"`, and the name of the model."
   ]
  },
  {
   "cell_type": "markdown",
   "id": "0117d2b7",
   "metadata": {},
   "source": [
    "```python\n",
    "import argparse\n",
    "import os\n",
    "import pickle\n",
    "\n",
    "import mlflow\n",
    "from hyperopt import hp, space_eval\n",
    "from hyperopt.pyll import scope\n",
    "from mlflow.entities import ViewType\n",
    "from mlflow.tracking import MlflowClient\n",
    "from sklearn.ensemble import RandomForestRegressor\n",
    "from sklearn.metrics import mean_squared_error\n",
    "\n",
    "HPO_EXPERIMENT_NAME = \"random-forest-hyperopt\"\n",
    "EXPERIMENT_NAME = \"random-forest-best-models\"\n",
    "\n",
    "# mlflow.set_tracking_uri(\"http://127.0.0.1:5000\")\n",
    "mlflow.set_tracking_uri(\"sqlite:///mlflow.db\")\n",
    "mlflow.set_experiment(EXPERIMENT_NAME)\n",
    "mlflow.sklearn.autolog()\n",
    "\n",
    "SPACE = {\n",
    "    'max_depth': scope.int(hp.quniform('max_depth', 1, 20, 1)),\n",
    "    'n_estimators': scope.int(hp.quniform('n_estimators', 10, 50, 1)),\n",
    "    'min_samples_split': scope.int(hp.quniform('min_samples_split', 2, 10, 1)),\n",
    "    'min_samples_leaf': scope.int(hp.quniform('min_samples_leaf', 1, 4, 1)),\n",
    "    'random_state': 42\n",
    "}\n",
    "\n",
    "\n",
    "def load_pickle(filename):\n",
    "    with open(filename, \"rb\") as f_in:\n",
    "        return pickle.load(f_in)\n",
    "\n",
    "\n",
    "def train_and_log_model(data_path, params):\n",
    "    X_train, y_train = load_pickle(os.path.join(data_path, \"train.pkl\"))\n",
    "    X_valid, y_valid = load_pickle(os.path.join(data_path, \"valid.pkl\"))\n",
    "    X_test, y_test = load_pickle(os.path.join(data_path, \"test.pkl\"))\n",
    "\n",
    "    with mlflow.start_run():\n",
    "        params = space_eval(SPACE, params)\n",
    "        rf = RandomForestRegressor(**params)\n",
    "        rf.fit(X_train, y_train)\n",
    "\n",
    "        # evaluate model on the validation and test sets\n",
    "        valid_rmse = mean_squared_error(y_valid, rf.predict(X_valid), squared=False)\n",
    "        mlflow.log_metric(\"valid_rmse\", valid_rmse)\n",
    "        test_rmse = mean_squared_error(y_test, rf.predict(X_test), squared=False)\n",
    "        mlflow.log_metric(\"test_rmse\", test_rmse)\n",
    "\n",
    "\n",
    "def run(data_path, log_top):\n",
    "\n",
    "    client = MlflowClient()\n",
    "\n",
    "    # retrieve the top_n model runs and log the models to MLflow\n",
    "    experiment = client.get_experiment_by_name(HPO_EXPERIMENT_NAME)\n",
    "    runs = client.search_runs(\n",
    "        experiment_ids=experiment.experiment_id,\n",
    "        run_view_type=ViewType.ACTIVE_ONLY,\n",
    "        max_results=log_top,\n",
    "        order_by=[\"metrics.rmse ASC\"]\n",
    "    )\n",
    "    for run in runs:\n",
    "        train_and_log_model(data_path=data_path, params=run.data.params)\n",
    "\n",
    "    # select the model with the lowest test RMSE\n",
    "    experiment = client.get_experiment_by_name(EXPERIMENT_NAME)\n",
    "    best_run = client.search_runs(\n",
    "\t\texperiment_ids=experiment.experiment_id,\n",
    "\t    \trun_view_type=ViewType.ACTIVE_ONLY,\n",
    "\t    \tmax_results=log_top,\n",
    "\t    \torder_by=[\"metrics.test_rmse ASC\"])[0]\n",
    "    \n",
    "    # register the best model\n",
    "    best_model_run_id = best_run.info.run_id\n",
    "    best_model_uri = f\"runs:/{best_model_run_id}/model\"\n",
    "    mlflow.register_model(model_uri=best_model_uri, name='rf_best_model_in_test')\n",
    "\n",
    "if __name__ == '__main__':\n",
    "\n",
    "    parser = argparse.ArgumentParser()\n",
    "    parser.add_argument(\n",
    "        \"--data_path\",\n",
    "        default=\"./output\",\n",
    "        help=\"the location where the processed NYC taxi trip data was saved.\"\n",
    "    )\n",
    "    parser.add_argument(\n",
    "        \"--top_n\",\n",
    "        default=5,\n",
    "        type=int,\n",
    "        help=\"the top 'top_n' models will be evaluated to decide which model to promote.\"\n",
    "    )\n",
    "    args = parser.parse_args()\n",
    "\n",
    "    run(args.data_path, args.top_n)\n",
    "```"
   ]
  },
  {
   "cell_type": "code",
   "execution_count": 2,
   "id": "2f852e2e",
   "metadata": {
    "ExecuteTime": {
     "end_time": "2022-05-27T15:31:30.060828Z",
     "start_time": "2022-05-27T15:31:27.853829Z"
    }
   },
   "outputs": [
    {
     "name": "stdout",
     "output_type": "stream",
     "text": [
      "2022/05/27 16:31:29 INFO mlflow.store.db.utils: Creating initial MLflow database tables...\n",
      "2022/05/27 16:31:29 INFO mlflow.store.db.utils: Updating database tables\n",
      "INFO  [alembic.runtime.migration] Context impl SQLiteImpl.\n",
      "INFO  [alembic.runtime.migration] Will assume non-transactional DDL.\n",
      "INFO  [alembic.runtime.migration] Running upgrade  -> 451aebb31d03, add metric step\n",
      "INFO  [alembic.runtime.migration] Running upgrade 451aebb31d03 -> 90e64c465722, migrate user column to tags\n",
      "INFO  [alembic.runtime.migration] Running upgrade 90e64c465722 -> 181f10493468, allow nulls for metric values\n",
      "INFO  [alembic.runtime.migration] Running upgrade 181f10493468 -> df50e92ffc5e, Add Experiment Tags Table\n",
      "INFO  [alembic.runtime.migration] Running upgrade df50e92ffc5e -> 7ac759974ad8, Update run tags with larger limit\n",
      "INFO  [alembic.runtime.migration] Running upgrade 7ac759974ad8 -> 89d4b8295536, create latest metrics table\n",
      "INFO  [89d4b8295536_create_latest_metrics_table_py] Migration complete!\n",
      "INFO  [alembic.runtime.migration] Running upgrade 89d4b8295536 -> 2b4d017a5e9b, add model registry tables to db\n",
      "INFO  [2b4d017a5e9b_add_model_registry_tables_to_db_py] Adding registered_models and model_versions tables to database.\n",
      "INFO  [2b4d017a5e9b_add_model_registry_tables_to_db_py] Migration complete!\n",
      "INFO  [alembic.runtime.migration] Running upgrade 2b4d017a5e9b -> cfd24bdc0731, Update run status constraint with killed\n",
      "INFO  [alembic.runtime.migration] Running upgrade cfd24bdc0731 -> 0a8213491aaa, drop_duplicate_killed_constraint\n",
      "INFO  [alembic.runtime.migration] Running upgrade 0a8213491aaa -> 728d730b5ebd, add registered model tags table\n",
      "INFO  [alembic.runtime.migration] Running upgrade 728d730b5ebd -> 27a6a02d2cf1, add model version tags table\n",
      "INFO  [alembic.runtime.migration] Running upgrade 27a6a02d2cf1 -> 84291f40a231, add run_link to model_version\n",
      "INFO  [alembic.runtime.migration] Running upgrade 84291f40a231 -> a8c4a736bde6, allow nulls for run_id\n",
      "INFO  [alembic.runtime.migration] Running upgrade a8c4a736bde6 -> 39d1c3be5f05, add_is_nan_constraint_for_metrics_tables_if_necessary\n",
      "INFO  [alembic.runtime.migration] Running upgrade 39d1c3be5f05 -> c48cb773bb87, reset_default_value_for_is_nan_in_metrics_table_for_mysql\n",
      "INFO  [alembic.runtime.migration] Running upgrade c48cb773bb87 -> bd07f7e963c5, create index on run_uuid\n",
      "INFO  [alembic.runtime.migration] Context impl SQLiteImpl.\n",
      "INFO  [alembic.runtime.migration] Will assume non-transactional DDL.\n",
      "2022/05/27 16:31:29 INFO mlflow.tracking.fluent: Experiment with name 'random-forest-best-models' does not exist. Creating a new experiment.\n",
      "2022/05/27 16:31:29 WARNING mlflow.utils.autologging_utils: You are using an unsupported version of sklearn. If you encounter errors during autologging, try upgrading / downgrading sklearn to a supported version, or try upgrading MLflow.\n",
      "Traceback (most recent call last):\n",
      "  File \"/home/fdelca/Documents/MLOps/mlops_zoomcamp/mlops-zoomcamp_student/workspace/02-experiment-tracking/homework/register_model.py\", line 96, in <module>\n",
      "    run(args.data_path, args.top_n)\n",
      "  File \"/home/fdelca/Documents/MLOps/mlops_zoomcamp/mlops-zoomcamp_student/workspace/02-experiment-tracking/homework/register_model.py\", line 59, in run\n",
      "    experiment_ids=experiment.experiment_id,\n",
      "AttributeError: 'NoneType' object has no attribute 'experiment_id'\n"
     ]
    }
   ],
   "source": [
    "! python homework/register_model.py --data_path \"preprocessed\" --top_n 5"
   ]
  },
  {
   "cell_type": "markdown",
   "id": "41f45508",
   "metadata": {},
   "source": [
    "### What is the test RMSE of the best model?"
   ]
  },
  {
   "cell_type": "code",
   "execution_count": 41,
   "id": "67b19669",
   "metadata": {
    "ExecuteTime": {
     "end_time": "2022-05-27T15:23:21.501545Z",
     "start_time": "2022-05-27T15:23:21.497704Z"
    }
   },
   "outputs": [
    {
     "name": "stdout",
     "output_type": "stream",
     "text": [
      "Answer: 6.548\n"
     ]
    }
   ],
   "source": [
    "A6 = 6.548\n",
    "print(f'Answer: {A6}')"
   ]
  },
  {
   "cell_type": "markdown",
   "id": "9a0307ea",
   "metadata": {},
   "source": [
    "---"
   ]
  },
  {
   "cell_type": "code",
   "execution_count": 10,
   "id": "89e647f6",
   "metadata": {
    "ExecuteTime": {
     "end_time": "2022-05-27T13:35:51.782553Z",
     "start_time": "2022-05-27T13:35:51.749192Z"
    }
   },
   "outputs": [
    {
     "data": {
      "text/html": [
       "<style>.container { width:100% !important; }</style>"
      ],
      "text/plain": [
       "<IPython.core.display.HTML object>"
      ]
     },
     "metadata": {},
     "output_type": "display_data"
    }
   ],
   "source": [
    "from IPython.display import display, HTML\n",
    "display(HTML(\"<style>.container { width:100% !important; }</style>\"))"
   ]
  }
 ],
 "metadata": {
  "kernelspec": {
   "display_name": "Python 3 (ipykernel)",
   "language": "python",
   "name": "python3"
  },
  "language_info": {
   "codemirror_mode": {
    "name": "ipython",
    "version": 3
   },
   "file_extension": ".py",
   "mimetype": "text/x-python",
   "name": "python",
   "nbconvert_exporter": "python",
   "pygments_lexer": "ipython3",
   "version": "3.9.13"
  },
  "toc": {
   "base_numbering": 1,
   "nav_menu": {},
   "number_sections": false,
   "sideBar": true,
   "skip_h1_title": false,
   "title_cell": "Table of Contents",
   "title_sidebar": "Contents",
   "toc_cell": true,
   "toc_position": {},
   "toc_section_display": true,
   "toc_window_display": false
  }
 },
 "nbformat": 4,
 "nbformat_minor": 5
}
