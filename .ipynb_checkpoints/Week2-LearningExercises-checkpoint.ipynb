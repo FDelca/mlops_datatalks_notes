{
 "cells": [
  {
   "cell_type": "code",
   "execution_count": 1,
   "id": "c724f4b4",
   "metadata": {
    "ExecuteTime": {
     "end_time": "2022-05-24T18:03:40.187005Z",
     "start_time": "2022-05-24T18:03:38.948789Z"
    }
   },
   "outputs": [],
   "source": [
    "import pandas as pd\n",
    "import pickle\n",
    "import os\n",
    "\n",
    "import seaborn as sns\n",
    "import matplotlib.pyplot as plt\n",
    "\n",
    "from sklearn.feature_extraction import DictVectorizer\n",
    "from sklearn.linear_model import LinearRegression\n",
    "from sklearn.linear_model import Lasso\n",
    "from sklearn.linear_model import Ridge\n",
    "\n",
    "from sklearn.metrics import mean_squared_error\n",
    "\n",
    "import mlflow"
   ]
  },
  {
   "cell_type": "markdown",
   "id": "92cde3b3",
   "metadata": {},
   "source": [
    "## GetData"
   ]
  },
  {
   "cell_type": "markdown",
   "id": "a9eea1de",
   "metadata": {},
   "source": [
    "[TLC Trip Record Data](https://www1.nyc.gov/site/tlc/about/tlc-trip-record-data.page)"
   ]
  },
  {
   "cell_type": "markdown",
   "id": "59501db3",
   "metadata": {},
   "source": [
    "Inside the data folder: \n",
    "- `wget https://s3.amazonaws.com/nyc-tlc/trip+data/green_tripdata_2021-01.parquet`\n",
    "- `wget https://s3.amazonaws.com/nyc-tlc/trip+data/green_tripdata_2021-02.parquet`"
   ]
  },
  {
   "cell_type": "code",
   "execution_count": 2,
   "id": "541d4ec0",
   "metadata": {
    "ExecuteTime": {
     "end_time": "2022-05-24T18:03:43.115757Z",
     "start_time": "2022-05-24T18:03:42.983612Z"
    }
   },
   "outputs": [
    {
     "name": "stdout",
     "output_type": "stream",
     "text": [
      "total 3872\r\n",
      "drwxrwxr-x 2 fdelca fdelca    4096 mai 24 17:56 .\r\n",
      "drwxrwxr-x 8 fdelca fdelca    4096 mai 24 19:01 ..\r\n",
      "-rw-rw-r-- 1 fdelca fdelca 1333519 mai 12 16:47 green_tripdata_2021-01.parquet\r\n",
      "-rw-rw-r-- 1 fdelca fdelca 1145679 mai 12 16:47 green_tripdata_2021-02.parquet\r\n",
      "-rw-rw-r-- 1 fdelca fdelca 1474538 mai 12 16:47 green_tripdata_2021-03.parquet\r\n"
     ]
    }
   ],
   "source": [
    "! ls -la data"
   ]
  },
  {
   "cell_type": "markdown",
   "id": "bbc4fa16",
   "metadata": {},
   "source": [
    "## Setup MLflow"
   ]
  },
  {
   "cell_type": "markdown",
   "id": "1474a9a6",
   "metadata": {},
   "source": [
    "To run mlflow ui:\n",
    "\n",
    "`mlflow ui --backend-store-uri sqlite:///mlflow.db`\n",
    "\n",
    "Or\n",
    "\n",
    "\n",
    "`mlflow ui \n",
    "--backend-store-uri sqlite:///mlflow.db \n",
    "--default-artifact-root file:/home/<user>/mlruns -h 0.0.0.0 -p 8000` - this defines where are you going to store your artifacts and models"
   ]
  },
  {
   "cell_type": "code",
   "execution_count": 4,
   "id": "58037b49",
   "metadata": {
    "ExecuteTime": {
     "end_time": "2022-05-24T18:08:00.377549Z",
     "start_time": "2022-05-24T18:08:00.364659Z"
    }
   },
   "outputs": [
    {
     "data": {
      "text/plain": [
       "<Experiment: artifact_location='./mlruns/1', experiment_id='1', lifecycle_stage='active', name='nyc-taxi-experiment', tags={}>"
      ]
     },
     "execution_count": 4,
     "metadata": {},
     "output_type": "execute_result"
    }
   ],
   "source": [
    "# Set the tracking URI - SQLite backend\n",
    "mlflow.set_tracking_uri(\"sqlite:///mlflow.db\") # The name is in the command line when you run mlflow -ui\n",
    "mlflow.set_experiment(\"nyc-taxi-experiment\") # Define the experience"
   ]
  },
  {
   "cell_type": "markdown",
   "id": "01d04c2b",
   "metadata": {},
   "source": [
    "## Load Data"
   ]
  },
  {
   "cell_type": "code",
   "execution_count": 5,
   "id": "3d0775d1",
   "metadata": {
    "ExecuteTime": {
     "end_time": "2022-05-24T18:09:39.556881Z",
     "start_time": "2022-05-24T18:09:39.543407Z"
    }
   },
   "outputs": [],
   "source": [
    "def load_data(filename):\n",
    "    \n",
    "    df = pd.read_parquet(os.path.join('data', filename))\n",
    "    \n",
    "    # Transform to datetime\n",
    "    df.lpep_dropoff_datetime = pd.to_datetime(df.lpep_dropoff_datetime)\n",
    "    df.lpep_pickup_datetime = pd.to_datetime(df.lpep_pickup_datetime)\n",
    "    \n",
    "    # Define Target\n",
    "    df['duration'] = df.lpep_dropoff_datetime - df.lpep_pickup_datetime\n",
    "    df['duration'] = df.duration.dt.total_seconds() / 60\n",
    "    \n",
    "    # Filter trips by duration\n",
    "    df = df[(df.duration >= 1) & (df.duration <= 60)].copy()\n",
    "    \n",
    "    # Transform categorical features in use\n",
    "    categorical = ['PULocationID', 'DOLocationID']\n",
    "    df[categorical] = df[categorical].astype(str)\n",
    "    \n",
    "    return df"
   ]
  },
  {
   "cell_type": "code",
   "execution_count": 6,
   "id": "20476a28",
   "metadata": {
    "ExecuteTime": {
     "end_time": "2022-05-24T18:09:40.300573Z",
     "start_time": "2022-05-24T18:09:40.113369Z"
    }
   },
   "outputs": [],
   "source": [
    "# Load Train\n",
    "filename_train = 'green_tripdata_2021-01.parquet'\n",
    "df_train = load_data(filename_train)\n",
    "\n",
    "# Load Validation\n",
    "filename_val = 'green_tripdata_2021-02.parquet'\n",
    "df_val = load_data(filename_val)"
   ]
  },
  {
   "cell_type": "code",
   "execution_count": 7,
   "id": "fdb7c672",
   "metadata": {
    "ExecuteTime": {
     "end_time": "2022-05-24T18:09:40.506116Z",
     "start_time": "2022-05-24T18:09:40.498497Z"
    }
   },
   "outputs": [
    {
     "data": {
      "text/plain": [
       "(73908, 61921)"
      ]
     },
     "execution_count": 7,
     "metadata": {},
     "output_type": "execute_result"
    }
   ],
   "source": [
    "len(df_train), len(df_val)"
   ]
  },
  {
   "cell_type": "markdown",
   "id": "17f188d8",
   "metadata": {},
   "source": [
    "## Preprocessing"
   ]
  },
  {
   "cell_type": "code",
   "execution_count": 8,
   "id": "642ce591",
   "metadata": {
    "ExecuteTime": {
     "end_time": "2022-05-24T18:09:41.801826Z",
     "start_time": "2022-05-24T18:09:41.363255Z"
    }
   },
   "outputs": [],
   "source": [
    "df_train['PU_DO'] = df_train['PULocationID'] + '_' + df_train['DOLocationID']\n",
    "df_val['PU_DO'] = df_val['PULocationID'] + '_' + df_val['DOLocationID']\n",
    "\n",
    "categorical = ['PU_DO'] #'PULocationID', 'DOLocationID']\n",
    "numerical = ['trip_distance']\n",
    "\n",
    "dv = DictVectorizer()\n",
    "\n",
    "train_dicts = df_train[categorical + numerical].to_dict(orient='records')\n",
    "X_train = dv.fit_transform(train_dicts)\n",
    "\n",
    "val_dicts = df_val[categorical + numerical].to_dict(orient='records')\n",
    "X_val = dv.transform(val_dicts)"
   ]
  },
  {
   "cell_type": "code",
   "execution_count": 9,
   "id": "ae22e0ec",
   "metadata": {
    "ExecuteTime": {
     "end_time": "2022-05-24T18:09:41.806861Z",
     "start_time": "2022-05-24T18:09:41.803950Z"
    }
   },
   "outputs": [],
   "source": [
    "target = 'duration'\n",
    "y_train = df_train[target].values\n",
    "y_val = df_val[target].values"
   ]
  },
  {
   "cell_type": "markdown",
   "id": "d69e0641",
   "metadata": {},
   "source": [
    "## Training and Validation"
   ]
  },
  {
   "cell_type": "markdown",
   "id": "3c6bcf36",
   "metadata": {
    "heading_collapsed": true
   },
   "source": [
    "### Lasso Model"
   ]
  },
  {
   "cell_type": "code",
   "execution_count": 9,
   "id": "3ecd25c8",
   "metadata": {
    "ExecuteTime": {
     "end_time": "2022-05-23T17:33:35.401454Z",
     "start_time": "2022-05-23T17:33:32.017656Z"
    },
    "hidden": true
   },
   "outputs": [],
   "source": [
    "with mlflow.start_run():\n",
    "    # Add tag\n",
    "    mlflow.set_tag('model', 'lasso')\n",
    "    \n",
    "    # Parameters - Simplistic way to track data\n",
    "    mlflow.log_param('train-data-path', './data/'+filename_train)\n",
    "    mlflow.log_param('valid-data-path', './data/'+filename_val)\n",
    "    \n",
    "    # Parameter of the model\n",
    "    alpha = 0.1\n",
    "    mlflow.log_param('alpha', alpha)\n",
    "    \n",
    "    lr = Lasso(alpha=alpha)\n",
    "    lr.fit(X_train, y_train)\n",
    "\n",
    "    y_pred = lr.predict(X_val)\n",
    "\n",
    "    rmse = mean_squared_error(y_val, y_pred, squared=False)\n",
    "    mlflow.log_metric('rmse', rmse)    "
   ]
  },
  {
   "cell_type": "markdown",
   "id": "88639ef1",
   "metadata": {},
   "source": [
    "### Linear Regression Model"
   ]
  },
  {
   "cell_type": "code",
   "execution_count": 10,
   "id": "35694f96",
   "metadata": {
    "ExecuteTime": {
     "end_time": "2022-05-24T18:09:59.375935Z",
     "start_time": "2022-05-24T18:09:59.056957Z"
    }
   },
   "outputs": [],
   "source": [
    "with mlflow.start_run():\n",
    "    # Add tag\n",
    "    mlflow.set_tag('model', 'LinearRegression')\n",
    "    \n",
    "    # Parameters - Simplistic way to track data\n",
    "    mlflow.log_param('train-data-path', './data/'+filename_train)\n",
    "    mlflow.log_param('valid-data-path', './data/'+filename_val)\n",
    "\n",
    "    \n",
    "    lr = LinearRegression()\n",
    "    lr.fit(X_train, y_train)\n",
    "\n",
    "    y_pred = lr.predict(X_val)\n",
    "\n",
    "    rmse = mean_squared_error(y_val, y_pred, squared=False)\n",
    "    mlflow.log_metric('rmse', rmse)\n",
    "    \n",
    "    # We can save the model as an artifact\n",
    "    # First we need to save it into our local computer\n",
    "    with open('models/lin_reg.bin', 'wb') as f_out:\n",
    "        pickle.dump((dv, lr), f_out)\n",
    "        \n",
    "    # And then make the connection between paths\n",
    "    mlflow.log_artifact(\n",
    "        local_path='models/lin_reg.bin',\n",
    "        artifact_path='models_pickle')"
   ]
  },
  {
   "cell_type": "code",
   "execution_count": 11,
   "id": "13ad04f5",
   "metadata": {
    "ExecuteTime": {
     "end_time": "2022-05-24T18:10:03.348329Z",
     "start_time": "2022-05-24T18:10:02.387329Z"
    }
   },
   "outputs": [
    {
     "data": {
      "image/png": "[encoded data removed]",
      "text/plain": [
       "<Figure size 792x576 with 1 Axes>"
      ]
     },
     "metadata": {
      "needs_background": "light"
     },
     "output_type": "display_data"
    }
   ],
   "source": [
    "fig, ax = plt.subplots(figsize=(11,8))\n",
    "sns.histplot(y_pred, ax=ax, stat='density', kde=True, label=\"prediction distribution\", legend=True)\n",
    "sns.histplot(y_train, ax=ax, color='orange', alpha=0.3, stat='density', kde=True, label=\"actual distribution\")\n",
    "plt.legend();"
   ]
  },
  {
   "cell_type": "markdown",
   "id": "10030df3",
   "metadata": {},
   "source": [
    "### XGBoost Model - with hyperparameter tunning - `hyperopt`"
   ]
  },
  {
   "cell_type": "code",
   "execution_count": 12,
   "id": "9d98210d",
   "metadata": {
    "ExecuteTime": {
     "end_time": "2022-05-24T18:10:05.453836Z",
     "start_time": "2022-05-24T18:10:05.346108Z"
    }
   },
   "outputs": [],
   "source": [
    "import xgboost as xgb\n",
    "\n",
    "from hyperopt import fmin, tpe, hp, STATUS_OK, Trials \n",
    "from hyperopt.pyll import scope"
   ]
  },
  {
   "cell_type": "markdown",
   "id": "dc7d5860",
   "metadata": {},
   "source": [
    "#### Define the train and validation for XGBoost"
   ]
  },
  {
   "cell_type": "code",
   "execution_count": 13,
   "id": "094e929e",
   "metadata": {
    "ExecuteTime": {
     "end_time": "2022-05-24T18:10:06.463379Z",
     "start_time": "2022-05-24T18:10:06.396414Z"
    }
   },
   "outputs": [],
   "source": [
    "train = xgb.DMatrix(X_train, label=y_train)\n",
    "valid = xgb.DMatrix(X_val, label=y_val)"
   ]
  },
  {
   "cell_type": "markdown",
   "id": "ef70df1a",
   "metadata": {},
   "source": [
    "#### Define the objective function"
   ]
  },
  {
   "cell_type": "code",
   "execution_count": 14,
   "id": "88166a1d",
   "metadata": {
    "ExecuteTime": {
     "end_time": "2022-05-24T18:10:07.228426Z",
     "start_time": "2022-05-24T18:10:07.214500Z"
    }
   },
   "outputs": [],
   "source": [
    "def objective(params):\n",
    "    \n",
    "    with mlflow.start_run():\n",
    "        mlflow.set_tag('model', 'xgboost')\n",
    "        mlflow.log_params(params)\n",
    "        booster = xgb.train(\n",
    "            params = params, \n",
    "            dtrain=train, \n",
    "            num_boost_round = 5, # 1000, # Maximum of 1000 iterations\n",
    "            evals=[(valid, 'validation')], # Validation set to control the optimization algorithm\n",
    "            early_stopping_rounds=50, # if there are 50 iterations without improvement then the validation will stop\n",
    "            verbose_eval=1\n",
    "        )\n",
    "        # Once the model is train, lets make predictions\n",
    "        y_pred = booster.predict(valid)\n",
    "        \n",
    "        rmse = mean_squared_error(y_val, y_pred, squared=False)\n",
    "        mlflow.log_metric('rmse', rmse)\n",
    "        \n",
    "    return {'loss': rmse, 'status': STATUS_OK}"
   ]
  },
  {
   "cell_type": "markdown",
   "id": "8adf6ef1",
   "metadata": {},
   "source": [
    "#### Define Search Space"
   ]
  },
  {
   "cell_type": "code",
   "execution_count": 15,
   "id": "096e216d",
   "metadata": {
    "ExecuteTime": {
     "end_time": "2022-05-24T18:10:08.246884Z",
     "start_time": "2022-05-24T18:10:08.240139Z"
    }
   },
   "outputs": [],
   "source": [
    "search_space = {\n",
    "    'max_depth': scope.int(hp.quniform('max_depth', 4, 100, 1)), # returns a integer due to scope\n",
    "    'learning_rate': hp.loguniform('learning_rate', -3, 0), # exp(-3) till exp(0) - values between 0.05 till 1\n",
    "    'reg_alpha': hp.loguniform('reg_alpha', -5, -1),\n",
    "    'reg_lambda': hp.loguniform('reg_lambda', -6, -1),\n",
    "    'min_child_weight': hp.loguniform('min_child_weight', -1, 3),\n",
    "    'objective': 'reg:linear',\n",
    "    'seed': 42\n",
    "}"
   ]
  },
  {
   "cell_type": "markdown",
   "id": "1faa30e9",
   "metadata": {},
   "source": [
    "**We then just need to pass all this information to the `fmin` method, which will try to optimize the algorithm based on the output:**"
   ]
  },
  {
   "cell_type": "code",
   "execution_count": 16,
   "id": "a571961b",
   "metadata": {
    "ExecuteTime": {
     "end_time": "2022-05-24T18:10:14.909320Z",
     "start_time": "2022-05-24T18:10:09.097439Z"
    },
    "scrolled": true
   },
   "outputs": [
    {
     "name": "stdout",
     "output_type": "stream",
     "text": [
      "[19:10:09] WARNING: ../src/objective/regression_obj.cu:203: reg:linear is now deprecated in favor of reg:squarederror.                                                                                             \n",
      "[0]\tvalidation-rmse:20.03022                                                                                                                                                                                       \n",
      "[1]\tvalidation-rmse:18.95083                                                                                                                                                                                       \n",
      "[2]\tvalidation-rmse:17.94994                                                                                                                                                                                       \n",
      "[3]\tvalidation-rmse:17.02178                                                                                                                                                                                       \n",
      "[4]\tvalidation-rmse:16.16269                                                                                                                                                                                       \n",
      "[19:10:09] WARNING: ../src/objective/regression_obj.cu:203: reg:linear is now deprecated in favor of reg:squarederror.                                                                                             \n",
      "[0]\tvalidation-rmse:16.43921                                                                                                                                                                                       \n",
      "[1]\tvalidation-rmse:13.11136                                                                                                                                                                                       \n",
      "[2]\tvalidation-rmse:10.83796                                                                                                                                                                                       \n",
      "[3]\tvalidation-rmse:9.32116                                                                                                                                                                                        \n",
      "[4]\tvalidation-rmse:8.33290                                                                                                                                                                                        \n",
      "[19:10:10] WARNING: ../src/objective/regression_obj.cu:203: reg:linear is now deprecated in favor of reg:squarederror.                                                                                             \n",
      "[0]\tvalidation-rmse:14.88498                                                                                                                                                                                       \n",
      "[1]\tvalidation-rmse:11.13154                                                                                                                                                                                       \n",
      "[2]\tvalidation-rmse:9.00843                                                                                                                                                                                        \n",
      "[3]\tvalidation-rmse:7.86665                                                                                                                                                                                        \n",
      "[4]\tvalidation-rmse:7.26161                                                                                                                                                                                        \n",
      "[19:10:12] WARNING: ../src/objective/regression_obj.cu:203: reg:linear is now deprecated in favor of reg:squarederror.                                                                                             \n",
      "[0]\tvalidation-rmse:7.03648                                                                                                                                                                                        \n",
      "[1]\tvalidation-rmse:6.76630                                                                                                                                                                                        \n",
      "[2]\tvalidation-rmse:6.74375                                                                                                                                                                                        \n",
      "[3]\tvalidation-rmse:6.73151                                                                                                                                                                                        \n",
      "[4]\tvalidation-rmse:6.71107                                                                                                                                                                                        \n",
      "[19:10:13] WARNING: ../src/objective/regression_obj.cu:203: reg:linear is now deprecated in favor of reg:squarederror.                                                                                             \n",
      "[0]\tvalidation-rmse:17.45951                                                                                                                                                                                       \n",
      "[1]\tvalidation-rmse:14.60080                                                                                                                                                                                       \n",
      "[2]\tvalidation-rmse:12.43882                                                                                                                                                                                       \n",
      "[3]\tvalidation-rmse:10.82499                                                                                                                                                                                       \n",
      "[4]\tvalidation-rmse:9.63843                                                                                                                                                                                        \n",
      "100%|███████████████████████████████████████████████████████████████████████████████████████████████████████████████████████████████████████████████| 5/5 [00:05<00:00,  1.16s/trial, best loss: 6.711068522172503]\n"
     ]
    }
   ],
   "source": [
    "best_result = fmin(\n",
    "    fn=objective,\n",
    "    space=search_space,\n",
    "    algo=tpe.suggest,\n",
    "    max_evals=5,\n",
    "    trials=Trials()\n",
    ")"
   ]
  },
  {
   "cell_type": "markdown",
   "id": "02e9f669",
   "metadata": {},
   "source": [
    "#### Best model - Logging using [MLflow Autolog](https://www.mlflow.org/docs/latest/tracking.html#automatic-logging)"
   ]
  },
  {
   "cell_type": "code",
   "execution_count": 45,
   "id": "b253f63c",
   "metadata": {
    "ExecuteTime": {
     "end_time": "2022-05-24T18:19:00.734931Z",
     "start_time": "2022-05-24T18:18:57.251202Z"
    }
   },
   "outputs": [
    {
     "name": "stderr",
     "output_type": "stream",
     "text": [
      "2022/05/24 19:18:57 INFO mlflow.utils.autologging_utils: Created MLflow autologging run with ID 'f1b7e3df3bc34840b0fa21bb9154622d', which will track hyperparameters, performance metrics, model artifacts, and lineage information for the current xgboost workflow\n"
     ]
    },
    {
     "name": "stdout",
     "output_type": "stream",
     "text": [
      "[19:18:57] WARNING: ../src/objective/regression_obj.cu:203: reg:linear is now deprecated in favor of reg:squarederror.\n",
      "[0]\tvalidation-rmse:11.48514\n",
      "[1]\tvalidation-rmse:8.13053\n",
      "[2]\tvalidation-rmse:7.12203\n",
      "[3]\tvalidation-rmse:6.80977\n",
      "[4]\tvalidation-rmse:6.70163\n",
      "[5]\tvalidation-rmse:6.65216\n",
      "[6]\tvalidation-rmse:6.63022\n",
      "[7]\tvalidation-rmse:6.62096\n",
      "[8]\tvalidation-rmse:6.61372\n",
      "[9]\tvalidation-rmse:6.60731\n"
     ]
    },
    {
     "name": "stderr",
     "output_type": "stream",
     "text": [
      "2022/05/24 19:18:59 WARNING mlflow.xgboost: Failed to infer model signature: could not sample data to infer model signature: please ensure that autologging is enabled before constructing the dataset.\n"
     ]
    }
   ],
   "source": [
    "best_params = {\n",
    "    'learning_rate':0.570702300238333,\n",
    "    'max_depth':17,\n",
    "    'min_child_weight':7.76003400718519,\n",
    "    'objective':'reg:linear',\n",
    "    'reg_alpha':0.16317457361827653,\n",
    "    'reg_lambda':0.004256583581726441,\n",
    "    'seed':42,\n",
    "}\n",
    "\n",
    "# It just works with some packages - It autologs the parameters of the given model\n",
    "mlflow.xgboost.autolog() # reference - https://www.mlflow.org/docs/latest/tracking.html#automatic-logging\n",
    "booster = xgb.train(\n",
    "    params = best_params, \n",
    "    dtrain=train, \n",
    "    num_boost_round = 10, #,1000, # Maximum of 1000 iterations\n",
    "    evals=[(valid, 'validation')], # Validation set to control the optimization algorithm\n",
    "    early_stopping_rounds=50, # if there are 50 iterations without improvement then the validation will stop\n",
    "    verbose_eval=1,\n",
    ")\n",
    "y_pred = booster.predict(valid)\n",
    "rmse = mean_squared_error(y_val, y_pred, squared=False)\n",
    "mlflow.log_metric('rmse', rmse)"
   ]
  },
  {
   "cell_type": "markdown",
   "id": "b21b78e2",
   "metadata": {},
   "source": [
    "After using it one must disable it:"
   ]
  },
  {
   "cell_type": "code",
   "execution_count": 46,
   "id": "d8845ed9",
   "metadata": {
    "ExecuteTime": {
     "end_time": "2022-05-24T18:19:30.131068Z",
     "start_time": "2022-05-24T18:19:30.109044Z"
    }
   },
   "outputs": [],
   "source": [
    "mlflow.xgboost.autolog(disable=True)\n",
    "mlflow.end_run()"
   ]
  },
  {
   "cell_type": "markdown",
   "id": "5c928854",
   "metadata": {},
   "source": [
    "#### Correctly saving the Model and the Preprocessor"
   ]
  },
  {
   "cell_type": "code",
   "execution_count": 47,
   "id": "4d3546cc",
   "metadata": {
    "ExecuteTime": {
     "end_time": "2022-05-24T18:19:33.068998Z",
     "start_time": "2022-05-24T18:19:31.282322Z"
    },
    "scrolled": false
   },
   "outputs": [
    {
     "name": "stdout",
     "output_type": "stream",
     "text": [
      "[19:19:31] WARNING: ../src/objective/regression_obj.cu:203: reg:linear is now deprecated in favor of reg:squarederror.\n",
      "[0]\tvalidation-rmse:11.48514\n",
      "[1]\tvalidation-rmse:8.13053\n",
      "[2]\tvalidation-rmse:7.12203\n",
      "[3]\tvalidation-rmse:6.80977\n",
      "[4]\tvalidation-rmse:6.70163\n",
      "[5]\tvalidation-rmse:6.65216\n",
      "[6]\tvalidation-rmse:6.63022\n",
      "[7]\tvalidation-rmse:6.62096\n",
      "[8]\tvalidation-rmse:6.61372\n",
      "[9]\tvalidation-rmse:6.60731\n"
     ]
    }
   ],
   "source": [
    "with mlflow.start_run():\n",
    "    \n",
    "    best_params = {\n",
    "        'learning_rate':0.570702300238333,\n",
    "        'max_depth':17,\n",
    "        'min_child_weight':7.76003400718519,\n",
    "        'objective':'reg:linear',\n",
    "        'reg_alpha':0.16317457361827653,\n",
    "        'reg_lambda':0.004256583581726441,\n",
    "        'seed':42,\n",
    "    }\n",
    "    \n",
    "    mlflow.log_params(best_params)\n",
    "    \n",
    "    booster = xgb.train(\n",
    "        params = best_params, \n",
    "        dtrain=train, \n",
    "        num_boost_round = 10, # 1000,\n",
    "        evals=[(valid, 'validation')],\n",
    "        early_stopping_rounds=50,\n",
    "        verbose_eval=1,\n",
    "    )\n",
    "    \n",
    "    y_pred = booster.predict(valid)\n",
    "    rmse = mean_squared_error(y_val, y_pred, squared=False)\n",
    "    mlflow.log_metric('rmse', rmse)\n",
    "    \n",
    "    # Log the preprocessor\n",
    "    with open('models/preprocessor.b', 'wb') as f_out:\n",
    "        pickle.dump(dv, f_out)\n",
    "    mlflow.log_artifact(\"models/preprocessor.b\", artifact_path='preprocessor')\n",
    "    \n",
    "    # log the model\n",
    "    mlflow.xgboost.log_model(booster, artifact_path='models')"
   ]
  },
  {
   "cell_type": "code",
   "execution_count": 22,
   "id": "31a60f3d",
   "metadata": {
    "ExecuteTime": {
     "end_time": "2022-05-24T18:13:48.316396Z",
     "start_time": "2022-05-24T18:13:48.305646Z"
    }
   },
   "outputs": [],
   "source": [
    "mlflow.end_run()"
   ]
  },
  {
   "cell_type": "markdown",
   "id": "e72f759a",
   "metadata": {},
   "source": [
    "### Make predictions with the saved model"
   ]
  },
  {
   "cell_type": "markdown",
   "id": "3ccf649d",
   "metadata": {},
   "source": [
    "Code was copied from mlflow model section"
   ]
  },
  {
   "cell_type": "markdown",
   "id": "e3900e56",
   "metadata": {},
   "source": [
    "#### Loaded as a python function - `pyfunc`"
   ]
  },
  {
   "cell_type": "code",
   "execution_count": 25,
   "id": "4ed245ac",
   "metadata": {
    "ExecuteTime": {
     "end_time": "2022-05-24T18:15:13.657746Z",
     "start_time": "2022-05-24T18:15:13.625837Z"
    }
   },
   "outputs": [
    {
     "name": "stdout",
     "output_type": "stream",
     "text": [
      "[19:15:13] WARNING: ../src/objective/regression_obj.cu:203: reg:linear is now deprecated in favor of reg:squarederror.\n"
     ]
    }
   ],
   "source": [
    "logged_model = 'runs:/6e831310b8884145b6151491fe2570e5/models'\n",
    "\n",
    "# Load model as a PyFuncModel.\n",
    "loaded_model = mlflow.pyfunc.load_model(logged_model)"
   ]
  },
  {
   "cell_type": "code",
   "execution_count": 26,
   "id": "d86c14dd",
   "metadata": {
    "ExecuteTime": {
     "end_time": "2022-05-24T18:15:14.438214Z",
     "start_time": "2022-05-24T18:15:14.431633Z"
    }
   },
   "outputs": [
    {
     "data": {
      "text/plain": [
       "mlflow.pyfunc.loaded_model:\n",
       "  artifact_path: models\n",
       "  flavor: mlflow.xgboost\n",
       "  run_id: 6e831310b8884145b6151491fe2570e5"
      ]
     },
     "execution_count": 26,
     "metadata": {},
     "output_type": "execute_result"
    }
   ],
   "source": [
    "loaded_model"
   ]
  },
  {
   "cell_type": "markdown",
   "id": "42871845",
   "metadata": {},
   "source": [
    "#### Loaded as a XGBoost model"
   ]
  },
  {
   "cell_type": "code",
   "execution_count": 27,
   "id": "c4f6c212",
   "metadata": {
    "ExecuteTime": {
     "end_time": "2022-05-24T18:15:15.233825Z",
     "start_time": "2022-05-24T18:15:15.200249Z"
    }
   },
   "outputs": [
    {
     "name": "stdout",
     "output_type": "stream",
     "text": [
      "[19:15:15] WARNING: ../src/objective/regression_obj.cu:203: reg:linear is now deprecated in favor of reg:squarederror.\n"
     ]
    }
   ],
   "source": [
    "xgboost_model = mlflow.xgboost.load_model(logged_model)"
   ]
  },
  {
   "cell_type": "code",
   "execution_count": 28,
   "id": "b9ce1f01",
   "metadata": {
    "ExecuteTime": {
     "end_time": "2022-05-24T18:15:15.516758Z",
     "start_time": "2022-05-24T18:15:15.510812Z"
    }
   },
   "outputs": [
    {
     "data": {
      "text/plain": [
       "<xgboost.core.Booster at 0x7f56430daf10>"
      ]
     },
     "execution_count": 28,
     "metadata": {},
     "output_type": "execute_result"
    }
   ],
   "source": [
    "xgboost_model"
   ]
  },
  {
   "cell_type": "code",
   "execution_count": 29,
   "id": "35fac4e6",
   "metadata": {
    "ExecuteTime": {
     "end_time": "2022-05-24T18:15:15.883998Z",
     "start_time": "2022-05-24T18:15:15.826791Z"
    }
   },
   "outputs": [
    {
     "data": {
      "text/plain": [
       "6.607305727235761"
      ]
     },
     "execution_count": 29,
     "metadata": {},
     "output_type": "execute_result"
    }
   ],
   "source": [
    "y_pred = xgboost_model.predict(valid)\n",
    "mean_squared_error(y_val, y_pred, squared=False)"
   ]
  },
  {
   "cell_type": "markdown",
   "id": "29e28aa6",
   "metadata": {},
   "source": [
    "Which corresponds to the values in mlflow ui"
   ]
  },
  {
   "cell_type": "markdown",
   "id": "6379a7fe",
   "metadata": {},
   "source": [
    "### Register several models"
   ]
  },
  {
   "cell_type": "code",
   "execution_count": 78,
   "id": "756c9adb",
   "metadata": {
    "ExecuteTime": {
     "end_time": "2022-05-24T18:30:49.583252Z",
     "start_time": "2022-05-24T18:30:49.575279Z"
    }
   },
   "outputs": [],
   "source": [
    "from sklearn.ensemble import GradientBoostingRegressor\n",
    "from sklearn.svm import LinearSVR\n",
    "from sklearn.linear_model import LinearRegression\n",
    "\n",
    "mlflow.sklearn.autolog()\n",
    "\n",
    "for model_class in (GradientBoostingRegressor, LinearSVR, LinearRegression):\n",
    "\n",
    "    with mlflow.start_run():\n",
    "\n",
    "        mlflow.log_param(\"train-data-path\", \"./data/green_tripdata_2021-01.csv\")\n",
    "        mlflow.log_param(\"valid-data-path\", \"./data/green_tripdata_2021-02.csv\")\n",
    "        \n",
    "        # We do not need to save the preprocessor again in the folder, since it is the same as used before, we can just get it\n",
    "        mlflow.log_artifact(\"models/preprocessor.b\", artifact_path=\"preprocessor\")\n",
    "\n",
    "        mlmodel = model_class()\n",
    "        mlmodel.fit(X_train, y_train)\n",
    "\n",
    "        y_pred = mlmodel.predict(X_val)\n",
    "        rmse = mean_squared_error(y_val, y_pred, squared=False)\n",
    "        mlflow.log_metric(\"rmse\", rmse)"
   ]
  },
  {
   "cell_type": "code",
   "execution_count": 31,
   "id": "16b3e5ab",
   "metadata": {
    "ExecuteTime": {
     "end_time": "2022-05-24T18:15:45.899505Z",
     "start_time": "2022-05-24T18:15:45.891205Z"
    }
   },
   "outputs": [],
   "source": [
    "mlflow.end_run()"
   ]
  },
  {
   "cell_type": "markdown",
   "id": "c435cace",
   "metadata": {},
   "source": [
    "## Access mlflow using Client class"
   ]
  },
  {
   "cell_type": "code",
   "execution_count": 32,
   "id": "6b71a9a1",
   "metadata": {
    "ExecuteTime": {
     "end_time": "2022-05-24T18:16:09.899424Z",
     "start_time": "2022-05-24T18:16:09.896496Z"
    }
   },
   "outputs": [],
   "source": [
    "from mlflow.tracking import MlflowClient"
   ]
  },
  {
   "cell_type": "code",
   "execution_count": 33,
   "id": "63c4d837",
   "metadata": {
    "ExecuteTime": {
     "end_time": "2022-05-24T18:16:10.276288Z",
     "start_time": "2022-05-24T18:16:10.267857Z"
    }
   },
   "outputs": [],
   "source": [
    "# Use the same tracking database used in the experience\n",
    "MLFLOW_TRACKING_URI = \"sqlite:///mlflow.db\"\n",
    "\n",
    "client = MlflowClient(tracking_uri=MLFLOW_TRACKING_URI)"
   ]
  },
  {
   "cell_type": "markdown",
   "id": "3a6b1c02",
   "metadata": {},
   "source": [
    "#### Check experiment"
   ]
  },
  {
   "cell_type": "code",
   "execution_count": 34,
   "id": "c927edfd",
   "metadata": {
    "ExecuteTime": {
     "end_time": "2022-05-24T18:16:12.432280Z",
     "start_time": "2022-05-24T18:16:12.417861Z"
    }
   },
   "outputs": [
    {
     "data": {
      "text/plain": [
       "[<Experiment: artifact_location='./mlruns/0', experiment_id='0', lifecycle_stage='active', name='Default', tags={}>,\n",
       " <Experiment: artifact_location='./mlruns/1', experiment_id='1', lifecycle_stage='active', name='nyc-taxi-experiment', tags={}>]"
      ]
     },
     "execution_count": 34,
     "metadata": {},
     "output_type": "execute_result"
    }
   ],
   "source": [
    "client.list_experiments()"
   ]
  },
  {
   "cell_type": "markdown",
   "id": "a5e6088b",
   "metadata": {},
   "source": [
    "Only one experiment, which is the `nyc-taxi-experiment`"
   ]
  },
  {
   "cell_type": "markdown",
   "id": "93eee62a",
   "metadata": {},
   "source": [
    "#### Create experiment"
   ]
  },
  {
   "cell_type": "code",
   "execution_count": 35,
   "id": "a73f6f4a",
   "metadata": {
    "ExecuteTime": {
     "end_time": "2022-05-24T18:16:15.174292Z",
     "start_time": "2022-05-24T18:16:15.152251Z"
    }
   },
   "outputs": [
    {
     "data": {
      "text/plain": [
       "'2'"
      ]
     },
     "execution_count": 35,
     "metadata": {},
     "output_type": "execute_result"
    }
   ],
   "source": [
    "client.create_experiment(name='new_experiment')"
   ]
  },
  {
   "cell_type": "markdown",
   "id": "ea294948",
   "metadata": {},
   "source": [
    "#### Search Runs of a given experiment"
   ]
  },
  {
   "cell_type": "code",
   "execution_count": 42,
   "id": "c86be2c1",
   "metadata": {
    "ExecuteTime": {
     "end_time": "2022-05-24T18:17:39.375244Z",
     "start_time": "2022-05-24T18:17:39.371936Z"
    }
   },
   "outputs": [],
   "source": [
    "from mlflow.entities import ViewType"
   ]
  },
  {
   "cell_type": "code",
   "execution_count": 48,
   "id": "653bdd9b",
   "metadata": {
    "ExecuteTime": {
     "end_time": "2022-05-24T18:20:11.759995Z",
     "start_time": "2022-05-24T18:20:11.737453Z"
    }
   },
   "outputs": [
    {
     "name": "stdout",
     "output_type": "stream",
     "text": [
      "run id: 0f567fa5b80e4d15922af70e1994d696, rmse 6.6073\n",
      "run id: 6e831310b8884145b6151491fe2570e5, rmse 6.6073\n",
      "run id: b7f65e1b10864405b4c8fdffb0e37855, rmse 6.7423\n",
      "run id: 7e87cfd6c55c410faf58784566e633c4, rmse 7.7587\n",
      "run id: 12731cc9a3ab47109422ba10628f548f, rmse 902.3254\n"
     ]
    }
   ],
   "source": [
    "runs = client.search_runs(\n",
    "    experiment_ids='1',\n",
    "    filter_string=\"\",\n",
    "    run_view_type=ViewType.ACTIVE_ONLY, \n",
    "    max_results=5,\n",
    "    order_by=[\"metrics.rmse ASC\"]\n",
    ")\n",
    "\n",
    "for run in runs:\n",
    "    print(f\"run id: {run.info.run_id}, rmse {run.data.metrics['rmse']:.4f}\")"
   ]
  },
  {
   "cell_type": "code",
   "execution_count": 49,
   "id": "cba4c6a3",
   "metadata": {
    "ExecuteTime": {
     "end_time": "2022-05-24T18:20:13.620162Z",
     "start_time": "2022-05-24T18:20:13.593198Z"
    }
   },
   "outputs": [
    {
     "name": "stdout",
     "output_type": "stream",
     "text": [
      "run id: 0f567fa5b80e4d15922af70e1994d696, rmse 6.6073\n",
      "run id: 6e831310b8884145b6151491fe2570e5, rmse 6.6073\n",
      "run id: b7f65e1b10864405b4c8fdffb0e37855, rmse 6.7423\n"
     ]
    }
   ],
   "source": [
    "runs = client.search_runs(\n",
    "    experiment_ids='1',\n",
    "    filter_string=\"metrics.rmse < 6.80\",\n",
    "    run_view_type=ViewType.ACTIVE_ONLY, \n",
    "    max_results=5,\n",
    "    order_by=[\"metrics.rmse ASC\"]\n",
    ")\n",
    "for run in runs:\n",
    "    print(f\"run id: {run.info.run_id}, rmse {run.data.metrics['rmse']:.4f}\")"
   ]
  },
  {
   "cell_type": "markdown",
   "id": "94aa1e6d",
   "metadata": {},
   "source": [
    "### Promote Models"
   ]
  },
  {
   "cell_type": "code",
   "execution_count": 50,
   "id": "5f1faf98",
   "metadata": {
    "ExecuteTime": {
     "end_time": "2022-05-24T18:20:17.397268Z",
     "start_time": "2022-05-24T18:20:17.389656Z"
    }
   },
   "outputs": [],
   "source": [
    "import mlflow\n",
    "\n",
    "mlflow.set_tracking_uri(MLFLOW_TRACKING_URI)"
   ]
  },
  {
   "cell_type": "markdown",
   "id": "6ef80600",
   "metadata": {},
   "source": [
    "#### Register a Model"
   ]
  },
  {
   "cell_type": "code",
   "execution_count": 51,
   "id": "3821b37a",
   "metadata": {
    "ExecuteTime": {
     "end_time": "2022-05-24T18:20:47.579258Z",
     "start_time": "2022-05-24T18:20:47.528808Z"
    }
   },
   "outputs": [
    {
     "name": "stderr",
     "output_type": "stream",
     "text": [
      "Successfully registered model 'nyc-taxi-model'.\n",
      "2022/05/24 19:20:47 INFO mlflow.tracking._model_registry.client: Waiting up to 300 seconds for model version to finish creation.                     Model name: nyc-taxi-model, version 1\n",
      "Created version '1' of model 'nyc-taxi-model'.\n"
     ]
    },
    {
     "data": {
      "text/plain": [
       "<ModelVersion: creation_timestamp=1653416447564, current_stage='None', description=None, last_updated_timestamp=1653416447564, name='nyc-taxi-model', run_id='0f567fa5b80e4d15922af70e1994d696', run_link=None, source='./mlruns/1/0f567fa5b80e4d15922af70e1994d696/artifacts/model', status='READY', status_message=None, tags={}, user_id=None, version=1>"
      ]
     },
     "execution_count": 51,
     "metadata": {},
     "output_type": "execute_result"
    }
   ],
   "source": [
    "run_id = '0f567fa5b80e4d15922af70e1994d696'\n",
    "model_uri = f\"runs:/{run_id}/model\"\n",
    "\n",
    "mlflow.register_model(model_uri=model_uri, name='nyc-taxi-model')"
   ]
  },
  {
   "cell_type": "code",
   "execution_count": 53,
   "id": "4ff4cfaa",
   "metadata": {
    "ExecuteTime": {
     "end_time": "2022-05-24T18:22:11.205742Z",
     "start_time": "2022-05-24T18:22:11.174005Z"
    }
   },
   "outputs": [
    {
     "name": "stderr",
     "output_type": "stream",
     "text": [
      "Registered model 'nyc-taxi-model' already exists. Creating a new version of this model...\n",
      "2022/05/24 19:22:11 INFO mlflow.tracking._model_registry.client: Waiting up to 300 seconds for model version to finish creation.                     Model name: nyc-taxi-model, version 2\n",
      "Created version '2' of model 'nyc-taxi-model'.\n"
     ]
    },
    {
     "data": {
      "text/plain": [
       "<ModelVersion: creation_timestamp=1653416531193, current_stage='None', description=None, last_updated_timestamp=1653416531193, name='nyc-taxi-model', run_id='b7f65e1b10864405b4c8fdffb0e37855', run_link=None, source='./mlruns/1/b7f65e1b10864405b4c8fdffb0e37855/artifacts/model', status='READY', status_message=None, tags={}, user_id=None, version=2>"
      ]
     },
     "execution_count": 53,
     "metadata": {},
     "output_type": "execute_result"
    }
   ],
   "source": [
    "gb_model = 'b7f65e1b10864405b4c8fdffb0e37855'\n",
    "model_uri = f\"runs:/{gb_model}/model\"\n",
    "\n",
    "mlflow.register_model(model_uri=model_uri, name='nyc-taxi-model')"
   ]
  },
  {
   "cell_type": "markdown",
   "id": "21a462aa",
   "metadata": {},
   "source": [
    "#### Transition a model to a different stage"
   ]
  },
  {
   "cell_type": "code",
   "execution_count": 54,
   "id": "de9b727e",
   "metadata": {
    "ExecuteTime": {
     "end_time": "2022-05-24T18:22:16.001473Z",
     "start_time": "2022-05-24T18:22:15.992099Z"
    },
    "scrolled": true
   },
   "outputs": [
    {
     "data": {
      "text/plain": [
       "[<RegisteredModel: creation_timestamp=1653416447549, description=None, last_updated_timestamp=1653416531193, latest_versions=[<ModelVersion: creation_timestamp=1653416531193, current_stage='None', description=None, last_updated_timestamp=1653416531193, name='nyc-taxi-model', run_id='b7f65e1b10864405b4c8fdffb0e37855', run_link=None, source='./mlruns/1/b7f65e1b10864405b4c8fdffb0e37855/artifacts/model', status='READY', status_message=None, tags={}, user_id=None, version=2>], name='nyc-taxi-model', tags={}>]"
      ]
     },
     "execution_count": 54,
     "metadata": {},
     "output_type": "execute_result"
    }
   ],
   "source": [
    "client.list_registered_models()"
   ]
  },
  {
   "cell_type": "code",
   "execution_count": 62,
   "id": "303e26cf",
   "metadata": {
    "ExecuteTime": {
     "end_time": "2022-05-24T18:23:01.466805Z",
     "start_time": "2022-05-24T18:23:01.455170Z"
    },
    "scrolled": true
   },
   "outputs": [
    {
     "name": "stdout",
     "output_type": "stream",
     "text": [
      "version: 1, stage: Production\n",
      "version: 2, stage: Staging\n"
     ]
    }
   ],
   "source": [
    "model_name = 'nyc-taxi-model'\n",
    "latest_versions = client.get_latest_versions(name=model_name)\n",
    "\n",
    "for version in latest_versions:\n",
    "    print(f\"version: {version.version}, stage: {version.current_stage}\")"
   ]
  },
  {
   "cell_type": "code",
   "execution_count": 60,
   "id": "da49ef19",
   "metadata": {
    "ExecuteTime": {
     "end_time": "2022-05-24T18:22:55.570669Z",
     "start_time": "2022-05-24T18:22:55.540440Z"
    }
   },
   "outputs": [
    {
     "data": {
      "text/plain": [
       "<ModelVersion: creation_timestamp=1653416447564, current_stage='Production', description=None, last_updated_timestamp=1653416575550, name='nyc-taxi-model', run_id='0f567fa5b80e4d15922af70e1994d696', run_link=None, source='./mlruns/1/0f567fa5b80e4d15922af70e1994d696/artifacts/model', status='READY', status_message=None, tags={}, user_id=None, version=1>"
      ]
     },
     "execution_count": 60,
     "metadata": {},
     "output_type": "execute_result"
    }
   ],
   "source": [
    "model_version = 1\n",
    "new_stage = 'Production'\n",
    "\n",
    "client.transition_model_version_stage(\n",
    "    name=model_name, \n",
    "    version=model_version, \n",
    "    stage=new_stage,\n",
    "    archive_existing_versions=False,\n",
    ")"
   ]
  },
  {
   "cell_type": "code",
   "execution_count": 61,
   "id": "ede16d1c",
   "metadata": {
    "ExecuteTime": {
     "end_time": "2022-05-24T18:22:57.345289Z",
     "start_time": "2022-05-24T18:22:57.316156Z"
    }
   },
   "outputs": [
    {
     "data": {
      "text/plain": [
       "<ModelVersion: creation_timestamp=1653416447564, current_stage='Production', description='The model version 1 was transitioned to Production on 2022-05-24', last_updated_timestamp=1653416577324, name='nyc-taxi-model', run_id='0f567fa5b80e4d15922af70e1994d696', run_link=None, source='./mlruns/1/0f567fa5b80e4d15922af70e1994d696/artifacts/model', status='READY', status_message=None, tags={}, user_id=None, version=1>"
      ]
     },
     "execution_count": 61,
     "metadata": {},
     "output_type": "execute_result"
    }
   ],
   "source": [
    "from datetime import datetime\n",
    "date = datetime.today().date()\n",
    "client.update_model_version(\n",
    "    name=model_name,\n",
    "    version=model_version,\n",
    "    description=f\"The model version {model_version} was transitioned to {new_stage} on {date}\"\n",
    ")"
   ]
  },
  {
   "cell_type": "code",
   "execution_count": 63,
   "id": "15f4c46d",
   "metadata": {
    "ExecuteTime": {
     "end_time": "2022-05-24T18:23:04.058572Z",
     "start_time": "2022-05-24T18:23:04.047251Z"
    }
   },
   "outputs": [
    {
     "name": "stdout",
     "output_type": "stream",
     "text": [
      "version: 1, stage: Production\n",
      "version: 2, stage: Staging\n"
     ]
    }
   ],
   "source": [
    "model_name = 'nyc-taxi-model'\n",
    "latest_versions = client.get_latest_versions(name=model_name)\n",
    "\n",
    "for version in latest_versions:\n",
    "    print(f\"version: {version.version}, stage: {version.current_stage}\")"
   ]
  },
  {
   "cell_type": "markdown",
   "id": "92c78d14",
   "metadata": {},
   "source": [
    "### Comparing versions and selecting the new \"Production\" model"
   ]
  },
  {
   "cell_type": "code",
   "execution_count": 64,
   "id": "0382de72",
   "metadata": {
    "ExecuteTime": {
     "end_time": "2022-05-24T18:23:09.167469Z",
     "start_time": "2022-05-24T18:23:09.146110Z"
    }
   },
   "outputs": [],
   "source": [
    "from sklearn.metrics import mean_squared_error\n",
    "import pandas as pd\n",
    "\n",
    "\n",
    "def load_data(filename):\n",
    "    \n",
    "    df = pd.read_parquet(os.path.join('data', filename))\n",
    "    \n",
    "    # Transform to datetime\n",
    "    df.lpep_dropoff_datetime = pd.to_datetime(df.lpep_dropoff_datetime)\n",
    "    df.lpep_pickup_datetime = pd.to_datetime(df.lpep_pickup_datetime)\n",
    "    \n",
    "    # Define Target\n",
    "    df['duration'] = df.lpep_dropoff_datetime - df.lpep_pickup_datetime\n",
    "    df['duration'] = df.duration.dt.total_seconds() / 60\n",
    "    \n",
    "    # Filter trips by duration\n",
    "    df = df[(df.duration >= 1) & (df.duration <= 60)].copy()\n",
    "    \n",
    "    # Transform categorical features in use\n",
    "    categorical = ['PULocationID', 'DOLocationID']\n",
    "    df[categorical] = df[categorical].astype(str)\n",
    "    \n",
    "    return df\n",
    "\n",
    "\n",
    "def preprocess(df, dv):\n",
    "    df['PU_DO'] = df['PULocationID'] + '_' + df['DOLocationID']\n",
    "    categorical = ['PU_DO']\n",
    "    numerical = ['trip_distance']\n",
    "    train_dicts = df[categorical + numerical].to_dict(orient='records')\n",
    "    return dv.transform(train_dicts)\n",
    "\n",
    "\n",
    "def test_model(name, stage, X_test, y_test):\n",
    "    model = mlflow.pyfunc.load_model(f\"models:/{name}/{stage}\")\n",
    "    y_pred = model.predict(X_test)\n",
    "    return {\"rmse\": mean_squared_error(y_test, y_pred, squared=False)}"
   ]
  },
  {
   "cell_type": "code",
   "execution_count": 65,
   "id": "abc5f4b6",
   "metadata": {
    "ExecuteTime": {
     "end_time": "2022-05-24T18:23:09.593795Z",
     "start_time": "2022-05-24T18:23:09.488735Z"
    }
   },
   "outputs": [],
   "source": [
    "df_val2 = load_data(\"green_tripdata_2021-03.parquet\")"
   ]
  },
  {
   "cell_type": "markdown",
   "id": "255af2f7",
   "metadata": {},
   "source": [
    "#### Load the preprocessor"
   ]
  },
  {
   "cell_type": "code",
   "execution_count": 67,
   "id": "5b68839a",
   "metadata": {
    "ExecuteTime": {
     "end_time": "2022-05-24T18:23:39.738626Z",
     "start_time": "2022-05-24T18:23:39.732172Z"
    }
   },
   "outputs": [],
   "source": [
    "# This will pick up the file from a specific run and downloaded in the folder the user wants\n",
    "run_id = 'b7f65e1b10864405b4c8fdffb0e37855'\n",
    "client.download_artifacts(run_id=run_id, path='preprocessor', dst_path='.')"
   ]
  },
  {
   "cell_type": "code",
   "execution_count": 68,
   "id": "e3a2ac09",
   "metadata": {
    "ExecuteTime": {
     "end_time": "2022-05-24T18:23:43.869110Z",
     "start_time": "2022-05-24T18:23:43.856790Z"
    }
   },
   "outputs": [],
   "source": [
    "import pickle\n",
    "with open(\"preprocessor/preprocessor.b\", \"rb\") as f_in:\n",
    "    dv = pickle.load(f_in)"
   ]
  },
  {
   "cell_type": "code",
   "execution_count": 69,
   "id": "f03025cb",
   "metadata": {
    "ExecuteTime": {
     "end_time": "2022-05-24T18:23:44.892175Z",
     "start_time": "2022-05-24T18:23:44.623401Z"
    }
   },
   "outputs": [],
   "source": [
    "X_val2 = preprocess(df_val2, dv)"
   ]
  },
  {
   "cell_type": "markdown",
   "id": "0ae79c5f",
   "metadata": {},
   "source": [
    "#### Predict"
   ]
  },
  {
   "cell_type": "code",
   "execution_count": 70,
   "id": "85fb2ce7",
   "metadata": {
    "ExecuteTime": {
     "end_time": "2022-05-24T18:23:46.670595Z",
     "start_time": "2022-05-24T18:23:46.667690Z"
    }
   },
   "outputs": [],
   "source": [
    "target = 'duration'\n",
    "y_test = df_val2[target].values"
   ]
  },
  {
   "cell_type": "code",
   "execution_count": 75,
   "id": "ca215679",
   "metadata": {
    "ExecuteTime": {
     "end_time": "2022-05-24T18:30:06.091591Z",
     "start_time": "2022-05-24T18:30:06.007803Z"
    }
   },
   "outputs": [
    {
     "name": "stdout",
     "output_type": "stream",
     "text": [
      "[19:30:06] WARNING: ../src/objective/regression_obj.cu:203: reg:linear is now deprecated in favor of reg:squarederror.\n"
     ]
    },
    {
     "data": {
      "text/plain": [
       "{'rmse': 6.5306008747868995}"
      ]
     },
     "execution_count": 75,
     "metadata": {},
     "output_type": "execute_result"
    }
   ],
   "source": [
    "test_model(name=model_name, stage='Production', X_test=X_val2, y_test=y_test)"
   ]
  },
  {
   "cell_type": "code",
   "execution_count": 76,
   "id": "02ac1b52",
   "metadata": {
    "ExecuteTime": {
     "end_time": "2022-05-24T18:30:08.002751Z",
     "start_time": "2022-05-24T18:30:07.892584Z"
    },
    "scrolled": true
   },
   "outputs": [
    {
     "data": {
      "text/plain": [
       "{'rmse': 6.659623830022514}"
      ]
     },
     "execution_count": 76,
     "metadata": {},
     "output_type": "execute_result"
    }
   ],
   "source": [
    "test_model(name=model_name, stage='Staging', X_test=X_val2, y_test=y_test)"
   ]
  },
  {
   "cell_type": "markdown",
   "id": "64bc50e2",
   "metadata": {},
   "source": [
    "#### Transition to production"
   ]
  },
  {
   "cell_type": "code",
   "execution_count": 77,
   "id": "9f10f857",
   "metadata": {
    "ExecuteTime": {
     "end_time": "2022-05-24T18:30:23.283549Z",
     "start_time": "2022-05-24T18:30:23.250678Z"
    }
   },
   "outputs": [
    {
     "data": {
      "text/plain": [
       "<ModelVersion: creation_timestamp=1653416531193, current_stage='Production', description='The model version 2 was transitioned to Production on 2022-05-24', last_updated_timestamp=1653417023272, name='nyc-taxi-model', run_id='b7f65e1b10864405b4c8fdffb0e37855', run_link=None, source='./mlruns/1/b7f65e1b10864405b4c8fdffb0e37855/artifacts/model', status='READY', status_message=None, tags={}, user_id=None, version=2>"
      ]
     },
     "execution_count": 77,
     "metadata": {},
     "output_type": "execute_result"
    }
   ],
   "source": [
    "date = datetime.today().date()\n",
    "model_version=2\n",
    "new_stage = 'Production'\n",
    "\n",
    "client.transition_model_version_stage(\n",
    "    name = model_name,\n",
    "    version = model_version, \n",
    "    stage = new_stage,\n",
    "    archive_existing_versions=True,\n",
    ")\n",
    "\n",
    "client.update_model_version(\n",
    "    name=model_name,\n",
    "    version=model_version,\n",
    "    description=f\"The model version {model_version} was transitioned to {new_stage} on {date}\"\n",
    ")"
   ]
  },
  {
   "cell_type": "markdown",
   "id": "c0fbdb04",
   "metadata": {},
   "source": [
    "---"
   ]
  },
  {
   "cell_type": "code",
   "execution_count": 48,
   "id": "4f9851e9",
   "metadata": {
    "ExecuteTime": {
     "end_time": "2022-05-24T11:16:04.866138Z",
     "start_time": "2022-05-24T11:16:04.860385Z"
    }
   },
   "outputs": [
    {
     "data": {
      "text/html": [
       "<style>.container { width:100% !important; }</style>"
      ],
      "text/plain": [
       "<IPython.core.display.HTML object>"
      ]
     },
     "metadata": {},
     "output_type": "display_data"
    }
   ],
   "source": [
    "from IPython.display import display, HTML\n",
    "display(HTML(\"<style>.container { width:100% !important; }</style>\"))"
   ]
  }
 ],
 "metadata": {
  "kernelspec": {
   "display_name": "Python 3 (ipykernel)",
   "language": "python",
   "name": "python3"
  },
  "language_info": {
   "codemirror_mode": {
    "name": "ipython",
    "version": 3
   },
   "file_extension": ".py",
   "mimetype": "text/x-python",
   "name": "python",
   "nbconvert_exporter": "python",
   "pygments_lexer": "ipython3",
   "version": "3.9.13"
  },
  "toc": {
   "base_numbering": 1,
   "nav_menu": {},
   "number_sections": false,
   "sideBar": true,
   "skip_h1_title": false,
   "title_cell": "Table of Contents",
   "title_sidebar": "Contents",
   "toc_cell": false,
   "toc_position": {
    "height": "calc(100% - 180px)",
    "left": "10px",
    "top": "150px",
    "width": "462.797px"
   },
   "toc_section_display": true,
   "toc_window_display": false
  }
 },
 "nbformat": 4,
 "nbformat_minor": 5
}
